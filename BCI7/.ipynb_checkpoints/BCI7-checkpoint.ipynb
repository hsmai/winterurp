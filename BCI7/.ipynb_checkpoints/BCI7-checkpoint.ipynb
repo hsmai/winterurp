{
 "cells": [
  {
   "cell_type": "markdown",
   "id": "5655ecbf",
   "metadata": {},
   "source": [
    "task)\n",
    "\n",
    "SSVEP 기법으로 측정한 MAMEM3 데이터셋(EEG 데이터)을 EEGNet을 통해  처리"
   ]
  },
  {
   "cell_type": "markdown",
   "id": "1523b14a",
   "metadata": {},
   "source": [
    "MAMEM3 데이터셋)\n",
    "\n",
    "- 11명의 피실험자\n",
    "- 14개의 채널(전극)\n",
    "- 피험자들은 5개의 주파수(6.66, 7.50, 8.57, 10.00, 12.00 Hz)로 깜박이는 자극을 경험\n",
    "\n",
    "\n",
    "자극 방식:\n",
    "\n",
    "피험자들은 **5개의 마젠타 박스(각각 다른 주파수로 깜박임)**를 바라봄\n",
    "\n",
    "특정 박스를 응시하도록 노란색 화살표로 지시\n",
    "\n",
    "EEG 신호가 시각적 자극에 반응하는 방식 분석 가능\n",
    "\n",
    "\n",
    "\n",
    "실험 프로토콜:\n",
    "\n",
    "- 적응(adaptation) 기간:\n",
    "\n",
    "실험 시작 전 100초간의 적응 기간 진행\n",
    "\n",
    "5초 동안 깜박임(자극), 5초 휴식(총 10번 반복)\n",
    "\n",
    "- 세션(session) 진행 방식:\n",
    "\n",
    "5개의 세션으로 구성됨\n",
    "\n",
    "각 세션에서 25개의 깜박임 윈도우 진행\n",
    "\n",
    "5초간 깜박임(자극) + 5초 휴식 반복\n",
    "\n",
    "12번째와 13번째 깜박임 사이에는 30초 휴식\n",
    "\n",
    "각 세션 간 5분 휴식 (5번째 세션 이후에는 휴식 없음)\n",
    "\n",
    "\n",
    "\n",
    "- 주파수 순서:\n",
    "\n",
    "모든 세션에서 주파수의 순서는 동일하지만,\n",
    "\n",
    "세부 주파수 값은 약간의 변동이 있음\n",
    "\n",
    "\n",
    "\n",
    "핵심 목적 : MAMEM3 데이터셋은 Steady-State Visual Evoked Potential (SSVEP) 기반의 뇌-컴퓨터 인터페이스(BCI, Brain-Computer Interface) 연구를 위한 EEG(뇌전도) 데이터를 제공\n",
    "\n",
    "\n",
    "사용자가 의식적으로 특정 시각 자극(주파수)을 선택할 때 발생하는 뇌 신호를 분석하고, 이를 BCI 시스템에 활용할 수 있도록 함\n",
    "\n",
    "즉, 특정 주파수 대역의 시각 자극에 어떤 EEG 신호가 발생하여 얻어지는 지를 확인하고 수집한 데이터 셋"
   ]
  },
  {
   "cell_type": "code",
   "execution_count": 21,
   "id": "eb0b86ff",
   "metadata": {},
   "outputs": [
    {
     "name": "stdout",
     "output_type": "stream",
     "text": [
      "['AlexMI', 'Shin2017A', 'Shin2017B', 'BNCI2014001', 'BNCI2014002', 'BNCI2014004', 'BNCI2014008', 'BNCI2014009', 'BNCI2015001', 'BNCI2015003', 'BNCI2015004', 'BNCI2014_001', 'BNCI2014_002', 'BNCI2014_004', 'BNCI2014_008', 'BNCI2014_009', 'BNCI2015_001', 'BNCI2015_003', 'BNCI2015_004', 'VirtualReality', 'bi2012', 'bi2013a', 'bi2014a', 'bi2014b', 'bi2015a', 'bi2015b', 'BI2012', 'BI2013a', 'BI2014a', 'BI2014b', 'BI2015a', 'BI2015b', 'Cattan2019_VR', 'EPFLP300', 'FakeDataset', 'FakeVirtualRealityDataset', 'Cho2017', 'Huebner2017', 'Huebner2018', 'Lee2019_ERP', 'Lee2019_MI', 'Lee2019_SSVEP', 'MunichMI', 'GrosseWentrup2009', 'DemonsP300', 'HeadMountedDisplay', 'Cattan2019_PHMD', 'PhysionetMI', 'Schirrmeister2017', 'Sosulski2019', 'SSVEPExo', 'Kalunga2016', 'MAMEM1', 'MAMEM2', 'MAMEM3', 'Nakanishi2015', 'Wang2016', 'Thielen2021', 'Ofner2017', 'Weibo2014', 'Zhou2016']\n"
     ]
    }
   ],
   "source": [
    "import moabb.datasets as datasets\n",
    "\n",
    "# MOABB에서 지원하는 데이터셋 목록 출력\n",
    "dataset_list = [cls.__name__ for cls in datasets.__dict__.values() if isinstance(cls, type)]\n",
    "print(dataset_list)"
   ]
  },
  {
   "cell_type": "markdown",
   "id": "b5ee70fc",
   "metadata": {},
   "source": [
    "MAMEM3 가 moabb에서 사용할 수 있는 데이터셋임을 확인 !"
   ]
  },
  {
   "cell_type": "code",
   "execution_count": 22,
   "id": "365856b3",
   "metadata": {},
   "outputs": [
    {
     "name": "stdout",
     "output_type": "stream",
     "text": [
      "Requirement already satisfied: numpy in c:\\users\\sangm\\anaconda3\\envs\\moabb\\lib\\site-packages (1.24.3)\n",
      "Requirement already satisfied: moabb in c:\\users\\sangm\\anaconda3\\envs\\moabb\\lib\\site-packages (1.0.0)\n",
      "Requirement already satisfied: PyYAML<7.0,>=6.0 in c:\\users\\sangm\\anaconda3\\envs\\moabb\\lib\\site-packages (from moabb) (6.0.2)\n",
      "Requirement already satisfied: coverage<8.0.0,>=7.0.1 in c:\\users\\sangm\\anaconda3\\envs\\moabb\\lib\\site-packages (from moabb) (7.6.1)\n",
      "Requirement already satisfied: edflib-python<2.0.0,>=1.0.6 in c:\\users\\sangm\\anaconda3\\envs\\moabb\\lib\\site-packages (from moabb) (1.0.8)\n",
      "Requirement already satisfied: h5py<=3.8.0 in c:\\users\\sangm\\anaconda3\\envs\\moabb\\lib\\site-packages (from moabb) (3.8.0)\n",
      "Requirement already satisfied: matplotlib<4.0.0,>=3.6.2 in c:\\users\\sangm\\anaconda3\\envs\\moabb\\lib\\site-packages (from moabb) (3.7.5)\n",
      "Requirement already satisfied: memory-profiler<0.62.0,>=0.61.0 in c:\\users\\sangm\\anaconda3\\envs\\moabb\\lib\\site-packages (from moabb) (0.61.0)\n",
      "Requirement already satisfied: mne<2.0,>=1.4 in c:\\users\\sangm\\anaconda3\\envs\\moabb\\lib\\site-packages (from moabb) (1.6.1)\n",
      "Requirement already satisfied: mne-bids<0.14,>=0.13 in c:\\users\\sangm\\anaconda3\\envs\\moabb\\lib\\site-packages (from moabb) (0.13)\n",
      "Requirement already satisfied: pandas<2.0.0,>=1.5.2 in c:\\users\\sangm\\anaconda3\\envs\\moabb\\lib\\site-packages (from moabb) (1.5.3)\n",
      "Requirement already satisfied: pooch<2.0.0,>=1.6.0 in c:\\users\\sangm\\anaconda3\\envs\\moabb\\lib\\site-packages (from moabb) (1.7.0)\n",
      "Requirement already satisfied: pyriemann<0.6,>=0.5 in c:\\users\\sangm\\anaconda3\\envs\\moabb\\lib\\site-packages (from moabb) (0.5)\n",
      "Requirement already satisfied: pytest<8.0.0,>=7.4.0 in c:\\users\\sangm\\anaconda3\\envs\\moabb\\lib\\site-packages (from moabb) (7.4.4)\n",
      "Requirement already satisfied: requests<3.0.0,>=2.28.1 in c:\\users\\sangm\\anaconda3\\envs\\moabb\\lib\\site-packages (from moabb) (2.32.3)\n",
      "Requirement already satisfied: scikit-learn<2.0.0,>=1.2.0 in c:\\users\\sangm\\anaconda3\\envs\\moabb\\lib\\site-packages (from moabb) (1.3.0)\n",
      "Requirement already satisfied: scipy<2.0.0,>=1.9.3 in c:\\users\\sangm\\anaconda3\\envs\\moabb\\lib\\site-packages (from moabb) (1.10.1)\n",
      "Requirement already satisfied: seaborn<0.13.0,>=0.12.1 in c:\\users\\sangm\\anaconda3\\envs\\moabb\\lib\\site-packages (from moabb) (0.12.2)\n",
      "Requirement already satisfied: tqdm<5.0.0,>=4.64.1 in c:\\users\\sangm\\anaconda3\\envs\\moabb\\lib\\site-packages (from moabb) (4.67.1)\n",
      "Requirement already satisfied: urllib3<2.0.0,>=1.26.15 in c:\\users\\sangm\\anaconda3\\envs\\moabb\\lib\\site-packages (from moabb) (1.26.20)\n",
      "Requirement already satisfied: contourpy>=1.0.1 in c:\\users\\sangm\\anaconda3\\envs\\moabb\\lib\\site-packages (from matplotlib<4.0.0,>=3.6.2->moabb) (1.1.1)\n",
      "Requirement already satisfied: cycler>=0.10 in c:\\users\\sangm\\anaconda3\\envs\\moabb\\lib\\site-packages (from matplotlib<4.0.0,>=3.6.2->moabb) (0.12.1)\n",
      "Requirement already satisfied: fonttools>=4.22.0 in c:\\users\\sangm\\anaconda3\\envs\\moabb\\lib\\site-packages (from matplotlib<4.0.0,>=3.6.2->moabb) (4.55.5)\n",
      "Requirement already satisfied: kiwisolver>=1.0.1 in c:\\users\\sangm\\anaconda3\\envs\\moabb\\lib\\site-packages (from matplotlib<4.0.0,>=3.6.2->moabb) (1.4.7)\n",
      "Requirement already satisfied: packaging>=20.0 in c:\\users\\sangm\\anaconda3\\envs\\moabb\\lib\\site-packages (from matplotlib<4.0.0,>=3.6.2->moabb) (24.1)\n",
      "Requirement already satisfied: pillow>=6.2.0 in c:\\users\\sangm\\anaconda3\\envs\\moabb\\lib\\site-packages (from matplotlib<4.0.0,>=3.6.2->moabb) (10.4.0)\n",
      "Requirement already satisfied: pyparsing>=2.3.1 in c:\\users\\sangm\\anaconda3\\envs\\moabb\\lib\\site-packages (from matplotlib<4.0.0,>=3.6.2->moabb) (3.1.4)\n",
      "Requirement already satisfied: python-dateutil>=2.7 in c:\\users\\sangm\\anaconda3\\envs\\moabb\\lib\\site-packages (from matplotlib<4.0.0,>=3.6.2->moabb) (2.9.0.post0)\n",
      "Requirement already satisfied: importlib-resources>=3.2.0 in c:\\users\\sangm\\anaconda3\\envs\\moabb\\lib\\site-packages (from matplotlib<4.0.0,>=3.6.2->moabb) (6.4.0)\n",
      "Requirement already satisfied: psutil in c:\\users\\sangm\\anaconda3\\envs\\moabb\\lib\\site-packages (from memory-profiler<0.62.0,>=0.61.0->moabb) (5.9.0)\n",
      "Requirement already satisfied: decorator in c:\\users\\sangm\\anaconda3\\envs\\moabb\\lib\\site-packages (from mne<2.0,>=1.4->moabb) (5.1.1)\n",
      "Requirement already satisfied: jinja2 in c:\\users\\sangm\\anaconda3\\envs\\moabb\\lib\\site-packages (from mne<2.0,>=1.4->moabb) (3.1.4)\n",
      "Requirement already satisfied: lazy-loader>=0.3 in c:\\users\\sangm\\anaconda3\\envs\\moabb\\lib\\site-packages (from mne<2.0,>=1.4->moabb) (0.4)\n",
      "Requirement already satisfied: pytz>=2020.1 in c:\\users\\sangm\\anaconda3\\envs\\moabb\\lib\\site-packages (from pandas<2.0.0,>=1.5.2->moabb) (2024.1)\n",
      "Requirement already satisfied: platformdirs>=2.5.0 in c:\\users\\sangm\\anaconda3\\envs\\moabb\\lib\\site-packages (from pooch<2.0.0,>=1.6.0->moabb) (3.10.0)\n",
      "Requirement already satisfied: joblib in c:\\users\\sangm\\anaconda3\\envs\\moabb\\lib\\site-packages (from pyriemann<0.6,>=0.5->moabb) (1.4.2)\n",
      "Requirement already satisfied: iniconfig in c:\\users\\sangm\\anaconda3\\envs\\moabb\\lib\\site-packages (from pytest<8.0.0,>=7.4.0->moabb) (2.0.0)\n",
      "Requirement already satisfied: pluggy<2.0,>=0.12 in c:\\users\\sangm\\anaconda3\\envs\\moabb\\lib\\site-packages (from pytest<8.0.0,>=7.4.0->moabb) (1.5.0)\n",
      "Requirement already satisfied: exceptiongroup>=1.0.0rc8 in c:\\users\\sangm\\anaconda3\\envs\\moabb\\lib\\site-packages (from pytest<8.0.0,>=7.4.0->moabb) (1.2.0)\n",
      "Requirement already satisfied: tomli>=1.0.0 in c:\\users\\sangm\\anaconda3\\envs\\moabb\\lib\\site-packages (from pytest<8.0.0,>=7.4.0->moabb) (2.0.1)\n",
      "Requirement already satisfied: colorama in c:\\users\\sangm\\anaconda3\\envs\\moabb\\lib\\site-packages (from pytest<8.0.0,>=7.4.0->moabb) (0.4.6)\n",
      "Requirement already satisfied: charset-normalizer<4,>=2 in c:\\users\\sangm\\anaconda3\\envs\\moabb\\lib\\site-packages (from requests<3.0.0,>=2.28.1->moabb) (3.3.2)\n",
      "Requirement already satisfied: idna<4,>=2.5 in c:\\users\\sangm\\anaconda3\\envs\\moabb\\lib\\site-packages (from requests<3.0.0,>=2.28.1->moabb) (3.7)\n",
      "Requirement already satisfied: certifi>=2017.4.17 in c:\\users\\sangm\\anaconda3\\envs\\moabb\\lib\\site-packages (from requests<3.0.0,>=2.28.1->moabb) (2024.8.30)\n",
      "Requirement already satisfied: threadpoolctl>=2.0.0 in c:\\users\\sangm\\anaconda3\\envs\\moabb\\lib\\site-packages (from scikit-learn<2.0.0,>=1.2.0->moabb) (3.5.0)\n",
      "Requirement already satisfied: zipp>=3.1.0 in c:\\users\\sangm\\anaconda3\\envs\\moabb\\lib\\site-packages (from importlib-resources>=3.2.0->matplotlib<4.0.0,>=3.6.2->moabb) (3.20.2)\n",
      "Requirement already satisfied: six>=1.5 in c:\\users\\sangm\\anaconda3\\envs\\moabb\\lib\\site-packages (from python-dateutil>=2.7->matplotlib<4.0.0,>=3.6.2->moabb) (1.16.0)\n",
      "Requirement already satisfied: MarkupSafe>=2.0 in c:\\users\\sangm\\anaconda3\\envs\\moabb\\lib\\site-packages (from jinja2->mne<2.0,>=1.4->moabb) (2.1.3)\n"
     ]
    }
   ],
   "source": [
    "!pip install numpy moabb"
   ]
  },
  {
   "cell_type": "code",
   "execution_count": 23,
   "id": "0cf2dd7b",
   "metadata": {},
   "outputs": [],
   "source": [
    "import moabb\n",
    "import numpy as np\n",
    "import mne\n",
    "import torch\n",
    "import torch.nn as nn\n",
    "import torch.optim as optim\n",
    "from moabb.datasets import MAMEM3\n",
    "\n",
    "from moabb.paradigms import SSVEP\n",
    "from sklearn.model_selection import train_test_split\n",
    "from torch.utils.data import DataLoader, TensorDataset\n",
    "from scipy.fftpack import fft"
   ]
  },
  {
   "cell_type": "code",
   "execution_count": 24,
   "id": "f998a57f",
   "metadata": {},
   "outputs": [
    {
     "name": "stderr",
     "output_type": "stream",
     "text": [
      "Choosing the first None classes from all possible events\n"
     ]
    },
    {
     "name": "stdout",
     "output_type": "stream",
     "text": [
      "✅ 데이터 로드 완료: X shape: (80, 14, 385), y shape: (80,)\n"
     ]
    },
    {
     "name": "stderr",
     "output_type": "stream",
     "text": [
      "C:\\Users\\sangm\\anaconda3\\envs\\moabb\\lib\\site-packages\\sklearn\\preprocessing\\_function_transformer.py:312: FutureWarning: The current default of copy=False will change to copy=True in 1.7. Set the value of copy explicitly to avoid this warning\n",
      "  return func(X, **(kw_args if kw_args else {}))\n",
      "C:\\Users\\sangm\\anaconda3\\envs\\moabb\\lib\\site-packages\\sklearn\\preprocessing\\_function_transformer.py:312: FutureWarning: The current default of copy=False will change to copy=True in 1.7. Set the value of copy explicitly to avoid this warning\n",
      "  return func(X, **(kw_args if kw_args else {}))\n",
      "C:\\Users\\sangm\\anaconda3\\envs\\moabb\\lib\\site-packages\\sklearn\\preprocessing\\_function_transformer.py:312: FutureWarning: The current default of copy=False will change to copy=True in 1.7. Set the value of copy explicitly to avoid this warning\n",
      "  return func(X, **(kw_args if kw_args else {}))\n",
      "C:\\Users\\sangm\\anaconda3\\envs\\moabb\\lib\\site-packages\\sklearn\\preprocessing\\_function_transformer.py:312: FutureWarning: The current default of copy=False will change to copy=True in 1.7. Set the value of copy explicitly to avoid this warning\n",
      "  return func(X, **(kw_args if kw_args else {}))\n",
      "C:\\Users\\sangm\\anaconda3\\envs\\moabb\\lib\\site-packages\\sklearn\\preprocessing\\_function_transformer.py:312: FutureWarning: The current default of copy=False will change to copy=True in 1.7. Set the value of copy explicitly to avoid this warning\n",
      "  return func(X, **(kw_args if kw_args else {}))\n",
      "C:\\Users\\sangm\\anaconda3\\envs\\moabb\\lib\\site-packages\\sklearn\\preprocessing\\_function_transformer.py:312: FutureWarning: The current default of copy=False will change to copy=True in 1.7. Set the value of copy explicitly to avoid this warning\n",
      "  return func(X, **(kw_args if kw_args else {}))\n",
      "C:\\Users\\sangm\\anaconda3\\envs\\moabb\\lib\\site-packages\\sklearn\\preprocessing\\_function_transformer.py:312: FutureWarning: The current default of copy=False will change to copy=True in 1.7. Set the value of copy explicitly to avoid this warning\n",
      "  return func(X, **(kw_args if kw_args else {}))\n",
      "C:\\Users\\sangm\\anaconda3\\envs\\moabb\\lib\\site-packages\\sklearn\\preprocessing\\_function_transformer.py:312: FutureWarning: The current default of copy=False will change to copy=True in 1.7. Set the value of copy explicitly to avoid this warning\n",
      "  return func(X, **(kw_args if kw_args else {}))\n"
     ]
    }
   ],
   "source": [
    "fmin = 6  # 최소 주파수 (6Hz)\n",
    "fmax = 14  # 최대 주파수 (14Hz)\n",
    "paradigm = SSVEP(fmin=fmin, fmax=fmax, resample=128)\n",
    "\n",
    "# ✅ MAMEM3 데이터셋 불러오기 (첫 번째 참가자)\n",
    "dataset = MAMEM3()\n",
    "X, y, metadata = paradigm.get_data(dataset=dataset, subjects=[1])\n",
    "\n",
    "print(f\"✅ 데이터 로드 완료: X shape: {X.shape}, y shape: {y.shape}\")"
   ]
  },
  {
   "cell_type": "code",
   "execution_count": 25,
   "id": "7c194b1b",
   "metadata": {},
   "outputs": [
    {
     "name": "stdout",
     "output_type": "stream",
     "text": [
      "[1, 2, 3, 4, 5, 6, 7, 8, 9, 10]\n"
     ]
    }
   ],
   "source": [
    "print(dataset.subject_list)"
   ]
  },
  {
   "cell_type": "code",
   "execution_count": 26,
   "id": "e1c3ebb5",
   "metadata": {},
   "outputs": [],
   "source": [
    "# ✅ FFT를 이용한 주파수 특징 추출 함수\n",
    "def extract_fft_features(X, sfreq=128):\n",
    "    num_samples, num_channels, num_timepoints = X.shape\n",
    "    fft_values = np.abs(fft(X, axis=2))  # FFT 적용 (절대값)\n",
    "    \n",
    "    # 관심 주파수 대역 선택 (6~14Hz)\n",
    "    freqs = np.fft.fftfreq(num_timepoints, d=1/sfreq)\n",
    "    freq_mask = (freqs >= fmin) & (freqs <= fmax)\n",
    "    \n",
    "    return fft_values[:, :, freq_mask]"
   ]
  },
  {
   "cell_type": "code",
   "execution_count": 27,
   "id": "62750477",
   "metadata": {},
   "outputs": [
    {
     "name": "stdout",
     "output_type": "stream",
     "text": [
      "✅ FFT 변환 완료: X_fft shape: (80, 1, 14, 24)\n"
     ]
    }
   ],
   "source": [
    "# ✅ FFT 변환 적용\n",
    "X_fft = extract_fft_features(X)\n",
    "X_fft = np.expand_dims(X_fft, axis=1)  # (batch, 1, channels, time)\n",
    "print(f\"✅ FFT 변환 완료: X_fft shape: {X_fft.shape}\")\n",
    "\n",
    "# ✅ 데이터 분할 (훈련: 80%, 테스트: 20%)\n",
    "X_train, X_test, y_train, y_test = train_test_split(X_fft, y, test_size=0.2, random_state=42)"
   ]
  },
  {
   "cell_type": "code",
   "execution_count": 28,
   "id": "146edebe",
   "metadata": {},
   "outputs": [
    {
     "name": "stdout",
     "output_type": "stream",
     "text": [
      "✅ 데이터 변환 완료!\n"
     ]
    }
   ],
   "source": [
    "# ✅ PyTorch 데이터셋 변환\n",
    "\n",
    "# X 데이터는 float32 변환\n",
    "X_train_tensor = torch.tensor(X_train, dtype=torch.float32)\n",
    "X_test_tensor = torch.tensor(X_test, dtype=torch.float32)\n",
    "\n",
    "# ✅ 클래스 매핑을 위한 고유한 주파수 목록 (MAMEM3 실험에서 사용된 5개 주파수)\n",
    "unique_freqs = np.unique(y_train)  # y_train과 y_test에 있는 고유한 주파수 값\n",
    "\n",
    "# ✅ 주파수를 정수 인덱스로 매핑 (예: 6.66Hz → 0, 7.50Hz → 1 ...)\n",
    "freq_to_index = {freq: idx for idx, freq in enumerate(unique_freqs)}\n",
    "\n",
    "# ✅ 주파수를 정수 인덱스로 변환\n",
    "y_train = np.array([freq_to_index[freq] for freq in y_train])\n",
    "y_test = np.array([freq_to_index[freq] for freq in y_test])\n",
    "\n",
    "# ✅ PyTorch Tensor 변환\n",
    "y_train_tensor = torch.tensor(y_train, dtype=torch.long)\n",
    "y_test_tensor = torch.tensor(y_test, dtype=torch.long)\n",
    "\n",
    "# ✅ TensorDataset 및 DataLoader 구성\n",
    "train_dataset = TensorDataset(X_train_tensor, y_train_tensor)\n",
    "test_dataset = TensorDataset(X_test_tensor, y_test_tensor)\n",
    "\n",
    "train_loader = DataLoader(train_dataset, batch_size=16, shuffle=True)\n",
    "test_loader = DataLoader(test_dataset, batch_size=16, shuffle=False)\n",
    "\n",
    "print(\"✅ 데이터 변환 완료!\")"
   ]
  },
  {
   "cell_type": "code",
   "execution_count": 29,
   "id": "a8061b32",
   "metadata": {},
   "outputs": [],
   "source": [
    "# ✅ EEGNet 모델 정의\n",
    "class EEGNet(nn.Module):\n",
    "    def __init__(self, num_classes=5):\n",
    "        super(EEGNet, self).__init__()\n",
    "        self.conv1 = nn.Conv2d(1, 16, (1, 64), padding=(0, 32))\n",
    "        self.batchnorm1 = nn.BatchNorm2d(16)\n",
    "        self.conv2 = nn.Conv2d(16, 32, (14, 1), groups=16)\n",
    "        self.batchnorm2 = nn.BatchNorm2d(32)\n",
    "        self.pool = nn.AvgPool2d((1, 4))\n",
    "        self.fc1 = nn.Linear(32 * (X_train.shape[3]//4), num_classes)\n",
    "\n",
    "    def forward(self, x):\n",
    "        x = self.conv1(x)\n",
    "        x = self.batchnorm1(x)\n",
    "        x = torch.relu(x)\n",
    "        x = self.conv2(x)\n",
    "        x = self.batchnorm2(x)\n",
    "        x = torch.relu(x)\n",
    "        x = self.pool(x)\n",
    "        x = x.view(x.size(0), -1)  # Flatten\n",
    "        x = self.fc1(x)\n",
    "        return x"
   ]
  },
  {
   "cell_type": "code",
   "execution_count": 30,
   "id": "de46b30c",
   "metadata": {},
   "outputs": [],
   "source": [
    "# ✅ 모델 초기화\n",
    "device = torch.device(\"cuda\" if torch.cuda.is_available() else \"cpu\")\n",
    "model = EEGNet(num_classes=len(np.unique(y))).to(device)\n",
    "criterion = nn.CrossEntropyLoss()\n",
    "optimizer = optim.Adam(model.parameters(), lr=0.001)"
   ]
  },
  {
   "cell_type": "code",
   "execution_count": 31,
   "id": "eb7b8fe3",
   "metadata": {},
   "outputs": [
    {
     "name": "stdout",
     "output_type": "stream",
     "text": [
      "Epoch 1/20, Loss: 1.4235990047454834\n",
      "Epoch 2/20, Loss: 1.3460602760314941\n",
      "Epoch 3/20, Loss: 1.2995924353599548\n",
      "Epoch 4/20, Loss: 1.254586100578308\n",
      "Epoch 5/20, Loss: 1.2210799753665924\n",
      "Epoch 6/20, Loss: 1.179524838924408\n",
      "Epoch 7/20, Loss: 1.1487390995025635\n",
      "Epoch 8/20, Loss: 1.121430367231369\n",
      "Epoch 9/20, Loss: 1.091627687215805\n",
      "Epoch 10/20, Loss: 1.0635296702384949\n",
      "Epoch 11/20, Loss: 1.0278639495372772\n",
      "Epoch 12/20, Loss: 0.9891993552446365\n",
      "Epoch 13/20, Loss: 0.962610274553299\n",
      "Epoch 14/20, Loss: 0.9542711228132248\n",
      "Epoch 15/20, Loss: 0.9173183739185333\n",
      "Epoch 16/20, Loss: 0.8767482191324234\n",
      "Epoch 17/20, Loss: 0.8612078428268433\n",
      "Epoch 18/20, Loss: 0.8290985077619553\n",
      "Epoch 19/20, Loss: 0.8028177917003632\n",
      "Epoch 20/20, Loss: 0.7830633521080017\n",
      "✅ 학습 완료!\n"
     ]
    }
   ],
   "source": [
    "\n",
    "# ✅ 모델 학습 루프\n",
    "num_epochs = 20\n",
    "for epoch in range(num_epochs):\n",
    "    model.train()\n",
    "    running_loss = 0.0\n",
    "\n",
    "    for inputs, labels in train_loader:\n",
    "        inputs, labels = inputs.to(device), labels.to(device)\n",
    "        optimizer.zero_grad()\n",
    "        outputs = model(inputs)\n",
    "        loss = criterion(outputs, labels)\n",
    "        loss.backward()\n",
    "        optimizer.step()\n",
    "        running_loss += loss.item()\n",
    "\n",
    "    print(f\"Epoch {epoch+1}/{num_epochs}, Loss: {running_loss / len(train_loader)}\")\n",
    "\n",
    "print(\"✅ 학습 완료!\")"
   ]
  },
  {
   "cell_type": "code",
   "execution_count": 32,
   "id": "3a5f02d0",
   "metadata": {},
   "outputs": [
    {
     "name": "stdout",
     "output_type": "stream",
     "text": [
      "✅ 모델 정확도: 50.00%\n"
     ]
    }
   ],
   "source": [
    "# ✅ 모델 평가\n",
    "model.eval()\n",
    "correct = 0\n",
    "total = 0\n",
    "with torch.no_grad():\n",
    "    for inputs, labels in test_loader:\n",
    "        inputs, labels = inputs.to(device), labels.to(device)\n",
    "        outputs = model(inputs)\n",
    "        _, predicted = torch.max(outputs, 1)\n",
    "        correct += (predicted == labels).sum().item()\n",
    "        total += labels.size(0)\n",
    "\n",
    "accuracy = 100 * correct / total\n",
    "print(f\"✅ 모델 정확도: {accuracy:.2f}%\")"
   ]
  },
  {
   "cell_type": "code",
   "execution_count": null,
   "id": "76cfb127",
   "metadata": {},
   "outputs": [],
   "source": []
  }
 ],
 "metadata": {
  "kernelspec": {
   "display_name": "Python [conda env:moabb] *",
   "language": "python",
   "name": "conda-env-moabb-py"
  },
  "language_info": {
   "codemirror_mode": {
    "name": "ipython",
    "version": 3
   },
   "file_extension": ".py",
   "mimetype": "text/x-python",
   "name": "python",
   "nbconvert_exporter": "python",
   "pygments_lexer": "ipython3",
   "version": "3.8.20"
  }
 },
 "nbformat": 4,
 "nbformat_minor": 5
}
