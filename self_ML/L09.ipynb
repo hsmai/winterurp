{
 "cells": [
  {
   "cell_type": "markdown",
   "id": "749769f4",
   "metadata": {},
   "source": [
    "09-1 순차데이터와 순환신경망\n",
    "\n",
    "task) 고객들의 상품 평가(댓글) 분석\n",
    "\n",
    "- 댓글의 감정 분석"
   ]
  },
  {
   "cell_type": "markdown",
   "id": "cf867251",
   "metadata": {},
   "source": [
    "순차 데이터)\n",
    "\n",
    "텍스트, 시계열 데이터와 같이 '순서에 의미'가 있는 데이터\n",
    "\n",
    "\n",
    "-> 이러한 데이터들은 순서를 유의하며 신경망에 주입해야 함(단어의 순서가 섞이면 안됨)\n",
    "\n",
    "-> 이전에 입력한 데이터를 기억하는 기능 필요\n",
    "\n",
    "ex) 별로지만, 추천해요. : '별로지만' 이라는 단어를 기억해야 무조건적으로 긍정적인 댓글이라 판단하지 않을 것임"
   ]
  },
  {
   "cell_type": "markdown",
   "id": "93d4e2aa",
   "metadata": {},
   "source": [
    "피드포워드 신경망)\n",
    "\n",
    "입력 데이터의 흐름이 앞으로만 전달되는 신경망(FC, CNN)\n",
    "\n",
    "-> 기억장치 X, 하나의 샘플을 사용하여 정방향 계산을 수행하고 나면 그 샘플은 버려지고 다음 샘플을 처리할 때 사용되지 않음"
   ]
  },
  {
   "cell_type": "markdown",
   "id": "bf81ca9b",
   "metadata": {},
   "source": [
    "순환 신경망)\n",
    "\n",
    "다음 샘플을 위해 이전 데이터가 신경망 층에 순환됨\n",
    "\n",
    "-> 신경망이 이전에 처리했던 샘플을 다음 샘플을 처리하는데 재사용 가능\n",
    "\n",
    "\n",
    "- 샘플을 처리하고 얻은 출력을 다음 샘플을 처리하는데 사용함\n",
    "- 타임스텝 : 샘플을 처리하는 한단계\n",
    "- 타임스텝이 오래 될 수록, 앞쪽에 입력되었던 샘플에 대한 정보는 희미해짐\n",
    "\n",
    "*CNN과 다르게, 각 층(layer)을 모든 뉴런들의 연결로 표현하지 않고, '셀(cell)'로 층을 표현\n",
    "\n",
    "-> 이 셀의 출력을 '은닉 상태' 라고 부름\n",
    "\n",
    "\n",
    "CNN과 구조적으로 매우 유사하지만(입력에 어떤 가중치를 곱하고 활성화 함수를 통과시켜 다음 층으로 보냄),\n",
    "\n",
    "'각 층의 출력(은닉 상태)을 다음 타임스텝에 재사용'한다는 점이 다름"
   ]
  },
  {
   "cell_type": "markdown",
   "id": "52345c78",
   "metadata": {},
   "source": [
    "RNN의 활성화 함수)\n",
    "\n",
    "ReLU 대신 tanh 쌍곡함수 사용\n",
    "\n",
    "-> -1 ~ 1의 범위를 가짐"
   ]
  },
  {
   "cell_type": "markdown",
   "id": "74345f26",
   "metadata": {},
   "source": [
    "순환 신경망의 가중치)\n",
    "\n",
    "CNN과 같은 피드포워드 신경망의 각 층에서는 입력에 곱해지는 가중치가 1개임\n",
    "\n",
    "반면 순환신경망의 셀에서는 입력과 더불어 이전 타임스텝의 은닉상태(출력)도 사용되기 때문에, \n",
    "\n",
    "입력에 곱해지는 가중치(Wx) 1개, 은닉상태에 곱해지는 가중치(Wh) 1개 총 2개의 가중치가 각 셀에서 필요함\n",
    "\n",
    "-> 셀은 '입력'과 '이전 타임스텝의 은닉상태(출력)'를 사용하여 현재 타임 스텝의 은닉 상태를 만듦\n",
    "\n",
    "\n",
    "피드포워드 신경망과 마찬가지로, 뉴런마다 하나의 절편이 포함됨\n",
    "\n",
    "\n",
    "모든 타임스텝에서 사용되는 가중치는 Wh 1개임.\n",
    "\n",
    "-> 이전 타임 스텝의 은닉 상태와 곱해짐 \n",
    "\n",
    "-> Wh는 타임스텝에 따라 변화되는 뉴런의 출력을 학습함\n",
    "\n",
    "\n",
    "*이전 타임스텝이 없는, 맨 처음 타임스텝에서 사용되는 은닉상태 h0는 0으로 초기화"
   ]
  },
  {
   "cell_type": "markdown",
   "id": "ef2bcaec",
   "metadata": {},
   "source": [
    "순환신경망의 셀에서 필요한 파라미터)\n",
    "\n",
    "ex) 특성 4개, 뉴런 3개\n",
    "\n",
    "Wx의 크기 : 입력층(특성)과 순환층(뉴런)이 완전 연결되므로, 4*3 = 12개\n",
    "\n",
    "Wh의 크기 : 각 타입스텝의 은닉상태(출력)이 본인을 포함한 다른 타임스텝에 완전 연결되므로, 3*3 = 9개\n",
    "\n",
    "절편의 크기 : 뉴런 당 1개 = 3개\n",
    "\n",
    "따라서 총 12 + 9 + 3 = 24개의 모델 파라미터"
   ]
  },
  {
   "cell_type": "markdown",
   "id": "f4c018fd",
   "metadata": {},
   "source": [
    "순환층의 입력과 출력)\n",
    "\n",
    "순환층에서는 샘플마다 2개의 차원을 가짐\n",
    "\n",
    "하나의 샘플 = 시퀀스(sequence)\n",
    "\n",
    "*시퀀스 안에는 여러개의 아이템이 들어있고, 이 시퀀스의 길이 = 타임스텝의 길이\n",
    "\n",
    "\n",
    "ex) I am a boy\n",
    "\n",
    "- 4개의 단어\n",
    "- 각 단어를 3개의 어떤 숫자로 표현\n",
    "- 타임스텝의 크기 : (1,4,3)\n",
    "\n",
    "-> 이 입력이 순환층을 통과하면 2,3번째 차원이 사라지고 순환층의 뉴런 개수만큼 출력됨\n",
    "\n",
    "* (4,3) (단어 4개, 각 단어별 숫자 3개) -> 순환층 -> (3,) 뉴런개수\n",
    "\n",
    "\n",
    "순환층에서는 마지막 타임스텝의 은닉상태만 출력으로 내보냄\n",
    "\n",
    "-> 입력된 시퀀스의 길이를 모두 읽어서 정보를 마지막 은닉 상태에서 압축하여 전달하는 형태\n",
    "\n",
    "- 순환 신경망 : 정보를 기억하는 메모리를 가진다고 표현\n",
    "\n",
    "- 순환 신경망이 순차 데이터에 잘 맞음"
   ]
  },
  {
   "cell_type": "markdown",
   "id": "c6961c90",
   "metadata": {},
   "source": [
    "순환 신경망을 여러개의 층(셀)으로 쌓는 경우)\n",
    "\n",
    "마지막 셀을 제외한 모든 셀 : 모든 타임스텝의 은닉 상태를 출력(각 단어에 대한 출력)\n",
    "\n",
    "마지막 셀 : 마지막 타임스텝의 은닉상태만 출력"
   ]
  },
  {
   "cell_type": "markdown",
   "id": "da8ae912",
   "metadata": {},
   "source": [
    "출력층의 구성)\n",
    "\n",
    "RNN도 CNN처럼 마지막에 밀집층을 두어 클래스를 분류함\n",
    "\n",
    "다중분류 : 출력층에 클래스 개수만큼 뉴런을 둠, 소프트맥스 활성화함수 사용\n",
    "\n",
    "이진분류 : 출력층에 하나의 뉴런을 둠, 시그모이드 활성화함수 사용\n",
    "\n",
    "\n",
    "*CNN과 다른점\n",
    "\n",
    "마지막 셀의 출력이 1차원(뉴런의 개수)이기 때문에, Flatten 클래스로 펼칠 필요 X\n",
    "\n",
    "-> 셀의 출력을 그대로 밀집층에 사용 가능\n",
    "\n",
    "\n",
    "ex) 3개의 클래스를 가진 다중분류\n",
    "\n",
    "- 입력(20,100) : (타임스텝 개수/단어 개수, 각 타입스텝/단어의 표현)\n",
    "- 출력(10, ) : (셀의 뉴런 개수)\n",
    "\n",
    "-> 샘플마다 셀이 1차원 배열을 출력하므로 Flatten할 필요없이 출력을 바로 출력층에 연결 가능\n",
    "\n",
    "-> 3개의 클래스를 가진 다중분류 문제이므로, 출력층에 3개의 뉴런과 소프트맥스 활성화 함수 사용"
   ]
  },
  {
   "cell_type": "markdown",
   "id": "e083dc70",
   "metadata": {},
   "source": [
    "09-2 RNN으로 IMDB 리뷰 분류\n",
    "\n",
    "- 원 핫 인코딩\n",
    "- 단어 임베딩\n",
    "\n",
    "\n",
    "IMDB 리뷰 데이터셋)\n",
    "\n",
    "인터넷 영화 데이터베이스에서 수집한 리뷰를 감상평에 따라 긍정과 부정으로 분류해놓은 데이터셋\n",
    "\n",
    "- 총 50,000개의 샘플\n",
    "- 훈련데이터와 테스트 데이터 각각 25,000개\n",
    "\n",
    "텍스트 데이터(리뷰 텍스트)의 경우, 단어를 숫자로 변환해주어야 함\n",
    "\n",
    "- 데이터에 등장하는 단어마다 고유한 정수를 부여(매핑)\n",
    "\n",
    "- 동일한 단어는 같은 정수로 매핑\n",
    "\n",
    "- 정숫값 사이에는 아무 관계가 없음\n",
    "\n",
    "\n",
    "*분리된 단어 : 토큰\n",
    "\n",
    "- 하나의 샘플 -> 여러개의 토큰으로 이루어져 있음\n",
    "\n",
    "- 1개의 토큰(단어)이 하나의 타임 스텝\n",
    "\n",
    "- 타임스텝의 길이(개수) = 시퀀스\n",
    "\n",
    "\n",
    "*토큰에 할당하는 정수 중, 특별한 용도로 예약되어 있는 정수 존재  \n"
   ]
  },
  {
   "cell_type": "code",
   "execution_count": 1,
   "id": "e648ed3d",
   "metadata": {},
   "outputs": [
    {
     "name": "stdout",
     "output_type": "stream",
     "text": [
      "Downloading data from https://storage.googleapis.com/tensorflow/tf-keras-datasets/imdb.npz\n",
      "17464789/17464789 [==============================] - 5s 0us/step\n",
      "(25000,) (25000,)\n"
     ]
    }
   ],
   "source": [
    "# 실제 IMDB 데이터셋은 영어로 된 문장\n",
    "# 텐서플로에서 정수로 바꾼 데이터 불러와서 사용\n",
    "\n",
    "from tensorflow.keras.datasets import imdb\n",
    "\n",
    "#전체 데이터셋에서 가장 자주 등장하는 단어 500개만 사용\n",
    "(train_input, train_target), (test_input, test_target) = imdb.load_data(num_words=500)\n",
    "\n",
    "#훈련세트와 테스트세트의 크기 확인\n",
    "print(train_input.shape, test_input.shape)"
   ]
  },
  {
   "cell_type": "markdown",
   "id": "e5fc9553",
   "metadata": {},
   "source": [
    "IMDB 리뷰 텍스트는 길이가 제각각임 \n",
    "\n",
    "-> 리뷰마다 별도의 파이썬 리스트로 담아야 메모리를 효율적으로 사용할 수 있음\n"
   ]
  },
  {
   "cell_type": "code",
   "execution_count": 3,
   "id": "a7c23bc2",
   "metadata": {},
   "outputs": [
    {
     "name": "stdout",
     "output_type": "stream",
     "text": [
      "218\n",
      "189\n"
     ]
    }
   ],
   "source": [
    "#첫번째 리뷰의 길이 출력\n",
    "print(len(train_input[0]))\n",
    "\n",
    "#두번째 리뷰의 길이 출력\n",
    "print(len(train_input[1]))"
   ]
  },
  {
   "cell_type": "markdown",
   "id": "6b88368b",
   "metadata": {},
   "source": [
    "각 리뷰들은 218개, 189개의 단어로 이루어져 있음\n",
    "\n",
    "-> 리뷰마다 각각 길이가 다름\n",
    "\n",
    "- 하나의 리뷰 = 하나의 샘플"
   ]
  },
  {
   "cell_type": "code",
   "execution_count": 4,
   "id": "e4f82a8a",
   "metadata": {},
   "outputs": [
    {
     "name": "stdout",
     "output_type": "stream",
     "text": [
      "[1, 14, 22, 16, 43, 2, 2, 2, 2, 65, 458, 2, 66, 2, 4, 173, 36, 256, 5, 25, 100, 43, 2, 112, 50, 2, 2, 9, 35, 480, 284, 5, 150, 4, 172, 112, 167, 2, 336, 385, 39, 4, 172, 2, 2, 17, 2, 38, 13, 447, 4, 192, 50, 16, 6, 147, 2, 19, 14, 22, 4, 2, 2, 469, 4, 22, 71, 87, 12, 16, 43, 2, 38, 76, 15, 13, 2, 4, 22, 17, 2, 17, 12, 16, 2, 18, 2, 5, 62, 386, 12, 8, 316, 8, 106, 5, 4, 2, 2, 16, 480, 66, 2, 33, 4, 130, 12, 16, 38, 2, 5, 25, 124, 51, 36, 135, 48, 25, 2, 33, 6, 22, 12, 215, 28, 77, 52, 5, 14, 407, 16, 82, 2, 8, 4, 107, 117, 2, 15, 256, 4, 2, 7, 2, 5, 2, 36, 71, 43, 2, 476, 26, 400, 317, 46, 7, 4, 2, 2, 13, 104, 88, 4, 381, 15, 297, 98, 32, 2, 56, 26, 141, 6, 194, 2, 18, 4, 226, 22, 21, 134, 476, 26, 480, 5, 144, 30, 2, 18, 51, 36, 28, 224, 92, 25, 104, 4, 226, 65, 16, 38, 2, 88, 12, 16, 283, 5, 16, 2, 113, 103, 32, 15, 16, 2, 19, 178, 32]\n"
     ]
    }
   ],
   "source": [
    "# 첫번째 리뷰에 담긴 내용 출력\n",
    "\n",
    "print(train_input[0])"
   ]
  },
  {
   "cell_type": "markdown",
   "id": "827d57ee",
   "metadata": {},
   "source": [
    "어휘 사전에 500개의 단어만 사용하도록 지정했으므로, 어휘 사전에 없는 단어는 모두 2로 표시됨\n",
    "\n",
    "- 어휘사전 : 훈련 세트에서 고유한 단어를 뽑아 만든 목록"
   ]
  },
  {
   "cell_type": "code",
   "execution_count": 5,
   "id": "274322c1",
   "metadata": {},
   "outputs": [
    {
     "name": "stdout",
     "output_type": "stream",
     "text": [
      "[1 0 0 1 0 0 1 0 1 0 1 0 0 0 0 0 1 1 0 1]\n"
     ]
    }
   ],
   "source": [
    "#타깃 데이터 출력\n",
    "print(train_target[:20])"
   ]
  },
  {
   "cell_type": "markdown",
   "id": "e3a839a4",
   "metadata": {},
   "source": [
    "task) 리뷰가 긍정적인지, 부정적인지\n",
    "\n",
    "- 이진분류 문제이므로, 긍정(1) 부정(0) 이 타깃값이 됨"
   ]
  },
  {
   "cell_type": "code",
   "execution_count": 6,
   "id": "d4e7a77a",
   "metadata": {},
   "outputs": [],
   "source": [
    "#훈련세트에서 검증세트 분할\n",
    "#훈련세트(20,000) / 검증세트(5,000)\n",
    "\n",
    "from sklearn.model_selection import train_test_split\n",
    "train_input, val_input, train_target, val_target = train_test_split(train_input, train_target, test_size=0.2, random_state=42)"
   ]
  },
  {
   "cell_type": "code",
   "execution_count": 7,
   "id": "7475b2c8",
   "metadata": {},
   "outputs": [],
   "source": [
    "#각 리뷰의 길이를 계산해 넘파이 배열에 저장\n",
    "#리뷰의 길이에 대한 통계를 내기 위함\n",
    "#train_input의 원소를 순회하면서 길이 재기\n",
    "\n",
    "import numpy as np\n",
    "lengths = np.array([len(x) for x in train_input])"
   ]
  },
  {
   "cell_type": "code",
   "execution_count": 8,
   "id": "6269d664",
   "metadata": {},
   "outputs": [
    {
     "name": "stdout",
     "output_type": "stream",
     "text": [
      "239.00925 178.0\n"
     ]
    }
   ],
   "source": [
    "#리뷰의 평균, 중간값 길이 구하기\n",
    "\n",
    "print(np.mean(lengths), np.median(lengths))"
   ]
  },
  {
   "cell_type": "code",
   "execution_count": 10,
   "id": "43577535",
   "metadata": {},
   "outputs": [
    {
     "data": {
      "image/png": "[encoded data removed]",
      "text/plain": [
       "<Figure size 640x480 with 1 Axes>"
      ]
     },
     "metadata": {},
     "output_type": "display_data"
    }
   ],
   "source": [
    "#lengths 배열을 히스토그램으로 표현\n",
    "\n",
    "import matplotlib.pyplot as plt\n",
    "plt.hist(lengths)\n",
    "plt.xlabel('length')\n",
    "plt.ylabel('frequency')\n",
    "plt.show()"
   ]
  },
  {
   "cell_type": "markdown",
   "id": "ec7b94d5",
   "metadata": {},
   "source": [
    "대부분의 리뷰 길이는 300 미만,\n",
    "\n",
    "매우 긴 데이터가 존재해서 평균이 중간값 보다 크게 나옴\n",
    "\n",
    "- 본 예제에서는 100개의 단어만 사용\n",
    "\n",
    "- 몇몇 리뷰들은 100개의 단어보다 짧을 수 있으므로, 길이를 100으로 맞춰주기 위해 '패딩' 사용\n",
    "\n",
    "- 패딩을 나타내는 토큰으로 0 사용"
   ]
  },
  {
   "cell_type": "code",
   "execution_count": 11,
   "id": "647b3e26",
   "metadata": {},
   "outputs": [
    {
     "name": "stdout",
     "output_type": "stream",
     "text": [
      "(20000, 100)\n"
     ]
    }
   ],
   "source": [
    "#시퀀스 데이터의 길이 맞추기\n",
    "\n",
    "from tensorflow.keras.preprocessing.sequence import pad_sequences\n",
    "train_seq = pad_sequences(train_input, maxlen = 100)\n",
    "\n",
    "#train_seq 크기 확인\n",
    "\n",
    "print(train_seq.shape)"
   ]
  },
  {
   "cell_type": "markdown",
   "id": "2d1b0342",
   "metadata": {},
   "source": [
    "샘플 : 20,000개\n",
    "\n",
    "토큰(타임스텝) : 100개"
   ]
  },
  {
   "cell_type": "code",
   "execution_count": 12,
   "id": "d1c30899",
   "metadata": {},
   "outputs": [
    {
     "name": "stdout",
     "output_type": "stream",
     "text": [
      "[ 10   4  20   9   2 364 352   5  45   6   2   2  33 269   8   2 142   2\n",
      "   5   2  17  73  17 204   5   2  19  55   2   2  92  66 104  14  20  93\n",
      "  76   2 151  33   4  58  12 188   2 151  12 215  69 224 142  73 237   6\n",
      "   2   7   2   2 188   2 103  14  31  10  10 451   7   2   5   2  80  91\n",
      "   2  30   2  34  14  20 151  50  26 131  49   2  84  46  50  37  80  79\n",
      "   6   2  46   7  14  20  10  10 470 158]\n"
     ]
    }
   ],
   "source": [
    "#train_seq의 첫번째 샘플 출력\n",
    "\n",
    "print(train_seq[0])"
   ]
  },
  {
   "cell_type": "markdown",
   "id": "10d7404c",
   "metadata": {},
   "source": [
    "샘플의 앞, 뒷부분에 0이 없는 걸로 보아 100보다는 길었을 것으로 추정됨\n",
    "\n",
    "-> 원본 데이터에서 100의 길이로 잘린 것"
   ]
  },
  {
   "cell_type": "code",
   "execution_count": 13,
   "id": "feb0c23f",
   "metadata": {},
   "outputs": [
    {
     "name": "stdout",
     "output_type": "stream",
     "text": [
      "[6, 2, 46, 7, 14, 20, 10, 10, 470, 158]\n"
     ]
    }
   ],
   "source": [
    "#원본 샘플의 끝부분 확인\n",
    "\n",
    "print(train_input[0][-10:])"
   ]
  },
  {
   "cell_type": "markdown",
   "id": "342a0a7e",
   "metadata": {},
   "source": [
    "마지막 10개 토큰 출력\n",
    "\n",
    "-> 위 샘플과 정확히 일치\n",
    "\n",
    "-> 샘플의 앞부분이 잘렸음을 알 수 있음"
   ]
  },
  {
   "cell_type": "code",
   "execution_count": 14,
   "id": "27575586",
   "metadata": {},
   "outputs": [
    {
     "name": "stdout",
     "output_type": "stream",
     "text": [
      "[  0   0   0   0   1   2 195  19  49   2   2 190   4   2 352   2 183  10\n",
      "  10  13  82  79   4   2  36  71 269   8   2  25  19  49   7   4   2   2\n",
      "   2   2   2  10  10  48  25  40   2  11   2   2  40   2   2   5   4   2\n",
      "   2  95  14 238  56 129   2  10  10  21   2  94 364 352   2   2  11 190\n",
      "  24 484   2   7  94 205 405  10  10  87   2  34  49   2   7   2   2   2\n",
      "   2   2 290   2  46  48  64  18   4   2]\n"
     ]
    }
   ],
   "source": [
    "#train_seq의 6번째 샘플 출력\n",
    "\n",
    "print(train_seq[5])"
   ]
  },
  {
   "cell_type": "markdown",
   "id": "1a77590b",
   "metadata": {},
   "source": [
    "앞부분에 0으로 패딩되어 있는 것으로 보아 원본 데이터의 길이가 100보다 짧음을 알 수 있음\n",
    "\n",
    "-> 시퀀스의 앞부분에 패딩 진행\n",
    "\n",
    "-> 시퀀스의 마지막에 있는 단어가 셀의 은닉 상태에 가장 큰 영향을 미치기 때문(방해하지 않으려고)"
   ]
  },
  {
   "cell_type": "code",
   "execution_count": 15,
   "id": "c285fb46",
   "metadata": {},
   "outputs": [],
   "source": [
    "#검증 세트의 길이 100으로 맞추기\n",
    "\n",
    "val_seq = pad_sequences(val_input, maxlen=100)"
   ]
  },
  {
   "cell_type": "markdown",
   "id": "098599c7",
   "metadata": {},
   "source": [
    "순환신경망 만들기)\n",
    "\n",
    "- SimpleRNN 클래스\n",
    "\n",
    "- IMDB는 이진분류 문제\n",
    "\n",
    "-> 마지막 출력층은 1개의 뉴런\n",
    "\n",
    "-> 시그모이드 활성화 함수 사용"
   ]
  },
  {
   "cell_type": "code",
   "execution_count": 16,
   "id": "9a4d9d9f",
   "metadata": {},
   "outputs": [],
   "source": [
    "#Sequential 클래스로 만든 신경망 코드\n",
    "\n",
    "from tensorflow import keras\n",
    "model = keras.Sequential()\n",
    "model.add(keras.layers.SimpleRNN(8, input_shape=(100, 500)))\n",
    "model.add(keras.layers.Dense(1, activation='sigmoid'))"
   ]
  },
  {
   "cell_type": "markdown",
   "id": "88ed80d8",
   "metadata": {},
   "source": [
    "입력차원을 (100,500)으로 지정\n",
    "\n",
    "-> 샘플의 길이 100, 배열의 길이 500\n",
    "\n",
    "*배열의 길이가 500인 이유\n",
    "\n",
    "-> 각 단어를 특정 정수로 매핑하였음\n",
    "\n",
    "-> 이 정수값의 크기에는 아무런 의미가 없음\n",
    "\n",
    "-> 크기 속성을 없애고 각 정수를 고유하게 표현하기 위해 원-핫 인코딩 사용\n",
    "\n",
    "-> 어휘사전에서 500개의 단어만 사용하도록 지정하였으므로, 훈련 데이터에 포함될 수 있는 정수값의 범위 : (0~499)\n",
    "\n",
    "-> 이 범위를 원-핫 인코딩으로 표현하려면 '배열의 길이가 500이 되어야 함'(그래야 500개의 단어 커버 가능)\n",
    "\n",
    "-> 각 토큰(단어)마다 500개의 숫자를 사용하여 표현\n",
    "\n"
   ]
  },
  {
   "cell_type": "code",
   "execution_count": 18,
   "id": "601738f3",
   "metadata": {},
   "outputs": [
    {
     "name": "stdout",
     "output_type": "stream",
     "text": [
      "(20000, 100, 500)\n"
     ]
    }
   ],
   "source": [
    "#원-핫 인코딩 배열로 변환\n",
    "\n",
    "train_oh = keras.utils.to_categorical(train_seq)\n",
    "\n",
    "\n",
    "#배열의 크기 확인\n",
    "print(train_oh.shape)"
   ]
  },
  {
   "cell_type": "markdown",
   "id": "10ff4aca",
   "metadata": {},
   "source": [
    "(샘플 수, 토큰/단어/타입스텝 수, 토큰/단어/타임스텝 별 원-핫 인코딩 길이)\n",
    "\n",
    "정수 하나마다 모두 500차원의 배열로 변경됨\n",
    "\n",
    "샘플 데이터의 크기가 1차원 정수 배열 (100, ) 에서 2차원 배열 (100, 500)로 바꿔야 하므로 매개변수값을 (100,500)으로 지정한 것"
   ]
  },
  {
   "cell_type": "code",
   "execution_count": 19,
   "id": "fec57b3f",
   "metadata": {},
   "outputs": [
    {
     "name": "stdout",
     "output_type": "stream",
     "text": [
      "[0. 0. 0. 0. 0. 0. 0. 0. 0. 0. 1. 0.]\n"
     ]
    }
   ],
   "source": [
    "#train_oh의 첫번째 샘플의 첫번째 토큰 10이 잘 인코딩 되었는지 확인\n",
    "\n",
    "print(train_oh[0][0][:12])"
   ]
  },
  {
   "cell_type": "code",
   "execution_count": 20,
   "id": "4eba82bc",
   "metadata": {},
   "outputs": [
    {
     "name": "stdout",
     "output_type": "stream",
     "text": [
      "1.0\n"
     ]
    }
   ],
   "source": [
    "#모든 원소의 값을 더해서 1이 되는지 확인 -> 원 핫 인코딩\n",
    "\n",
    "print(np.sum(train_oh[0][0]))"
   ]
  },
  {
   "cell_type": "code",
   "execution_count": 21,
   "id": "cb0f629c",
   "metadata": {},
   "outputs": [],
   "source": [
    "#val_seq도 원 핫 인코딩으로 변환\n",
    "\n",
    "val_oh = keras.utils.to_categorical(val_seq)"
   ]
  },
  {
   "cell_type": "code",
   "execution_count": 22,
   "id": "15ebb54d",
   "metadata": {},
   "outputs": [
    {
     "name": "stdout",
     "output_type": "stream",
     "text": [
      "Model: \"sequential\"\n",
      "_________________________________________________________________\n",
      " Layer (type)                Output Shape              Param #   \n",
      "=================================================================\n",
      " simple_rnn (SimpleRNN)      (None, 8)                 4072      \n",
      "                                                                 \n",
      " dense (Dense)               (None, 1)                 9         \n",
      "                                                                 \n",
      "=================================================================\n",
      "Total params: 4081 (15.94 KB)\n",
      "Trainable params: 4081 (15.94 KB)\n",
      "Non-trainable params: 0 (0.00 Byte)\n",
      "_________________________________________________________________\n"
     ]
    }
   ],
   "source": [
    "#만든 모델의 구조 출력\n",
    "\n",
    "model.summary()"
   ]
  },
  {
   "cell_type": "markdown",
   "id": "b8d94015",
   "metadata": {},
   "source": [
    "전달하는 샘플 크기는 (100,500)이지만, 순환층은 마지막 타임스텝의 은닉 상태만 출력하므로\n",
    "\n",
    "출력 크기가 순환층의 뉴런 개수와 동일한 8임을 확인할 수 있음\n",
    "\n",
    "\n",
    "사용된 모델 파라미터의 개수)\n",
    "\n",
    "\n",
    "[SimpleRNN 클래스]\n",
    "\n",
    "입력 토큰 : 500차원의 원핫 인코딩 배열\n",
    "\n",
    "순환층 : 뉴런 8개\n",
    "\n",
    "-> 500 * 8 = 4,000개의 가중치\n",
    "\n",
    "\n",
    "순환층의 은닉상태는 다시 다음 타임스텝에 사용되기 위해 또 다른 가중치와 곱해짐\n",
    "\n",
    "-> 이 은닉상태도 순환층의 뉴런과 완전히 연결되므로, 8(은닉 상태) * 8(뉴런) = 64 개의 가중치 필요\n",
    "\n",
    "\n",
    "뉴런마다 1개의 절편 : 8개\n",
    "\n",
    "\n",
    "따라서 총 4,000 + 64 + 8 = 4072개의 모델 파라미터 필요"
   ]
  },
  {
   "cell_type": "code",
   "execution_count": 23,
   "id": "4f3a1b8a",
   "metadata": {},
   "outputs": [
    {
     "name": "stdout",
     "output_type": "stream",
     "text": [
      "Epoch 1/100\n",
      "313/313 [==============================] - 18s 50ms/step - loss: 0.7012 - accuracy: 0.5062 - val_loss: 0.7010 - val_accuracy: 0.5102\n",
      "Epoch 2/100\n"
     ]
    },
    {
     "name": "stderr",
     "output_type": "stream",
     "text": [
      "C:\\Users\\sangm\\anaconda3\\envs\\moabb\\lib\\site-packages\\keras\\src\\engine\\training.py:3000: UserWarning: You are saving your model as an HDF5 file via `model.save()`. This file format is considered legacy. We recommend using instead the native Keras format, e.g. `model.save('my_model.keras')`.\n",
      "  saving_api.save_model(\n"
     ]
    },
    {
     "name": "stdout",
     "output_type": "stream",
     "text": [
      "313/313 [==============================] - 11s 35ms/step - loss: 0.6944 - accuracy: 0.5199 - val_loss: 0.6956 - val_accuracy: 0.5250\n",
      "Epoch 3/100\n",
      "313/313 [==============================] - 11s 34ms/step - loss: 0.6885 - accuracy: 0.5379 - val_loss: 0.6891 - val_accuracy: 0.5390\n",
      "Epoch 4/100\n",
      "313/313 [==============================] - 11s 34ms/step - loss: 0.6805 - accuracy: 0.5675 - val_loss: 0.6779 - val_accuracy: 0.5778\n",
      "Epoch 5/100\n",
      "313/313 [==============================] - 11s 34ms/step - loss: 0.6577 - accuracy: 0.6221 - val_loss: 0.6460 - val_accuracy: 0.6442\n",
      "Epoch 6/100\n",
      "313/313 [==============================] - 11s 34ms/step - loss: 0.6311 - accuracy: 0.6647 - val_loss: 0.6298 - val_accuracy: 0.6638\n",
      "Epoch 7/100\n",
      "313/313 [==============================] - 11s 34ms/step - loss: 0.6123 - accuracy: 0.6900 - val_loss: 0.6121 - val_accuracy: 0.6956\n",
      "Epoch 8/100\n",
      "313/313 [==============================] - 11s 34ms/step - loss: 0.5910 - accuracy: 0.7151 - val_loss: 0.5893 - val_accuracy: 0.7128\n",
      "Epoch 9/100\n",
      "313/313 [==============================] - 11s 34ms/step - loss: 0.5713 - accuracy: 0.7310 - val_loss: 0.5744 - val_accuracy: 0.7254\n",
      "Epoch 10/100\n",
      "313/313 [==============================] - 11s 34ms/step - loss: 0.5570 - accuracy: 0.7405 - val_loss: 0.5627 - val_accuracy: 0.7328\n",
      "Epoch 11/100\n",
      "313/313 [==============================] - 11s 34ms/step - loss: 0.5448 - accuracy: 0.7462 - val_loss: 0.5506 - val_accuracy: 0.7414\n",
      "Epoch 12/100\n",
      "313/313 [==============================] - 11s 34ms/step - loss: 0.5331 - accuracy: 0.7532 - val_loss: 0.5403 - val_accuracy: 0.7470\n",
      "Epoch 13/100\n",
      "313/313 [==============================] - 11s 35ms/step - loss: 0.5216 - accuracy: 0.7607 - val_loss: 0.5357 - val_accuracy: 0.7464\n",
      "Epoch 14/100\n",
      "313/313 [==============================] - 11s 34ms/step - loss: 0.5118 - accuracy: 0.7669 - val_loss: 0.5208 - val_accuracy: 0.7560\n",
      "Epoch 15/100\n",
      "313/313 [==============================] - 10s 33ms/step - loss: 0.5032 - accuracy: 0.7718 - val_loss: 0.5311 - val_accuracy: 0.7424\n",
      "Epoch 16/100\n",
      "313/313 [==============================] - 10s 33ms/step - loss: 0.4944 - accuracy: 0.7777 - val_loss: 0.5189 - val_accuracy: 0.7548\n",
      "Epoch 17/100\n",
      "313/313 [==============================] - 11s 34ms/step - loss: 0.4870 - accuracy: 0.7820 - val_loss: 0.5151 - val_accuracy: 0.7562\n",
      "Epoch 18/100\n",
      "313/313 [==============================] - 10s 33ms/step - loss: 0.4800 - accuracy: 0.7850 - val_loss: 0.4959 - val_accuracy: 0.7690\n",
      "Epoch 19/100\n",
      "313/313 [==============================] - 11s 34ms/step - loss: 0.4742 - accuracy: 0.7891 - val_loss: 0.5121 - val_accuracy: 0.7542\n",
      "Epoch 20/100\n",
      "313/313 [==============================] - 10s 33ms/step - loss: 0.4681 - accuracy: 0.7928 - val_loss: 0.4894 - val_accuracy: 0.7746\n",
      "Epoch 21/100\n",
      "313/313 [==============================] - 11s 34ms/step - loss: 0.4629 - accuracy: 0.7951 - val_loss: 0.4871 - val_accuracy: 0.7738\n",
      "Epoch 22/100\n",
      "313/313 [==============================] - 10s 32ms/step - loss: 0.4591 - accuracy: 0.7975 - val_loss: 0.4988 - val_accuracy: 0.7636\n",
      "Epoch 23/100\n",
      "313/313 [==============================] - 11s 35ms/step - loss: 0.4542 - accuracy: 0.8004 - val_loss: 0.4790 - val_accuracy: 0.7780\n",
      "Epoch 24/100\n",
      "313/313 [==============================] - 11s 34ms/step - loss: 0.4499 - accuracy: 0.8033 - val_loss: 0.4791 - val_accuracy: 0.7776\n",
      "Epoch 25/100\n",
      "313/313 [==============================] - 11s 34ms/step - loss: 0.4468 - accuracy: 0.8044 - val_loss: 0.4754 - val_accuracy: 0.7808\n",
      "Epoch 26/100\n",
      "313/313 [==============================] - 11s 34ms/step - loss: 0.4436 - accuracy: 0.8051 - val_loss: 0.4721 - val_accuracy: 0.7852\n",
      "Epoch 27/100\n",
      "313/313 [==============================] - 11s 35ms/step - loss: 0.4398 - accuracy: 0.8075 - val_loss: 0.4697 - val_accuracy: 0.7856\n",
      "Epoch 28/100\n",
      "313/313 [==============================] - 11s 34ms/step - loss: 0.4368 - accuracy: 0.8080 - val_loss: 0.4658 - val_accuracy: 0.7876\n",
      "Epoch 29/100\n",
      "313/313 [==============================] - 10s 34ms/step - loss: 0.4341 - accuracy: 0.8113 - val_loss: 0.4677 - val_accuracy: 0.7854\n",
      "Epoch 30/100\n",
      "313/313 [==============================] - 11s 34ms/step - loss: 0.4313 - accuracy: 0.8112 - val_loss: 0.4653 - val_accuracy: 0.7874\n",
      "Epoch 31/100\n",
      "313/313 [==============================] - 11s 34ms/step - loss: 0.4288 - accuracy: 0.8137 - val_loss: 0.4630 - val_accuracy: 0.7856\n",
      "Epoch 32/100\n",
      "313/313 [==============================] - 11s 34ms/step - loss: 0.4264 - accuracy: 0.8138 - val_loss: 0.4602 - val_accuracy: 0.7876\n",
      "Epoch 33/100\n",
      "313/313 [==============================] - 11s 36ms/step - loss: 0.4249 - accuracy: 0.8147 - val_loss: 0.4581 - val_accuracy: 0.7896\n",
      "Epoch 34/100\n",
      "313/313 [==============================] - 10s 31ms/step - loss: 0.4224 - accuracy: 0.8163 - val_loss: 0.4618 - val_accuracy: 0.7888\n",
      "Epoch 35/100\n",
      "313/313 [==============================] - 11s 34ms/step - loss: 0.4212 - accuracy: 0.8170 - val_loss: 0.4570 - val_accuracy: 0.7892\n",
      "Epoch 36/100\n",
      "313/313 [==============================] - 11s 36ms/step - loss: 0.4193 - accuracy: 0.8184 - val_loss: 0.4569 - val_accuracy: 0.7910\n",
      "Epoch 37/100\n",
      "313/313 [==============================] - 11s 34ms/step - loss: 0.4172 - accuracy: 0.8186 - val_loss: 0.4543 - val_accuracy: 0.7922\n",
      "Epoch 38/100\n",
      "313/313 [==============================] - 11s 34ms/step - loss: 0.4168 - accuracy: 0.8199 - val_loss: 0.4540 - val_accuracy: 0.7950\n",
      "Epoch 39/100\n",
      "313/313 [==============================] - 11s 34ms/step - loss: 0.4147 - accuracy: 0.8207 - val_loss: 0.4640 - val_accuracy: 0.7854\n",
      "Epoch 40/100\n",
      "313/313 [==============================] - 11s 33ms/step - loss: 0.4138 - accuracy: 0.8207 - val_loss: 0.4530 - val_accuracy: 0.7946\n",
      "Epoch 41/100\n",
      "313/313 [==============================] - 11s 34ms/step - loss: 0.4123 - accuracy: 0.8216 - val_loss: 0.4520 - val_accuracy: 0.7968\n",
      "Epoch 42/100\n",
      "313/313 [==============================] - 11s 34ms/step - loss: 0.4111 - accuracy: 0.8219 - val_loss: 0.4525 - val_accuracy: 0.7946\n",
      "Epoch 43/100\n",
      "313/313 [==============================] - 11s 34ms/step - loss: 0.4098 - accuracy: 0.8234 - val_loss: 0.4517 - val_accuracy: 0.7960\n",
      "Epoch 44/100\n",
      "313/313 [==============================] - 11s 34ms/step - loss: 0.4091 - accuracy: 0.8223 - val_loss: 0.4508 - val_accuracy: 0.7970\n",
      "Epoch 45/100\n",
      "313/313 [==============================] - 11s 34ms/step - loss: 0.4083 - accuracy: 0.8226 - val_loss: 0.4599 - val_accuracy: 0.7888\n",
      "Epoch 46/100\n",
      "313/313 [==============================] - 10s 33ms/step - loss: 0.4067 - accuracy: 0.8242 - val_loss: 0.4517 - val_accuracy: 0.7948\n",
      "Epoch 47/100\n",
      "313/313 [==============================] - 10s 33ms/step - loss: 0.4059 - accuracy: 0.8254 - val_loss: 0.4522 - val_accuracy: 0.7958\n"
     ]
    }
   ],
   "source": [
    "#순환 신경망 훈련\n",
    "#RMSprop 객체\n",
    "#학습률 : 0.0001\n",
    "#에포크 : 100\n",
    "#배치 : 64\n",
    "#체크 포인트&조기종료\n",
    "\n",
    "\n",
    "rmsprop = keras.optimizers.RMSprop(learning_rate=1e-4)\n",
    "model.compile(optimizer=rmsprop, loss='binary_crossentropy', metrics=['accuracy'])\n",
    "checkpoint_cb = keras.callbacks.ModelCheckpoint('best-simplernn-model.h5', save_best_only=True)\n",
    "early_stopping_cb = keras.callbacks.EarlyStopping(patience=3, restore_best_weights=True)\n",
    "history = model.fit(train_oh, train_target, epochs=100, batch_size=64, validation_data=(val_oh, val_target), callbacks=[checkpoint_cb, early_stopping_cb])"
   ]
  },
  {
   "cell_type": "markdown",
   "id": "67234254",
   "metadata": {},
   "source": [
    "47번째 에포크에서 조기종료 됨\n",
    "\n",
    "검증 세트 정확도 약 80%(0.7970)"
   ]
  },
  {
   "cell_type": "code",
   "execution_count": 24,
   "id": "bc451892",
   "metadata": {},
   "outputs": [
    {
     "data": {
      "image/png": "[encoded data removed]",
      "text/plain": [
       "<Figure size 640x480 with 1 Axes>"
      ]
     },
     "metadata": {},
     "output_type": "display_data"
    }
   ],
   "source": [
    "#훈련 / 검증 손실 시각화\n",
    "\n",
    "plt.plot(history.history['loss'])\n",
    "plt.plot(history.history['val_loss'])\n",
    "plt.xlabel('epoch')\n",
    "plt.ylabel('loss')\n",
    "plt.legend(['train', 'val'])\n",
    "plt.show()"
   ]
  },
  {
   "cell_type": "markdown",
   "id": "d126b994",
   "metadata": {},
   "source": [
    "훈련 손실 : 꾸준히 감소\n",
    "\n",
    "검증 손실 : 약 28번째 에포크부터 감소가 둔해짐\n",
    "\n",
    "-> 적절한 에포크에서 훈련을 멈춤\n",
    "\n",
    "'RNN을 통해 IMDB 리뷰 데이터를 긍정과 부정으로 분류하는 작업 수행'"
   ]
  },
  {
   "cell_type": "code",
   "execution_count": 25,
   "id": "209cbf0f",
   "metadata": {},
   "outputs": [
    {
     "name": "stdout",
     "output_type": "stream",
     "text": [
      "8000000 4000000000\n"
     ]
    }
   ],
   "source": [
    "#이 방식의 단점 : 원-핫 인코딩을 사용하므로 입력 데이터가 매우 커짐\n",
    "\n",
    "print(train_seq.nbytes, train_oh.nbytes)"
   ]
  },
  {
   "cell_type": "markdown",
   "id": "117730d3",
   "metadata": {},
   "source": [
    "토큰 1개를 500차원으로 늘림 -> 500배가 커짐 (비효율적)\n",
    "\n",
    "순환신경망에서 적절한 단어 표현 방법 ?\n",
    "\n",
    "\n",
    "단어 임베딩)\n",
    "\n",
    "각 단어를 고정된 크기의 실수 벡터로 변환\n",
    "\n",
    "-> 단어 임베딩으로 만들어진 벡터는 원-핫 인코딩 된 벡터보다 훨씬 의미 있는 값으로 채워져 있음\n",
    "\n",
    "-> 자연어 처리에서 더욱 좋은 성능\n",
    "\n",
    "-> 훈련을 통해 데이터에서 좋은 단어 임베딩을 학습\n",
    "\n",
    "- 단어 임베딩 : 입력을 정수 데이터(train_seq) 그대로 받음\n",
    "\n",
    "- 훨씬 작은 크기로 단어 표현 가능\n",
    "\n",
    "- 여전히 2차원 배열로 변환 필요 (100, ) -> (100, 20)"
   ]
  },
  {
   "cell_type": "code",
   "execution_count": 26,
   "id": "0c0b374c",
   "metadata": {},
   "outputs": [],
   "source": [
    "#기존 SimpleRNN 층 앞에 Embedding 클래스 추가하여 순환신경망 생성\n",
    "\n",
    "model2 = keras.Sequential()\n",
    "model2.add(keras.layers.Embedding(500, 16, input_length=100))\n",
    "model2.add(keras.layers.SimpleRNN(8))\n",
    "model2.add(keras.layers.Dense(1, activation='sigmoid'))"
   ]
  },
  {
   "cell_type": "markdown",
   "id": "4ccad1cc",
   "metadata": {},
   "source": [
    "- 첫번째 매개변수(500) : 어휘 사전의 크기\n",
    "\n",
    "- 두번째 매개변수(16) : 임베딩 벡터의 크기 -> 원핫 인코딩보다 훨씬 작은 크기\n",
    "\n",
    "- 세번째 매개변수(100) : 입력 시퀀스의 길이(샘플의 길이를 100으로 맞춰뒀던 것)"
   ]
  },
  {
   "cell_type": "code",
   "execution_count": 27,
   "id": "59919783",
   "metadata": {},
   "outputs": [
    {
     "name": "stdout",
     "output_type": "stream",
     "text": [
      "Model: \"sequential_1\"\n",
      "_________________________________________________________________\n",
      " Layer (type)                Output Shape              Param #   \n",
      "=================================================================\n",
      " embedding (Embedding)       (None, 100, 16)           8000      \n",
      "                                                                 \n",
      " simple_rnn_1 (SimpleRNN)    (None, 8)                 200       \n",
      "                                                                 \n",
      " dense_1 (Dense)             (None, 1)                 9         \n",
      "                                                                 \n",
      "=================================================================\n",
      "Total params: 8209 (32.07 KB)\n",
      "Trainable params: 8209 (32.07 KB)\n",
      "Non-trainable params: 0 (0.00 Byte)\n",
      "_________________________________________________________________\n"
     ]
    }
   ],
   "source": [
    "#모델의 구조 출력\n",
    "\n",
    "model2.summary()"
   ]
  },
  {
   "cell_type": "markdown",
   "id": "36801205",
   "metadata": {},
   "source": [
    "입력 : (100, )\n",
    "\n",
    "출력 : (100, 16)\n",
    "\n",
    "\n",
    "사용된 모델 파라미터 수)\n",
    "\n",
    "\n",
    "[임베딩 클래스] \n",
    "\n",
    "500개의 각 토큰(단어) -> 크기가 16인 벡터로 변경\n",
    "\n",
    "총 500 * 16 = 8,000개의 모델 파라미터\n",
    "\n",
    "\n",
    "[SimpleRNN층]\n",
    "\n",
    "16(임베딩 벡터의 크기) * 8(뉴런) = 128개의 가중치\n",
    "\n",
    "은닉 상태에 곱해지는 가중치 8(은닉상태) * 8(뉴런) = 64개\n",
    "\n",
    "8(뉴런)개의 절편\n",
    "\n",
    "\n",
    "따라서 총 128 + 64 + 8 = 200 개의 모델 파라미터\n",
    "\n",
    "\n",
    "Dense층의 가중치 개수 : 9\n"
   ]
  },
  {
   "cell_type": "code",
   "execution_count": 28,
   "id": "c4fbaed4",
   "metadata": {},
   "outputs": [
    {
     "name": "stdout",
     "output_type": "stream",
     "text": [
      "Epoch 1/100\n",
      "313/313 [==============================] - 16s 34ms/step - loss: 0.6717 - accuracy: 0.5779 - val_loss: 0.6438 - val_accuracy: 0.6392\n",
      "Epoch 2/100\n",
      "313/313 [==============================] - 10s 31ms/step - loss: 0.6102 - accuracy: 0.6849 - val_loss: 0.5972 - val_accuracy: 0.7086\n",
      "Epoch 3/100\n",
      "313/313 [==============================] - 10s 30ms/step - loss: 0.5720 - accuracy: 0.7294 - val_loss: 0.5688 - val_accuracy: 0.7320\n",
      "Epoch 4/100\n",
      "313/313 [==============================] - 9s 30ms/step - loss: 0.5469 - accuracy: 0.7526 - val_loss: 0.5479 - val_accuracy: 0.7434\n",
      "Epoch 5/100\n",
      "313/313 [==============================] - 10s 33ms/step - loss: 0.5269 - accuracy: 0.7660 - val_loss: 0.5361 - val_accuracy: 0.7476\n",
      "Epoch 6/100\n",
      "313/313 [==============================] - 10s 31ms/step - loss: 0.5105 - accuracy: 0.7753 - val_loss: 0.5179 - val_accuracy: 0.7632\n",
      "Epoch 7/100\n",
      "313/313 [==============================] - 10s 31ms/step - loss: 0.4964 - accuracy: 0.7826 - val_loss: 0.5086 - val_accuracy: 0.7686\n",
      "Epoch 8/100\n",
      "313/313 [==============================] - 10s 31ms/step - loss: 0.4840 - accuracy: 0.7901 - val_loss: 0.4971 - val_accuracy: 0.7758\n",
      "Epoch 9/100\n",
      "313/313 [==============================] - 10s 31ms/step - loss: 0.4721 - accuracy: 0.7965 - val_loss: 0.4891 - val_accuracy: 0.7784\n",
      "Epoch 10/100\n",
      "313/313 [==============================] - 10s 31ms/step - loss: 0.4614 - accuracy: 0.8014 - val_loss: 0.4827 - val_accuracy: 0.7768\n",
      "Epoch 11/100\n",
      "313/313 [==============================] - 10s 31ms/step - loss: 0.4520 - accuracy: 0.8049 - val_loss: 0.4767 - val_accuracy: 0.7826\n",
      "Epoch 12/100\n",
      "313/313 [==============================] - 10s 31ms/step - loss: 0.4436 - accuracy: 0.8088 - val_loss: 0.4734 - val_accuracy: 0.7844\n",
      "Epoch 13/100\n",
      "313/313 [==============================] - 10s 31ms/step - loss: 0.4363 - accuracy: 0.8119 - val_loss: 0.4655 - val_accuracy: 0.7880\n",
      "Epoch 14/100\n",
      "313/313 [==============================] - 10s 30ms/step - loss: 0.4297 - accuracy: 0.8137 - val_loss: 0.4664 - val_accuracy: 0.7904\n",
      "Epoch 15/100\n",
      "313/313 [==============================] - 10s 31ms/step - loss: 0.4240 - accuracy: 0.8146 - val_loss: 0.4638 - val_accuracy: 0.7884\n",
      "Epoch 16/100\n",
      "313/313 [==============================] - 10s 31ms/step - loss: 0.4192 - accuracy: 0.8174 - val_loss: 0.4584 - val_accuracy: 0.7932\n",
      "Epoch 17/100\n",
      "313/313 [==============================] - 10s 31ms/step - loss: 0.4149 - accuracy: 0.8188 - val_loss: 0.4614 - val_accuracy: 0.7900\n",
      "Epoch 18/100\n",
      "313/313 [==============================] - 9s 29ms/step - loss: 0.4112 - accuracy: 0.8216 - val_loss: 0.4548 - val_accuracy: 0.7920\n",
      "Epoch 19/100\n",
      "313/313 [==============================] - 10s 31ms/step - loss: 0.4080 - accuracy: 0.8229 - val_loss: 0.4548 - val_accuracy: 0.7918\n",
      "Epoch 20/100\n",
      "313/313 [==============================] - 10s 31ms/step - loss: 0.4057 - accuracy: 0.8219 - val_loss: 0.4565 - val_accuracy: 0.7928\n",
      "Epoch 21/100\n",
      "313/313 [==============================] - 10s 31ms/step - loss: 0.4025 - accuracy: 0.8256 - val_loss: 0.4535 - val_accuracy: 0.7944\n",
      "Epoch 22/100\n",
      "313/313 [==============================] - 10s 31ms/step - loss: 0.3995 - accuracy: 0.8267 - val_loss: 0.4555 - val_accuracy: 0.7916\n",
      "Epoch 23/100\n",
      "313/313 [==============================] - 10s 31ms/step - loss: 0.3977 - accuracy: 0.8253 - val_loss: 0.4519 - val_accuracy: 0.7930\n",
      "Epoch 24/100\n",
      "313/313 [==============================] - 10s 31ms/step - loss: 0.3953 - accuracy: 0.8286 - val_loss: 0.4546 - val_accuracy: 0.7898\n",
      "Epoch 25/100\n",
      "313/313 [==============================] - 10s 31ms/step - loss: 0.3931 - accuracy: 0.8295 - val_loss: 0.4549 - val_accuracy: 0.7930\n",
      "Epoch 26/100\n",
      "313/313 [==============================] - 10s 31ms/step - loss: 0.3911 - accuracy: 0.8292 - val_loss: 0.4535 - val_accuracy: 0.7934\n"
     ]
    }
   ],
   "source": [
    "#모델 훈련\n",
    "\n",
    "rmsprop = keras.optimizers.RMSprop(learning_rate=1e-4)\n",
    "model2.compile(optimizer=rmsprop, loss='binary_crossentropy', metrics=['accuracy'])\n",
    "checkpoint_cb = keras.callbacks.ModelCheckpoint('best-embedding-model.h5', save_best_only=True)\n",
    "early_stopping_cb = keras.callbacks.EarlyStopping(patience=3, restore_best_weights=True)\n",
    "history = model2.fit(train_seq, train_target, epochs=100, batch_size=64, validation_data=(val_seq, val_target), callbacks=[checkpoint_cb, early_stopping_cb])"
   ]
  },
  {
   "cell_type": "markdown",
   "id": "5d4bacaa",
   "metadata": {},
   "source": [
    "26번째 에포크에서 종료됨\n",
    "\n",
    "원-핫 인코딩 모델과 비슷한 성능\n",
    "\n",
    "정확도 약 80%(0.7944)"
   ]
  },
  {
   "cell_type": "code",
   "execution_count": 29,
   "id": "48daf794",
   "metadata": {},
   "outputs": [
    {
     "data": {
      "image/png": "[encoded data removed]",
      "text/plain": [
       "<Figure size 640x480 with 1 Axes>"
      ]
     },
     "metadata": {},
     "output_type": "display_data"
    }
   ],
   "source": [
    "#훈련/검증 손실 시각화\n",
    "\n",
    "plt.plot(history.history['loss'])\n",
    "plt.plot(history.history['val_loss'])\n",
    "plt.xlabel('epoch')\n",
    "plt.ylabel('loss')\n",
    "plt.legend(['train', 'val'])\n",
    "plt.show()"
   ]
  },
  {
   "cell_type": "markdown",
   "id": "0ce320f8",
   "metadata": {},
   "source": [
    "검증손실이 더 감소되지 않아 적절히 조기종료 됨\n",
    "\n",
    "-> 훈련 손실은 계속 감소\n",
    "\n",
    "더 개선할 방법 ?"
   ]
  },
  {
   "cell_type": "markdown",
   "id": "1af86e92",
   "metadata": {},
   "source": [
    "09-3 LSTM & GRU 셀\n",
    "\n",
    "\n",
    "일반적으로 기본 순환층(SimpleRNN)은 긴 시퀀스를 학습하기 어려움\n",
    "\n",
    "-> 시퀀스가 길수록 순환되는 은닉상태에 담긴 정보가 점차 희석되기 때문(멀리 떨어져 있는 단어 정보를 인식하는데 어려움 존재)\n",
    "\n",
    "\n",
    "고급 순환층 LSTM, GRU"
   ]
  },
  {
   "cell_type": "markdown",
   "id": "1240213c",
   "metadata": {},
   "source": [
    "LSTM)\n",
    "\n",
    "Long Short-Term Memory\n",
    "\n",
    "단기 기억을 오래 기억하기 위해 고안됨\n",
    "\n"
   ]
  },
  {
   "cell_type": "code",
   "execution_count": 30,
   "id": "f2ec7b17",
   "metadata": {},
   "outputs": [],
   "source": [
    "#훈련/검증 세트 나누기\n",
    "\n",
    "from tensorflow.keras.datasets import imdb\n",
    "\n",
    "from sklearn.model_selection import train_test_split\n",
    "\n",
    "(train_input, train_target), (test_input, test_target) = imdb.load_data(num_words=500)\n",
    "\n",
    "train_input, val_input, train_target, val_target = train_test_split(train_input, train_target, test_size=0.2, random_state=42)"
   ]
  },
  {
   "cell_type": "code",
   "execution_count": 31,
   "id": "ec596dd0",
   "metadata": {},
   "outputs": [],
   "source": [
    "#각 샘플의 길이 100에 맞추고 부족할 시 패딩 추가\n",
    "\n",
    "from tensorflow.keras.preprocessing.sequence import pad_sequences\n",
    "train_seq = pad_sequences(train_input, maxlen=100)\n",
    "val_seq = pad_sequences(val_input, maxlen=100)"
   ]
  },
  {
   "cell_type": "code",
   "execution_count": 32,
   "id": "0ddf6aea",
   "metadata": {},
   "outputs": [],
   "source": [
    "#LSTM 셀을 사용한 순환층\n",
    "\n",
    "from tensorflow import keras\n",
    "model = keras.Sequential()\n",
    "model.add(keras.layers.Embedding(500, 16, input_length=100))\n",
    "model.add(keras.layers.LSTM(8))\n",
    "model.add(keras.layers.Dense(1, activation='sigmoid'))"
   ]
  },
  {
   "cell_type": "code",
   "execution_count": 33,
   "id": "cbb8d871",
   "metadata": {},
   "outputs": [
    {
     "name": "stdout",
     "output_type": "stream",
     "text": [
      "Model: \"sequential_2\"\n",
      "_________________________________________________________________\n",
      " Layer (type)                Output Shape              Param #   \n",
      "=================================================================\n",
      " embedding_1 (Embedding)     (None, 100, 16)           8000      \n",
      "                                                                 \n",
      " lstm (LSTM)                 (None, 8)                 800       \n",
      "                                                                 \n",
      " dense_2 (Dense)             (None, 1)                 9         \n",
      "                                                                 \n",
      "=================================================================\n",
      "Total params: 8809 (34.41 KB)\n",
      "Trainable params: 8809 (34.41 KB)\n",
      "Non-trainable params: 0 (0.00 Byte)\n",
      "_________________________________________________________________\n"
     ]
    }
   ],
   "source": [
    "#모델 구조 출력\n",
    "\n",
    "model.summary()"
   ]
  },
  {
   "cell_type": "markdown",
   "id": "08e8d14d",
   "metadata": {},
   "source": [
    "Simple RNN : 모델 파라미터 개수 = 200\n",
    "\n",
    "LSTM 셀에는 작은 셀이 4개 있으므로, 정확히 4배가 늘어 모델 파라미터 개수 = 800"
   ]
  },
  {
   "cell_type": "code",
   "execution_count": 36,
   "id": "34dca4c7",
   "metadata": {},
   "outputs": [
    {
     "name": "stdout",
     "output_type": "stream",
     "text": [
      "Epoch 1/100\n",
      "313/313 [==============================] - 20s 52ms/step - loss: 0.6927 - accuracy: 0.5163 - val_loss: 0.6922 - val_accuracy: 0.5480\n",
      "Epoch 2/100\n",
      "313/313 [==============================] - 15s 47ms/step - loss: 0.6906 - accuracy: 0.6156 - val_loss: 0.6891 - val_accuracy: 0.6312\n",
      "Epoch 3/100\n",
      "313/313 [==============================] - 15s 48ms/step - loss: 0.6834 - accuracy: 0.6566 - val_loss: 0.6745 - val_accuracy: 0.6974\n",
      "Epoch 4/100\n",
      "313/313 [==============================] - 15s 48ms/step - loss: 0.6477 - accuracy: 0.6995 - val_loss: 0.6252 - val_accuracy: 0.7054\n",
      "Epoch 5/100\n",
      "313/313 [==============================] - 15s 48ms/step - loss: 0.6135 - accuracy: 0.7117 - val_loss: 0.6060 - val_accuracy: 0.7148\n",
      "Epoch 6/100\n",
      "313/313 [==============================] - 15s 49ms/step - loss: 0.5951 - accuracy: 0.7265 - val_loss: 0.5894 - val_accuracy: 0.7290\n",
      "Epoch 7/100\n",
      "313/313 [==============================] - 15s 49ms/step - loss: 0.5777 - accuracy: 0.7410 - val_loss: 0.5754 - val_accuracy: 0.7368\n",
      "Epoch 8/100\n",
      "313/313 [==============================] - 15s 49ms/step - loss: 0.5614 - accuracy: 0.7508 - val_loss: 0.5561 - val_accuracy: 0.7534\n",
      "Epoch 9/100\n",
      "313/313 [==============================] - 15s 48ms/step - loss: 0.5447 - accuracy: 0.7618 - val_loss: 0.5420 - val_accuracy: 0.7560\n",
      "Epoch 10/100\n",
      "313/313 [==============================] - 15s 48ms/step - loss: 0.5281 - accuracy: 0.7693 - val_loss: 0.5260 - val_accuracy: 0.7668\n",
      "Epoch 11/100\n",
      "313/313 [==============================] - 15s 48ms/step - loss: 0.5117 - accuracy: 0.7768 - val_loss: 0.5123 - val_accuracy: 0.7658\n",
      "Epoch 12/100\n",
      "313/313 [==============================] - 15s 47ms/step - loss: 0.4955 - accuracy: 0.7861 - val_loss: 0.4978 - val_accuracy: 0.7756\n",
      "Epoch 13/100\n",
      "313/313 [==============================] - 15s 48ms/step - loss: 0.4813 - accuracy: 0.7910 - val_loss: 0.4835 - val_accuracy: 0.7838\n",
      "Epoch 14/100\n",
      "313/313 [==============================] - 15s 48ms/step - loss: 0.4697 - accuracy: 0.7976 - val_loss: 0.4743 - val_accuracy: 0.7880\n",
      "Epoch 15/100\n",
      "313/313 [==============================] - 15s 49ms/step - loss: 0.4604 - accuracy: 0.8018 - val_loss: 0.4665 - val_accuracy: 0.7944\n",
      "Epoch 16/100\n",
      "313/313 [==============================] - 15s 49ms/step - loss: 0.4526 - accuracy: 0.8037 - val_loss: 0.4608 - val_accuracy: 0.7970\n",
      "Epoch 17/100\n",
      "313/313 [==============================] - 16s 50ms/step - loss: 0.4458 - accuracy: 0.8054 - val_loss: 0.4604 - val_accuracy: 0.7896\n",
      "Epoch 18/100\n",
      "313/313 [==============================] - 15s 48ms/step - loss: 0.4405 - accuracy: 0.8060 - val_loss: 0.4520 - val_accuracy: 0.7988\n",
      "Epoch 19/100\n",
      "313/313 [==============================] - 15s 47ms/step - loss: 0.4356 - accuracy: 0.8068 - val_loss: 0.4486 - val_accuracy: 0.7994\n",
      "Epoch 20/100\n",
      "313/313 [==============================] - 15s 47ms/step - loss: 0.4314 - accuracy: 0.8092 - val_loss: 0.4442 - val_accuracy: 0.8010\n",
      "Epoch 21/100\n",
      "313/313 [==============================] - 15s 48ms/step - loss: 0.4277 - accuracy: 0.8095 - val_loss: 0.4432 - val_accuracy: 0.7990\n",
      "Epoch 22/100\n",
      "313/313 [==============================] - 15s 48ms/step - loss: 0.4248 - accuracy: 0.8113 - val_loss: 0.4393 - val_accuracy: 0.8014\n",
      "Epoch 23/100\n",
      "313/313 [==============================] - 15s 49ms/step - loss: 0.4221 - accuracy: 0.8110 - val_loss: 0.4385 - val_accuracy: 0.8030\n",
      "Epoch 24/100\n",
      "313/313 [==============================] - 15s 47ms/step - loss: 0.4198 - accuracy: 0.8133 - val_loss: 0.4399 - val_accuracy: 0.7996\n",
      "Epoch 25/100\n",
      "313/313 [==============================] - 15s 48ms/step - loss: 0.4177 - accuracy: 0.8125 - val_loss: 0.4357 - val_accuracy: 0.8016\n",
      "Epoch 26/100\n",
      "313/313 [==============================] - 15s 48ms/step - loss: 0.4162 - accuracy: 0.8131 - val_loss: 0.4344 - val_accuracy: 0.8034\n",
      "Epoch 27/100\n",
      "313/313 [==============================] - 15s 48ms/step - loss: 0.4146 - accuracy: 0.8130 - val_loss: 0.4334 - val_accuracy: 0.7982\n",
      "Epoch 28/100\n",
      "313/313 [==============================] - 15s 49ms/step - loss: 0.4133 - accuracy: 0.8130 - val_loss: 0.4344 - val_accuracy: 0.8030\n",
      "Epoch 29/100\n",
      "313/313 [==============================] - 15s 49ms/step - loss: 0.4121 - accuracy: 0.8142 - val_loss: 0.4321 - val_accuracy: 0.7998\n",
      "Epoch 30/100\n",
      "313/313 [==============================] - 16s 50ms/step - loss: 0.4109 - accuracy: 0.8138 - val_loss: 0.4355 - val_accuracy: 0.7950\n",
      "Epoch 31/100\n",
      "313/313 [==============================] - 15s 48ms/step - loss: 0.4100 - accuracy: 0.8138 - val_loss: 0.4322 - val_accuracy: 0.8030\n",
      "Epoch 32/100\n",
      "313/313 [==============================] - 16s 52ms/step - loss: 0.4090 - accuracy: 0.8145 - val_loss: 0.4311 - val_accuracy: 0.7994\n",
      "Epoch 33/100\n",
      "313/313 [==============================] - 15s 47ms/step - loss: 0.4081 - accuracy: 0.8164 - val_loss: 0.4312 - val_accuracy: 0.8004\n",
      "Epoch 34/100\n",
      "313/313 [==============================] - 15s 48ms/step - loss: 0.4071 - accuracy: 0.8159 - val_loss: 0.4315 - val_accuracy: 0.8032\n",
      "Epoch 35/100\n",
      "313/313 [==============================] - 15s 49ms/step - loss: 0.4066 - accuracy: 0.8147 - val_loss: 0.4322 - val_accuracy: 0.7982\n"
     ]
    }
   ],
   "source": [
    "#모델 컴파일, 훈련\n",
    "\n",
    "rmsprop = keras.optimizers.RMSprop(learning_rate=1e-4)\n",
    "model.compile(optimizer=rmsprop, loss='binary_crossentropy', metrics=['accuracy'])\n",
    "checkpoint_cb = keras.callbacks.ModelCheckpoint('best-lstm-model.h5', save_best_only=True)\n",
    "early_stopping_cb = keras.callbacks.EarlyStopping(patience=3, restore_best_weights=True)\n",
    "history = model.fit(train_seq, train_target, epochs=100, batch_size=64, validation_data=(val_seq, val_target), callbacks=[checkpoint_cb, early_stopping_cb])"
   ]
  },
  {
   "cell_type": "markdown",
   "id": "9d87da86",
   "metadata": {},
   "source": [
    "35번째 에포크에서 조기종료\n",
    "\n",
    "검증세트 최대 정확도 : 0.8034"
   ]
  },
  {
   "cell_type": "code",
   "execution_count": 37,
   "id": "10bb82ef",
   "metadata": {},
   "outputs": [
    {
     "data": {
      "image/png": "[encoded data removed]",
      "text/plain": [
       "<Figure size 640x480 with 1 Axes>"
      ]
     },
     "metadata": {},
     "output_type": "display_data"
    }
   ],
   "source": [
    "#훈련/검증 손실 시각화\n",
    "\n",
    "import matplotlib.pyplot as plt\n",
    "\n",
    "plt.plot(history.history['loss'])\n",
    "plt.plot(history.history['val_loss'])\n",
    "plt.xlabel('epoch')\n",
    "plt.ylabel('loss')\n",
    "plt.legend(['train', 'val'])\n",
    "plt.show()"
   ]
  },
  {
   "cell_type": "markdown",
   "id": "8d30b4dd",
   "metadata": {},
   "source": [
    "기본 순환층보다 LSTM이 과대적합을 억제하면서 훈련을 잘 수행한 것으로 보임\n",
    "\n",
    "-> 경우에 따라 과대적합을 더욱 강하게 적용해야할 필요가 있음\n",
    "\n",
    "[드롭아웃을 순환층에 적용?]"
   ]
  },
  {
   "cell_type": "markdown",
   "id": "78205f2e",
   "metadata": {},
   "source": [
    "순환층에 드롭아웃 적용)\n",
    "\n",
    "DropOut을 통해 모델이 훈련 세트에 너무 과대적합되는 것을 방지\n",
    "\n",
    "순환 신경망 - 자체적으로 드롭아웃 기능 제공\n",
    "\n",
    "dropout 매개변수는 셀의 입력에 드롭아웃을 적용하고, recurrent_dropout은 순환되는 은닉 상태에 드롭아웃을 적용"
   ]
  },
  {
   "cell_type": "code",
   "execution_count": 38,
   "id": "5dd46fcb",
   "metadata": {},
   "outputs": [],
   "source": [
    "#LSTM 클래스에 dropout 매개변수를 0.3으로 지정하여 30%의 입력을 드롭아웃\n",
    "\n",
    "model2 = keras.Sequential()\n",
    "model2.add(keras.layers.Embedding(500, 16, input_length=100))\n",
    "model2.add(keras.layers.LSTM(8, dropout=0.3))\n",
    "model2.add(keras.layers.Dense(1, activation='sigmoid'))"
   ]
  },
  {
   "cell_type": "code",
   "execution_count": 39,
   "id": "e464901e",
   "metadata": {},
   "outputs": [
    {
     "name": "stdout",
     "output_type": "stream",
     "text": [
      "Epoch 1/100\n",
      "313/313 [==============================] - 21s 55ms/step - loss: 0.6928 - accuracy: 0.5300 - val_loss: 0.6924 - val_accuracy: 0.5668\n",
      "Epoch 2/100\n",
      "313/313 [==============================] - 16s 51ms/step - loss: 0.6921 - accuracy: 0.5638 - val_loss: 0.6916 - val_accuracy: 0.5840\n",
      "Epoch 3/100\n",
      "313/313 [==============================] - 16s 51ms/step - loss: 0.6909 - accuracy: 0.5835 - val_loss: 0.6900 - val_accuracy: 0.6014\n",
      "Epoch 4/100\n",
      "313/313 [==============================] - 16s 50ms/step - loss: 0.6885 - accuracy: 0.6105 - val_loss: 0.6869 - val_accuracy: 0.6208\n",
      "Epoch 5/100\n",
      "313/313 [==============================] - 16s 51ms/step - loss: 0.6836 - accuracy: 0.6334 - val_loss: 0.6795 - val_accuracy: 0.6488\n",
      "Epoch 6/100\n",
      "313/313 [==============================] - 16s 51ms/step - loss: 0.6703 - accuracy: 0.6668 - val_loss: 0.6580 - val_accuracy: 0.6928\n",
      "Epoch 7/100\n",
      "313/313 [==============================] - 16s 50ms/step - loss: 0.6336 - accuracy: 0.7075 - val_loss: 0.6126 - val_accuracy: 0.7120\n",
      "Epoch 8/100\n",
      "313/313 [==============================] - 16s 52ms/step - loss: 0.5970 - accuracy: 0.7178 - val_loss: 0.5851 - val_accuracy: 0.7244\n",
      "Epoch 9/100\n",
      "313/313 [==============================] - 16s 51ms/step - loss: 0.5708 - accuracy: 0.7286 - val_loss: 0.5626 - val_accuracy: 0.7364\n",
      "Epoch 10/100\n",
      "313/313 [==============================] - 16s 52ms/step - loss: 0.5486 - accuracy: 0.7437 - val_loss: 0.5408 - val_accuracy: 0.7472\n",
      "Epoch 11/100\n",
      "313/313 [==============================] - 16s 50ms/step - loss: 0.5297 - accuracy: 0.7545 - val_loss: 0.5219 - val_accuracy: 0.7630\n",
      "Epoch 12/100\n",
      "313/313 [==============================] - 15s 49ms/step - loss: 0.5117 - accuracy: 0.7667 - val_loss: 0.5080 - val_accuracy: 0.7658\n",
      "Epoch 13/100\n",
      "313/313 [==============================] - 16s 50ms/step - loss: 0.4976 - accuracy: 0.7736 - val_loss: 0.4919 - val_accuracy: 0.7762\n",
      "Epoch 14/100\n",
      "313/313 [==============================] - 17s 53ms/step - loss: 0.4842 - accuracy: 0.7815 - val_loss: 0.4808 - val_accuracy: 0.7830\n",
      "Epoch 15/100\n",
      "313/313 [==============================] - 16s 51ms/step - loss: 0.4728 - accuracy: 0.7888 - val_loss: 0.4723 - val_accuracy: 0.7846\n",
      "Epoch 16/100\n",
      "313/313 [==============================] - 16s 51ms/step - loss: 0.4646 - accuracy: 0.7901 - val_loss: 0.4652 - val_accuracy: 0.7886\n",
      "Epoch 17/100\n",
      "313/313 [==============================] - 16s 50ms/step - loss: 0.4594 - accuracy: 0.7908 - val_loss: 0.4601 - val_accuracy: 0.7876\n",
      "Epoch 18/100\n",
      "313/313 [==============================] - 16s 50ms/step - loss: 0.4530 - accuracy: 0.7944 - val_loss: 0.4539 - val_accuracy: 0.7894\n",
      "Epoch 19/100\n",
      "313/313 [==============================] - 16s 51ms/step - loss: 0.4475 - accuracy: 0.7997 - val_loss: 0.4505 - val_accuracy: 0.7918\n",
      "Epoch 20/100\n",
      "313/313 [==============================] - 16s 51ms/step - loss: 0.4455 - accuracy: 0.8001 - val_loss: 0.4482 - val_accuracy: 0.7930\n",
      "Epoch 21/100\n",
      "313/313 [==============================] - 15s 49ms/step - loss: 0.4397 - accuracy: 0.8026 - val_loss: 0.4499 - val_accuracy: 0.7964\n",
      "Epoch 22/100\n",
      "313/313 [==============================] - 16s 50ms/step - loss: 0.4384 - accuracy: 0.8027 - val_loss: 0.4463 - val_accuracy: 0.7928\n",
      "Epoch 23/100\n",
      "313/313 [==============================] - 15s 49ms/step - loss: 0.4351 - accuracy: 0.8056 - val_loss: 0.4433 - val_accuracy: 0.7966\n",
      "Epoch 24/100\n",
      "313/313 [==============================] - 16s 51ms/step - loss: 0.4333 - accuracy: 0.8070 - val_loss: 0.4440 - val_accuracy: 0.7944\n",
      "Epoch 25/100\n",
      "313/313 [==============================] - 15s 49ms/step - loss: 0.4321 - accuracy: 0.8065 - val_loss: 0.4407 - val_accuracy: 0.7962\n",
      "Epoch 26/100\n",
      "313/313 [==============================] - 16s 52ms/step - loss: 0.4305 - accuracy: 0.8050 - val_loss: 0.4394 - val_accuracy: 0.7984\n",
      "Epoch 27/100\n",
      "313/313 [==============================] - 16s 52ms/step - loss: 0.4283 - accuracy: 0.8054 - val_loss: 0.4382 - val_accuracy: 0.7958\n",
      "Epoch 28/100\n",
      "313/313 [==============================] - 16s 50ms/step - loss: 0.4270 - accuracy: 0.8061 - val_loss: 0.4364 - val_accuracy: 0.8024\n",
      "Epoch 29/100\n",
      "313/313 [==============================] - 17s 53ms/step - loss: 0.4263 - accuracy: 0.8073 - val_loss: 0.4433 - val_accuracy: 0.8022\n",
      "Epoch 30/100\n",
      "313/313 [==============================] - 17s 55ms/step - loss: 0.4259 - accuracy: 0.8063 - val_loss: 0.4360 - val_accuracy: 0.8014\n",
      "Epoch 31/100\n",
      "313/313 [==============================] - 16s 51ms/step - loss: 0.4236 - accuracy: 0.8106 - val_loss: 0.4349 - val_accuracy: 0.7968\n",
      "Epoch 32/100\n",
      "313/313 [==============================] - 17s 54ms/step - loss: 0.4227 - accuracy: 0.8087 - val_loss: 0.4351 - val_accuracy: 0.8034\n",
      "Epoch 33/100\n",
      "313/313 [==============================] - 17s 54ms/step - loss: 0.4229 - accuracy: 0.8077 - val_loss: 0.4337 - val_accuracy: 0.8004\n",
      "Epoch 34/100\n",
      "313/313 [==============================] - 18s 57ms/step - loss: 0.4204 - accuracy: 0.8098 - val_loss: 0.4352 - val_accuracy: 0.8042\n",
      "Epoch 35/100\n",
      "313/313 [==============================] - 17s 55ms/step - loss: 0.4201 - accuracy: 0.8093 - val_loss: 0.4342 - val_accuracy: 0.8040\n",
      "Epoch 36/100\n",
      "313/313 [==============================] - 16s 50ms/step - loss: 0.4216 - accuracy: 0.8090 - val_loss: 0.4335 - val_accuracy: 0.8036\n",
      "Epoch 37/100\n",
      "313/313 [==============================] - 16s 51ms/step - loss: 0.4200 - accuracy: 0.8115 - val_loss: 0.4334 - val_accuracy: 0.8050\n",
      "Epoch 38/100\n",
      "313/313 [==============================] - 15s 49ms/step - loss: 0.4176 - accuracy: 0.8124 - val_loss: 0.4321 - val_accuracy: 0.7996\n",
      "Epoch 39/100\n",
      "313/313 [==============================] - 16s 50ms/step - loss: 0.4187 - accuracy: 0.8084 - val_loss: 0.4321 - val_accuracy: 0.8010\n",
      "Epoch 40/100\n",
      "313/313 [==============================] - 16s 50ms/step - loss: 0.4173 - accuracy: 0.8086 - val_loss: 0.4310 - val_accuracy: 0.8020\n",
      "Epoch 41/100\n",
      "313/313 [==============================] - 16s 51ms/step - loss: 0.4169 - accuracy: 0.8078 - val_loss: 0.4315 - val_accuracy: 0.7976\n",
      "Epoch 42/100\n",
      "313/313 [==============================] - 16s 50ms/step - loss: 0.4159 - accuracy: 0.8079 - val_loss: 0.4310 - val_accuracy: 0.8010\n",
      "Epoch 43/100\n",
      "313/313 [==============================] - 16s 51ms/step - loss: 0.4153 - accuracy: 0.8125 - val_loss: 0.4310 - val_accuracy: 0.8036\n"
     ]
    }
   ],
   "source": [
    "#드롭아웃을 적용한 모델을 이전과 동일한 조건으로 훈련\n",
    "\n",
    "rmsprop = keras.optimizers.RMSprop(learning_rate=1e-4)\n",
    "model2.compile(optimizer=rmsprop, loss='binary_crossentropy', metrics=['accuracy'])\n",
    "checkpoint_cb = keras.callbacks.ModelCheckpoint('best-dropout-model.h5', save_best_only=True)\n",
    "early_stopping_cb = keras.callbacks.EarlyStopping(patience=3, restore_best_weights=True)\n",
    "history = model2.fit(train_seq, train_target, epochs=100, batch_size=64, validation_data=(val_seq, val_target), callbacks=[checkpoint_cb, early_stopping_cb])"
   ]
  },
  {
   "cell_type": "markdown",
   "id": "49dce9b4",
   "metadata": {},
   "source": [
    "검증 손실이 약간 향상된 것을 확인\n",
    "\n",
    "43번째 에포크에서 조기 종료\n",
    "\n",
    "검증세트 최대 정확도 : 0.8050"
   ]
  },
  {
   "cell_type": "code",
   "execution_count": 40,
   "id": "5af616ff",
   "metadata": {},
   "outputs": [
    {
     "data": {
      "image/png": "[encoded data removed]",
      "text/plain": [
       "<Figure size 640x480 with 1 Axes>"
      ]
     },
     "metadata": {},
     "output_type": "display_data"
    }
   ],
   "source": [
    "#훈련/검증 손실 시각화\n",
    "\n",
    "plt.plot(history.history['loss'])\n",
    "plt.plot(history.history['val_loss'])\n",
    "plt.xlabel('epoch')\n",
    "plt.ylabel('loss')\n",
    "plt.legend(['train', 'val'])\n",
    "plt.show()"
   ]
  },
  {
   "cell_type": "markdown",
   "id": "301ecc2a",
   "metadata": {},
   "source": [
    "LSTM에 적용한 드롭아웃이 효과적임을 확인\n",
    "\n",
    "-> 훈련/검증 손실 간의 차이가 좁혀짐"
   ]
  },
  {
   "cell_type": "markdown",
   "id": "6decb760",
   "metadata": {},
   "source": [
    "순환층을 여려개 쌓음)\n",
    "\n",
    "2개의 층 연결하기\n",
    "\n",
    "주의점 : 순환층의 은닉 상태는 샘플의 마지막 타임스텝에 대한 은닉 상태만 다음 층으로 전달\n",
    "\n",
    "-> 순환층을 쌓게 되면 모든 순환층에 순차 데이터가 필요\n",
    "\n",
    "-> 앞쪽의 순환층이 모든 타임스텝에 대한 은닉 상태를 출력해야 함(그래야 다음 순환층에 순차 데이터가 전달됨)\n",
    "\n",
    "*마지막 순환층을 제외한 앞쪽 순환층들에서 모든 타임스텝에 대한 은닉상태를 출력하려면 return_sequences 매개변수를 True로 지정 !"
   ]
  },
  {
   "cell_type": "code",
   "execution_count": 41,
   "id": "43dbcdb1",
   "metadata": {},
   "outputs": [],
   "source": [
    "model3 = keras.Sequential()\n",
    "model3.add(keras.layers.Embedding(500, 16, input_length=100))\n",
    "model3.add(keras.layers.LSTM(8, dropout=0.3, return_sequences=True))\n",
    "model3.add(keras.layers.LSTM(8, dropout=0.3))\n",
    "model3.add(keras.layers.Dense(1, activation='sigmoid'))"
   ]
  },
  {
   "cell_type": "markdown",
   "id": "d86a3404",
   "metadata": {},
   "source": [
    "2개의 LSTM 층을 쌓고, 모두 드롭아웃을 0.3으로 지정\n",
    "\n",
    "첫번째 LSTM 클래스에는 return_sequences 매개변수를 True로 지정하여 다음 순환층에 순차 데이터를 전달되는 형태로 만듦"
   ]
  },
  {
   "cell_type": "code",
   "execution_count": 42,
   "id": "ea7a1354",
   "metadata": {},
   "outputs": [
    {
     "name": "stdout",
     "output_type": "stream",
     "text": [
      "Model: \"sequential_4\"\n",
      "_________________________________________________________________\n",
      " Layer (type)                Output Shape              Param #   \n",
      "=================================================================\n",
      " embedding_3 (Embedding)     (None, 100, 16)           8000      \n",
      "                                                                 \n",
      " lstm_2 (LSTM)               (None, 100, 8)            800       \n",
      "                                                                 \n",
      " lstm_3 (LSTM)               (None, 8)                 544       \n",
      "                                                                 \n",
      " dense_4 (Dense)             (None, 1)                 9         \n",
      "                                                                 \n",
      "=================================================================\n",
      "Total params: 9353 (36.54 KB)\n",
      "Trainable params: 9353 (36.54 KB)\n",
      "Non-trainable params: 0 (0.00 Byte)\n",
      "_________________________________________________________________\n"
     ]
    }
   ],
   "source": [
    "#모델 요약\n",
    "\n",
    "model3.summary()"
   ]
  },
  {
   "cell_type": "markdown",
   "id": "34fd7865",
   "metadata": {},
   "source": [
    "첫번째 LSTM 층이 모든 타임스텝(100개)의 은닉 상태를 출력하기 -> 출력 크기 : (None, 100, 8)로 표시됨\n",
    "\n",
    "두번째 LSTM 층의 출력 크기는 마지막 타임스텝의 은닉 상태만 출력 -> 출력 크기 : (None, 8)"
   ]
  },
  {
   "cell_type": "code",
   "execution_count": 43,
   "id": "cb9e5747",
   "metadata": {},
   "outputs": [
    {
     "name": "stdout",
     "output_type": "stream",
     "text": [
      "Epoch 1/100\n",
      "313/313 [==============================] - 39s 98ms/step - loss: 0.6929 - accuracy: 0.5142 - val_loss: 0.6927 - val_accuracy: 0.5458\n",
      "Epoch 2/100\n",
      "313/313 [==============================] - 29s 92ms/step - loss: 0.6915 - accuracy: 0.5781 - val_loss: 0.6900 - val_accuracy: 0.6216\n",
      "Epoch 3/100\n",
      "313/313 [==============================] - 30s 96ms/step - loss: 0.6837 - accuracy: 0.6283 - val_loss: 0.6725 - val_accuracy: 0.6592\n",
      "Epoch 4/100\n",
      "313/313 [==============================] - 30s 95ms/step - loss: 0.6329 - accuracy: 0.6796 - val_loss: 0.5900 - val_accuracy: 0.6946\n",
      "Epoch 5/100\n",
      "313/313 [==============================] - 29s 93ms/step - loss: 0.5649 - accuracy: 0.7157 - val_loss: 0.5491 - val_accuracy: 0.7210\n",
      "Epoch 6/100\n",
      "313/313 [==============================] - 30s 95ms/step - loss: 0.5338 - accuracy: 0.7405 - val_loss: 0.5233 - val_accuracy: 0.7486\n",
      "Epoch 7/100\n",
      "313/313 [==============================] - 31s 98ms/step - loss: 0.5140 - accuracy: 0.7531 - val_loss: 0.5017 - val_accuracy: 0.7604\n",
      "Epoch 8/100\n",
      "313/313 [==============================] - 30s 95ms/step - loss: 0.4974 - accuracy: 0.7649 - val_loss: 0.4884 - val_accuracy: 0.7706\n",
      "Epoch 9/100\n",
      "313/313 [==============================] - 30s 96ms/step - loss: 0.4879 - accuracy: 0.7707 - val_loss: 0.4785 - val_accuracy: 0.7780\n",
      "Epoch 10/100\n",
      "313/313 [==============================] - 29s 94ms/step - loss: 0.4789 - accuracy: 0.7764 - val_loss: 0.4750 - val_accuracy: 0.7782\n",
      "Epoch 11/100\n",
      "313/313 [==============================] - 29s 94ms/step - loss: 0.4744 - accuracy: 0.7797 - val_loss: 0.4658 - val_accuracy: 0.7836\n",
      "Epoch 12/100\n",
      "313/313 [==============================] - 30s 95ms/step - loss: 0.4657 - accuracy: 0.7853 - val_loss: 0.4624 - val_accuracy: 0.7834\n",
      "Epoch 13/100\n",
      "313/313 [==============================] - 30s 96ms/step - loss: 0.4595 - accuracy: 0.7891 - val_loss: 0.4681 - val_accuracy: 0.7816\n",
      "Epoch 14/100\n",
      "313/313 [==============================] - 30s 96ms/step - loss: 0.4570 - accuracy: 0.7893 - val_loss: 0.4590 - val_accuracy: 0.7868\n",
      "Epoch 15/100\n",
      "313/313 [==============================] - 30s 96ms/step - loss: 0.4547 - accuracy: 0.7919 - val_loss: 0.4560 - val_accuracy: 0.7888\n",
      "Epoch 16/100\n",
      "313/313 [==============================] - 29s 94ms/step - loss: 0.4502 - accuracy: 0.7940 - val_loss: 0.4614 - val_accuracy: 0.7828\n",
      "Epoch 17/100\n",
      "313/313 [==============================] - 30s 96ms/step - loss: 0.4497 - accuracy: 0.7928 - val_loss: 0.4503 - val_accuracy: 0.7922\n",
      "Epoch 18/100\n",
      "313/313 [==============================] - 30s 96ms/step - loss: 0.4479 - accuracy: 0.7940 - val_loss: 0.4491 - val_accuracy: 0.7926\n",
      "Epoch 19/100\n",
      "313/313 [==============================] - 30s 95ms/step - loss: 0.4442 - accuracy: 0.7955 - val_loss: 0.4471 - val_accuracy: 0.7940\n",
      "Epoch 20/100\n",
      "313/313 [==============================] - 29s 94ms/step - loss: 0.4430 - accuracy: 0.7952 - val_loss: 0.4462 - val_accuracy: 0.7946\n",
      "Epoch 21/100\n",
      "313/313 [==============================] - 29s 93ms/step - loss: 0.4395 - accuracy: 0.7988 - val_loss: 0.4572 - val_accuracy: 0.7864\n",
      "Epoch 22/100\n",
      "313/313 [==============================] - 30s 95ms/step - loss: 0.4401 - accuracy: 0.7969 - val_loss: 0.4458 - val_accuracy: 0.7896\n",
      "Epoch 23/100\n",
      "313/313 [==============================] - 31s 98ms/step - loss: 0.4401 - accuracy: 0.7965 - val_loss: 0.4458 - val_accuracy: 0.7950\n",
      "Epoch 24/100\n",
      "313/313 [==============================] - 30s 96ms/step - loss: 0.4378 - accuracy: 0.7991 - val_loss: 0.4435 - val_accuracy: 0.7948\n",
      "Epoch 25/100\n",
      "313/313 [==============================] - 30s 96ms/step - loss: 0.4331 - accuracy: 0.8022 - val_loss: 0.4439 - val_accuracy: 0.7972\n",
      "Epoch 26/100\n",
      "313/313 [==============================] - 29s 94ms/step - loss: 0.4357 - accuracy: 0.8015 - val_loss: 0.4412 - val_accuracy: 0.7952\n",
      "Epoch 27/100\n",
      "313/313 [==============================] - 29s 94ms/step - loss: 0.4326 - accuracy: 0.8023 - val_loss: 0.4411 - val_accuracy: 0.7946\n",
      "Epoch 28/100\n",
      "313/313 [==============================] - 29s 94ms/step - loss: 0.4326 - accuracy: 0.8030 - val_loss: 0.4393 - val_accuracy: 0.7964\n",
      "Epoch 29/100\n",
      "313/313 [==============================] - 30s 95ms/step - loss: 0.4295 - accuracy: 0.8083 - val_loss: 0.4399 - val_accuracy: 0.7950\n",
      "Epoch 30/100\n",
      "313/313 [==============================] - 30s 96ms/step - loss: 0.4296 - accuracy: 0.8052 - val_loss: 0.4375 - val_accuracy: 0.7964\n",
      "Epoch 31/100\n",
      "313/313 [==============================] - 30s 97ms/step - loss: 0.4276 - accuracy: 0.8044 - val_loss: 0.4377 - val_accuracy: 0.7996\n",
      "Epoch 32/100\n",
      "313/313 [==============================] - 30s 95ms/step - loss: 0.4275 - accuracy: 0.8047 - val_loss: 0.4401 - val_accuracy: 0.7914\n",
      "Epoch 33/100\n",
      "313/313 [==============================] - 29s 94ms/step - loss: 0.4271 - accuracy: 0.8076 - val_loss: 0.4358 - val_accuracy: 0.7970\n",
      "Epoch 34/100\n",
      "313/313 [==============================] - 30s 95ms/step - loss: 0.4264 - accuracy: 0.8060 - val_loss: 0.4356 - val_accuracy: 0.8012\n",
      "Epoch 35/100\n",
      "313/313 [==============================] - 30s 95ms/step - loss: 0.4235 - accuracy: 0.8077 - val_loss: 0.4353 - val_accuracy: 0.7962\n",
      "Epoch 36/100\n",
      "313/313 [==============================] - 30s 95ms/step - loss: 0.4239 - accuracy: 0.8069 - val_loss: 0.4340 - val_accuracy: 0.7998\n",
      "Epoch 37/100\n",
      "313/313 [==============================] - 30s 95ms/step - loss: 0.4228 - accuracy: 0.8063 - val_loss: 0.4351 - val_accuracy: 0.7988\n",
      "Epoch 38/100\n",
      "313/313 [==============================] - 30s 95ms/step - loss: 0.4246 - accuracy: 0.8073 - val_loss: 0.4344 - val_accuracy: 0.8016\n",
      "Epoch 39/100\n",
      "313/313 [==============================] - 31s 100ms/step - loss: 0.4220 - accuracy: 0.8087 - val_loss: 0.4324 - val_accuracy: 0.8020\n",
      "Epoch 40/100\n",
      "313/313 [==============================] - 30s 94ms/step - loss: 0.4213 - accuracy: 0.8082 - val_loss: 0.4318 - val_accuracy: 0.8018\n",
      "Epoch 41/100\n",
      "313/313 [==============================] - 29s 94ms/step - loss: 0.4197 - accuracy: 0.8090 - val_loss: 0.4324 - val_accuracy: 0.8038\n",
      "Epoch 42/100\n",
      "313/313 [==============================] - 30s 94ms/step - loss: 0.4198 - accuracy: 0.8073 - val_loss: 0.4311 - val_accuracy: 0.8042\n",
      "Epoch 43/100\n",
      "313/313 [==============================] - 29s 94ms/step - loss: 0.4182 - accuracy: 0.8093 - val_loss: 0.4301 - val_accuracy: 0.8038\n",
      "Epoch 44/100\n",
      "313/313 [==============================] - 29s 93ms/step - loss: 0.4171 - accuracy: 0.8100 - val_loss: 0.4304 - val_accuracy: 0.8050\n",
      "Epoch 45/100\n",
      "313/313 [==============================] - 30s 97ms/step - loss: 0.4187 - accuracy: 0.8091 - val_loss: 0.4291 - val_accuracy: 0.8076\n",
      "Epoch 46/100\n",
      "313/313 [==============================] - 30s 94ms/step - loss: 0.4184 - accuracy: 0.8106 - val_loss: 0.4288 - val_accuracy: 0.8082\n",
      "Epoch 47/100\n",
      "313/313 [==============================] - 30s 95ms/step - loss: 0.4165 - accuracy: 0.8102 - val_loss: 0.4361 - val_accuracy: 0.8012\n",
      "Epoch 48/100\n",
      "313/313 [==============================] - 30s 95ms/step - loss: 0.4161 - accuracy: 0.8112 - val_loss: 0.4283 - val_accuracy: 0.8092\n",
      "Epoch 49/100\n",
      "313/313 [==============================] - 29s 93ms/step - loss: 0.4160 - accuracy: 0.8104 - val_loss: 0.4294 - val_accuracy: 0.8068\n",
      "Epoch 50/100\n",
      "313/313 [==============================] - 30s 95ms/step - loss: 0.4157 - accuracy: 0.8115 - val_loss: 0.4291 - val_accuracy: 0.8054\n",
      "Epoch 51/100\n",
      "313/313 [==============================] - 30s 94ms/step - loss: 0.4134 - accuracy: 0.8112 - val_loss: 0.4314 - val_accuracy: 0.8046\n"
     ]
    }
   ],
   "source": [
    "#모델 훈련\n",
    "\n",
    "rmsprop = keras.optimizers.RMSprop(learning_rate=1e-4)\n",
    "model3.compile(optimizer=rmsprop, loss='binary_crossentropy', metrics=['accuracy'])\n",
    "checkpoint_cb = keras.callbacks.ModelCheckpoint('best-2rnn-model.h5', save_best_only=True)\n",
    "early_stopping_cb = keras.callbacks.EarlyStopping(patience=3, restore_best_weights=True)\n",
    "history = model3.fit(train_seq, train_target, epochs=100, batch_size=64, validation_data=(val_seq, val_target), callbacks=[checkpoint_cb, early_stopping_cb])"
   ]
  },
  {
   "cell_type": "markdown",
   "id": "b2c8ecef",
   "metadata": {},
   "source": [
    "일반적으로 순환층을 쌓으면 성능이 높아짐\n",
    "\n",
    "-> 이 예제에서는 유의미한 결과를 내지는 못함\n",
    "\n",
    "\n",
    "51번째 에포크에서 조기종료\n",
    "\n",
    "검증세트 최대 정확도 : 0.8092"
   ]
  },
  {
   "cell_type": "code",
   "execution_count": 44,
   "id": "9e7d5763",
   "metadata": {},
   "outputs": [
    {
     "data": {
      "image/png": "[encoded data removed]",
      "text/plain": [
       "<Figure size 640x480 with 1 Axes>"
      ]
     },
     "metadata": {},
     "output_type": "display_data"
    }
   ],
   "source": [
    "#훈련/검증 손실 시각화\n",
    "\n",
    "plt.plot(history.history['loss'])\n",
    "plt.plot(history.history['val_loss'])\n",
    "plt.xlabel('epoch')\n",
    "plt.ylabel('loss')\n",
    "plt.legend(['train', 'val'])\n",
    "plt.show()"
   ]
  },
  {
   "cell_type": "markdown",
   "id": "6573ab94",
   "metadata": {},
   "source": [
    "결과 : 과대적합을 제어하면서 손실을 최대한 낮춤\n",
    "\n",
    "[현재까지 진행 내용]\n",
    "\n",
    "- LSTM 셀을 사용한 훈련\n",
    "- 드롭아웃 적용\n",
    "- 2개의 층을 쌓은 RNN"
   ]
  },
  {
   "cell_type": "markdown",
   "id": "a841b5e4",
   "metadata": {},
   "source": [
    "GRU 구조)\n",
    "\n",
    "LSTM의 구조를 단순화\n",
    "\n",
    "- output 없이 hidden state만 존재\n",
    "- output을 내지 않으므로 속도&메모리 효율성 개선\n",
    "- 여전히 장기 기억에 능함"
   ]
  },
  {
   "cell_type": "code",
   "execution_count": 45,
   "id": "e859efdc",
   "metadata": {},
   "outputs": [],
   "source": [
    "#GRU 신경망 훈련\n",
    "\n",
    "model4 = keras.Sequential()\n",
    "model4.add(keras.layers.Embedding(500, 16, input_length=100))\n",
    "model4.add(keras.layers.GRU(8))\n",
    "model4.add(keras.layers.Dense(1, activation='sigmoid'))"
   ]
  },
  {
   "cell_type": "code",
   "execution_count": 46,
   "id": "486829c4",
   "metadata": {},
   "outputs": [
    {
     "name": "stdout",
     "output_type": "stream",
     "text": [
      "Model: \"sequential_5\"\n",
      "_________________________________________________________________\n",
      " Layer (type)                Output Shape              Param #   \n",
      "=================================================================\n",
      " embedding_4 (Embedding)     (None, 100, 16)           8000      \n",
      "                                                                 \n",
      " gru (GRU)                   (None, 8)                 624       \n",
      "                                                                 \n",
      " dense_5 (Dense)             (None, 1)                 9         \n",
      "                                                                 \n",
      "=================================================================\n",
      "Total params: 8633 (33.72 KB)\n",
      "Trainable params: 8633 (33.72 KB)\n",
      "Non-trainable params: 0 (0.00 Byte)\n",
      "_________________________________________________________________\n"
     ]
    }
   ],
   "source": [
    "#모델 구조 확인\n",
    "\n",
    "model4.summary()"
   ]
  },
  {
   "cell_type": "markdown",
   "id": "5f5815a2",
   "metadata": {},
   "source": [
    "모델 파라미터 수 계산)\n",
    "\n",
    "GRU 셀에는 3개의 작은 셀 존재\n",
    "\n",
    "- 작은 셀에는 입력과 은닉 상태에 곱하는 가중치와 절편이 있음\n",
    "- 입력에 곱하는 가중치 : 16 * 8 = 128\n",
    "- 은닉 상태에 곱하는 가중치 : 8 * 8 =64\n",
    "- 절편 : 뉴런개수 8\n",
    "\n",
    "모두 더하면 200개\n",
    "\n",
    "-> 이런 작은 셀이 3개이므로, 모두 600개의 모델 파라미터 필요\n",
    "\n",
    "\n",
    "*그런데 위의 출력은 624개\n",
    "\n",
    "-> 은닉 상태에 곱해지는 가중치 외에 절편이 별도로 필요\n",
    "\n",
    "작은 셀마다 절편이 하나씩 추가되어 3(작은 셀 개수) * 8(뉴런 개수) = 24개의 절편이 추가로 더해짐\n",
    "\n",
    "GRU 층의 총 모델 파라미터 개수는 624개가 됨"
   ]
  },
  {
   "cell_type": "code",
   "execution_count": 47,
   "id": "68bb43dc",
   "metadata": {},
   "outputs": [
    {
     "name": "stdout",
     "output_type": "stream",
     "text": [
      "Epoch 1/100\n",
      "313/313 [==============================] - 21s 55ms/step - loss: 0.6927 - accuracy: 0.5221 - val_loss: 0.6920 - val_accuracy: 0.5620\n",
      "Epoch 2/100\n",
      "313/313 [==============================] - 17s 53ms/step - loss: 0.6911 - accuracy: 0.5699 - val_loss: 0.6902 - val_accuracy: 0.5846\n",
      "Epoch 3/100\n",
      "313/313 [==============================] - 17s 55ms/step - loss: 0.6887 - accuracy: 0.5875 - val_loss: 0.6876 - val_accuracy: 0.5982\n",
      "Epoch 4/100\n",
      "313/313 [==============================] - 18s 56ms/step - loss: 0.6853 - accuracy: 0.6000 - val_loss: 0.6836 - val_accuracy: 0.6076\n",
      "Epoch 5/100\n",
      "313/313 [==============================] - 17s 55ms/step - loss: 0.6800 - accuracy: 0.6108 - val_loss: 0.6777 - val_accuracy: 0.6068\n",
      "Epoch 6/100\n",
      "313/313 [==============================] - 16s 51ms/step - loss: 0.6724 - accuracy: 0.6224 - val_loss: 0.6693 - val_accuracy: 0.6160\n",
      "Epoch 7/100\n",
      "313/313 [==============================] - 16s 51ms/step - loss: 0.6617 - accuracy: 0.6324 - val_loss: 0.6586 - val_accuracy: 0.6214\n",
      "Epoch 8/100\n",
      "313/313 [==============================] - 17s 55ms/step - loss: 0.6467 - accuracy: 0.6489 - val_loss: 0.6412 - val_accuracy: 0.6402\n",
      "Epoch 9/100\n",
      "313/313 [==============================] - 17s 54ms/step - loss: 0.6256 - accuracy: 0.6657 - val_loss: 0.6172 - val_accuracy: 0.6666\n",
      "Epoch 10/100\n",
      "313/313 [==============================] - 16s 50ms/step - loss: 0.5924 - accuracy: 0.6944 - val_loss: 0.5760 - val_accuracy: 0.7016\n",
      "Epoch 11/100\n",
      "313/313 [==============================] - 17s 56ms/step - loss: 0.5356 - accuracy: 0.7380 - val_loss: 0.5221 - val_accuracy: 0.7450\n",
      "Epoch 12/100\n",
      "313/313 [==============================] - 17s 56ms/step - loss: 0.5017 - accuracy: 0.7619 - val_loss: 0.5056 - val_accuracy: 0.7556\n",
      "Epoch 13/100\n",
      "313/313 [==============================] - 17s 55ms/step - loss: 0.4865 - accuracy: 0.7688 - val_loss: 0.4950 - val_accuracy: 0.7670\n",
      "Epoch 14/100\n",
      "313/313 [==============================] - 15s 49ms/step - loss: 0.4738 - accuracy: 0.7791 - val_loss: 0.4854 - val_accuracy: 0.7716\n",
      "Epoch 15/100\n",
      "313/313 [==============================] - 16s 52ms/step - loss: 0.4634 - accuracy: 0.7890 - val_loss: 0.4771 - val_accuracy: 0.7754\n",
      "Epoch 16/100\n",
      "313/313 [==============================] - 17s 55ms/step - loss: 0.4555 - accuracy: 0.7923 - val_loss: 0.4714 - val_accuracy: 0.7808\n",
      "Epoch 17/100\n",
      "313/313 [==============================] - 17s 55ms/step - loss: 0.4483 - accuracy: 0.7959 - val_loss: 0.4657 - val_accuracy: 0.7828\n",
      "Epoch 18/100\n",
      "313/313 [==============================] - 18s 56ms/step - loss: 0.4427 - accuracy: 0.8009 - val_loss: 0.4635 - val_accuracy: 0.7854\n",
      "Epoch 19/100\n",
      "313/313 [==============================] - 17s 54ms/step - loss: 0.4383 - accuracy: 0.8029 - val_loss: 0.4579 - val_accuracy: 0.7870\n",
      "Epoch 20/100\n",
      "313/313 [==============================] - 16s 51ms/step - loss: 0.4341 - accuracy: 0.8066 - val_loss: 0.4553 - val_accuracy: 0.7924\n",
      "Epoch 21/100\n",
      "313/313 [==============================] - 16s 53ms/step - loss: 0.4306 - accuracy: 0.8086 - val_loss: 0.4573 - val_accuracy: 0.7898\n",
      "Epoch 22/100\n",
      "313/313 [==============================] - 17s 56ms/step - loss: 0.4282 - accuracy: 0.8105 - val_loss: 0.4556 - val_accuracy: 0.7904\n",
      "Epoch 23/100\n",
      "313/313 [==============================] - 17s 55ms/step - loss: 0.4265 - accuracy: 0.8104 - val_loss: 0.4492 - val_accuracy: 0.7922\n",
      "Epoch 24/100\n",
      "313/313 [==============================] - 17s 54ms/step - loss: 0.4247 - accuracy: 0.8112 - val_loss: 0.4479 - val_accuracy: 0.7920\n",
      "Epoch 25/100\n",
      "313/313 [==============================] - 17s 55ms/step - loss: 0.4223 - accuracy: 0.8135 - val_loss: 0.4508 - val_accuracy: 0.7946\n",
      "Epoch 26/100\n",
      "313/313 [==============================] - 17s 55ms/step - loss: 0.4215 - accuracy: 0.8127 - val_loss: 0.4458 - val_accuracy: 0.7938\n",
      "Epoch 27/100\n",
      "313/313 [==============================] - 17s 55ms/step - loss: 0.4202 - accuracy: 0.8138 - val_loss: 0.4459 - val_accuracy: 0.7954\n",
      "Epoch 28/100\n",
      "313/313 [==============================] - 17s 54ms/step - loss: 0.4193 - accuracy: 0.8134 - val_loss: 0.4448 - val_accuracy: 0.7930\n",
      "Epoch 29/100\n",
      "313/313 [==============================] - 17s 54ms/step - loss: 0.4179 - accuracy: 0.8152 - val_loss: 0.4443 - val_accuracy: 0.7950\n",
      "Epoch 30/100\n",
      "313/313 [==============================] - 17s 54ms/step - loss: 0.4171 - accuracy: 0.8164 - val_loss: 0.4428 - val_accuracy: 0.7936\n",
      "Epoch 31/100\n",
      "313/313 [==============================] - 17s 55ms/step - loss: 0.4166 - accuracy: 0.8152 - val_loss: 0.4429 - val_accuracy: 0.7956\n",
      "Epoch 32/100\n",
      "313/313 [==============================] - 17s 55ms/step - loss: 0.4156 - accuracy: 0.8151 - val_loss: 0.4466 - val_accuracy: 0.7890\n",
      "Epoch 33/100\n",
      "313/313 [==============================] - 17s 54ms/step - loss: 0.4146 - accuracy: 0.8169 - val_loss: 0.4425 - val_accuracy: 0.7942\n",
      "Epoch 34/100\n",
      "313/313 [==============================] - 16s 52ms/step - loss: 0.4140 - accuracy: 0.8162 - val_loss: 0.4451 - val_accuracy: 0.7964\n",
      "Epoch 35/100\n",
      "313/313 [==============================] - 17s 55ms/step - loss: 0.4136 - accuracy: 0.8162 - val_loss: 0.4405 - val_accuracy: 0.7958\n",
      "Epoch 36/100\n",
      "313/313 [==============================] - 17s 55ms/step - loss: 0.4129 - accuracy: 0.8174 - val_loss: 0.4400 - val_accuracy: 0.7974\n",
      "Epoch 37/100\n",
      "313/313 [==============================] - 16s 53ms/step - loss: 0.4125 - accuracy: 0.8165 - val_loss: 0.4402 - val_accuracy: 0.7958\n",
      "Epoch 38/100\n",
      "313/313 [==============================] - 17s 55ms/step - loss: 0.4120 - accuracy: 0.8164 - val_loss: 0.4388 - val_accuracy: 0.7974\n",
      "Epoch 39/100\n",
      "313/313 [==============================] - 16s 50ms/step - loss: 0.4111 - accuracy: 0.8181 - val_loss: 0.4398 - val_accuracy: 0.7940\n",
      "Epoch 40/100\n",
      "313/313 [==============================] - 17s 53ms/step - loss: 0.4107 - accuracy: 0.8183 - val_loss: 0.4430 - val_accuracy: 0.7968\n",
      "Epoch 41/100\n",
      "313/313 [==============================] - 17s 55ms/step - loss: 0.4100 - accuracy: 0.8175 - val_loss: 0.4382 - val_accuracy: 0.7994\n",
      "Epoch 42/100\n",
      "313/313 [==============================] - 17s 54ms/step - loss: 0.4098 - accuracy: 0.8183 - val_loss: 0.4380 - val_accuracy: 0.7958\n",
      "Epoch 43/100\n",
      "313/313 [==============================] - 18s 58ms/step - loss: 0.4093 - accuracy: 0.8193 - val_loss: 0.4372 - val_accuracy: 0.7954\n",
      "Epoch 44/100\n",
      "313/313 [==============================] - 18s 58ms/step - loss: 0.4089 - accuracy: 0.8184 - val_loss: 0.4365 - val_accuracy: 0.7990\n",
      "Epoch 45/100\n",
      "313/313 [==============================] - 17s 54ms/step - loss: 0.4085 - accuracy: 0.8193 - val_loss: 0.4376 - val_accuracy: 0.7984\n",
      "Epoch 46/100\n",
      "313/313 [==============================] - 18s 57ms/step - loss: 0.4081 - accuracy: 0.8191 - val_loss: 0.4359 - val_accuracy: 0.7984\n",
      "Epoch 47/100\n",
      "313/313 [==============================] - 18s 56ms/step - loss: 0.4074 - accuracy: 0.8189 - val_loss: 0.4366 - val_accuracy: 0.7990\n",
      "Epoch 48/100\n",
      "313/313 [==============================] - 17s 55ms/step - loss: 0.4071 - accuracy: 0.8199 - val_loss: 0.4360 - val_accuracy: 0.7958\n",
      "Epoch 49/100\n",
      "313/313 [==============================] - 18s 56ms/step - loss: 0.4064 - accuracy: 0.8191 - val_loss: 0.4346 - val_accuracy: 0.7982\n",
      "Epoch 50/100\n",
      "313/313 [==============================] - 17s 56ms/step - loss: 0.4059 - accuracy: 0.8185 - val_loss: 0.4347 - val_accuracy: 0.7972\n",
      "Epoch 51/100\n",
      "313/313 [==============================] - 19s 60ms/step - loss: 0.4056 - accuracy: 0.8196 - val_loss: 0.4357 - val_accuracy: 0.7970\n",
      "Epoch 52/100\n",
      "313/313 [==============================] - 18s 57ms/step - loss: 0.4051 - accuracy: 0.8193 - val_loss: 0.4350 - val_accuracy: 0.7998\n"
     ]
    }
   ],
   "source": [
    "#GRU 신경망 훈련\n",
    "\n",
    "rmsprop = keras.optimizers.RMSprop(learning_rate=1e-4)\n",
    "model4.compile(optimizer=rmsprop, loss='binary_crossentropy', metrics=['accuracy'])\n",
    "checkpoint_cb = keras.callbacks.ModelCheckpoint('best-gru-model.h5', save_best_only=True)\n",
    "early_stopping_cb = keras.callbacks.EarlyStopping(patience=3, restore_best_weights=True)\n",
    "history = model4.fit(train_seq, train_target, epochs=100, batch_size=64, validation_data=(val_seq, val_target), callbacks=[checkpoint_cb, early_stopping_cb])"
   ]
  },
  {
   "cell_type": "markdown",
   "id": "7f659f01",
   "metadata": {},
   "source": [
    "52번째 에포크에서 조기종료\n",
    "\n",
    "검증세트 정확도 : 0.7998"
   ]
  },
  {
   "cell_type": "code",
   "execution_count": 48,
   "id": "4e4f7210",
   "metadata": {},
   "outputs": [
    {
     "data": {
      "image/png": "[encoded data removed]",
      "text/plain": [
       "<Figure size 640x480 with 1 Axes>"
      ]
     },
     "metadata": {},
     "output_type": "display_data"
    }
   ],
   "source": [
    "#훈련/검증 손실 시각화\n",
    "\n",
    "plt.plot(history.history['loss'])\n",
    "plt.plot(history.history['val_loss'])\n",
    "plt.xlabel('epoch')\n",
    "plt.ylabel('loss')\n",
    "plt.legend(['train', 'val'])\n",
    "plt.show()"
   ]
  },
  {
   "cell_type": "markdown",
   "id": "02399de6",
   "metadata": {},
   "source": [
    "드롭아웃을 사용하지 않았으므로, 이전보다 훈련/검증 세트 간의 손실에 조금 더 차이가 있음\n",
    "\n",
    "-> 그래도 훈련 과정이 잘 수렴되고 있음을 확인\n",
    "\n",
    "*LSTM, GRU 셀을 사용해 성공적으로 훈련 완료"
   ]
  }
 ],
 "metadata": {
  "kernelspec": {
   "display_name": "Python [conda env:moabb] *",
   "language": "python",
   "name": "conda-env-moabb-py"
  },
  "language_info": {
   "codemirror_mode": {
    "name": "ipython",
    "version": 3
   },
   "file_extension": ".py",
   "mimetype": "text/x-python",
   "name": "python",
   "nbconvert_exporter": "python",
   "pygments_lexer": "ipython3",
   "version": "3.8.20"
  }
 },
 "nbformat": 4,
 "nbformat_minor": 5
}
