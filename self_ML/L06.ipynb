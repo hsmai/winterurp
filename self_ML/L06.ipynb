{
 "cells": [
  {
   "cell_type": "markdown",
   "id": "67a7202b",
   "metadata": {},
   "source": [
    "06-1 군집 알고리즘\n",
    "\n",
    "prob)\n",
    "소비자가 올린 과일 분류\n",
    "\n",
    "비지도 학습 : 타깃을 모르는 상태에서, 스스로 모델이 학습하고 입력 데이터를 분류 or 예측\n",
    "\n",
    "-> 사진의 픽셀값을 모두 평균내서 과일을 분류해 보자"
   ]
  },
  {
   "cell_type": "code",
   "execution_count": 3,
   "id": "593039f0",
   "metadata": {},
   "outputs": [
    {
     "name": "stdout",
     "output_type": "stream",
     "text": [
      "압축 해제 완료!\n"
     ]
    }
   ],
   "source": [
    "#과일 사진 데이터 준비\n",
    "\n",
    "import zipfile\n",
    "import os\n",
    "\n",
    "# 파일 경로와 압축 해제 경로 설정\n",
    "zip_path = 'C:/Users/sangm/fruits-360_dataset_100x100.zip'\n",
    "extract_path = 'C:/Users/sangm/fruits-360_dataset'\n",
    "\n",
    "# 압축 해제\n",
    "with zipfile.ZipFile(zip_path, 'r') as zip_ref:\n",
    "    zip_ref.extractall(extract_path)\n",
    "\n",
    "print(\"압축 해제 완료!\")\n"
   ]
  },
  {
   "cell_type": "code",
   "execution_count": 5,
   "id": "91b767b0",
   "metadata": {},
   "outputs": [
    {
     "ename": "FileNotFoundError",
     "evalue": "[WinError 3] 지정된 경로를 찾을 수 없습니다: 'C:/Users/sangm/fruits-360_dataset\\\\Training'",
     "output_type": "error",
     "traceback": [
      "\u001b[1;31m---------------------------------------------------------------------------\u001b[0m",
      "\u001b[1;31mFileNotFoundError\u001b[0m                         Traceback (most recent call last)",
      "Cell \u001b[1;32mIn[5], line 19\u001b[0m\n\u001b[0;32m     16\u001b[0m                 images\u001b[38;5;241m.\u001b[39mappend(np\u001b[38;5;241m.\u001b[39marray(image))\n\u001b[0;32m     17\u001b[0m     \u001b[38;5;28;01mreturn\u001b[39;00m np\u001b[38;5;241m.\u001b[39marray(images)\n\u001b[1;32m---> 19\u001b[0m X \u001b[38;5;241m=\u001b[39m \u001b[43mload_images\u001b[49m\u001b[43m(\u001b[49m\u001b[43mimage_folder\u001b[49m\u001b[43m)\u001b[49m\n\u001b[0;32m     21\u001b[0m \u001b[38;5;28mprint\u001b[39m(\u001b[38;5;124m\"\u001b[39m\u001b[38;5;124m이미지 배열 모양:\u001b[39m\u001b[38;5;124m\"\u001b[39m, X\u001b[38;5;241m.\u001b[39mshape)\n",
      "Cell \u001b[1;32mIn[5], line 10\u001b[0m, in \u001b[0;36mload_images\u001b[1;34m(image_folder)\u001b[0m\n\u001b[0;32m      8\u001b[0m \u001b[38;5;28;01mdef\u001b[39;00m \u001b[38;5;21mload_images\u001b[39m(image_folder):\n\u001b[0;32m      9\u001b[0m     images \u001b[38;5;241m=\u001b[39m []\n\u001b[1;32m---> 10\u001b[0m     class_names \u001b[38;5;241m=\u001b[39m \u001b[43mos\u001b[49m\u001b[38;5;241;43m.\u001b[39;49m\u001b[43mlistdir\u001b[49m\u001b[43m(\u001b[49m\u001b[43mimage_folder\u001b[49m\u001b[43m)\u001b[49m\n\u001b[0;32m     11\u001b[0m     \u001b[38;5;28;01mfor\u001b[39;00m class_name \u001b[38;5;129;01min\u001b[39;00m class_names:\n\u001b[0;32m     12\u001b[0m         class_path \u001b[38;5;241m=\u001b[39m os\u001b[38;5;241m.\u001b[39mpath\u001b[38;5;241m.\u001b[39mjoin(image_folder, class_name)\n",
      "\u001b[1;31mFileNotFoundError\u001b[0m: [WinError 3] 지정된 경로를 찾을 수 없습니다: 'C:/Users/sangm/fruits-360_dataset\\\\Training'"
     ]
    }
   ],
   "source": [
    "import numpy as np\n",
    "from PIL import Image\n",
    "import glob\n",
    "\n",
    "# Training 폴더에 있는 이미지 불러오기\n",
    "image_folder = os.path.join(extract_path, 'Training')\n",
    "\n",
    "def load_images(image_folder):\n",
    "    images = []\n",
    "    class_names = os.listdir(image_folder)\n",
    "    for class_name in class_names:\n",
    "        class_path = os.path.join(image_folder, class_name)\n",
    "        if os.path.isdir(class_path):\n",
    "            for image_path in glob.glob(class_path + '/*.jpg'):\n",
    "                image = Image.open(image_path).convert('RGB')\n",
    "                images.append(np.array(image))\n",
    "    return np.array(images)\n",
    "\n",
    "X = load_images(image_folder)\n",
    "\n",
    "print(\"이미지 배열 모양:\", X.shape)  # 예: (수량, 100, 100, 3)\n"
   ]
  },
  {
   "cell_type": "code",
   "execution_count": null,
   "id": "d19df570",
   "metadata": {},
   "outputs": [],
   "source": []
  }
 ],
 "metadata": {
  "kernelspec": {
   "display_name": "Python [conda env:moabb] *",
   "language": "python",
   "name": "conda-env-moabb-py"
  },
  "language_info": {
   "codemirror_mode": {
    "name": "ipython",
    "version": 3
   },
   "file_extension": ".py",
   "mimetype": "text/x-python",
   "name": "python",
   "nbconvert_exporter": "python",
   "pygments_lexer": "ipython3",
   "version": "3.8.20"
  }
 },
 "nbformat": 4,
 "nbformat_minor": 5
}
