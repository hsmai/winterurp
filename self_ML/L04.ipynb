{
 "cells": [
  {
   "cell_type": "markdown",
   "id": "74d65d68",
   "metadata": {},
   "source": [
    "04-1 로지스틱 회귀\n",
    "\n",
    "prob)\n",
    "럭키백 속의 생선이 어떤 타깃에 속하는지에 대한 확률 구하기\n",
    "\n",
    "\n",
    "럭키백의 확률)\n",
    "생선의 길이, 높이, 두께, 대각선 길이, 무게 데이터를 이용하여 7개 생선에 대한 확률 출력\n",
    "\n",
    "k-최근접 이웃 알고리즘 활용!\n",
    "\n",
    "이웃 클래스의 비율을 확률로 출력"
   ]
  },
  {
   "cell_type": "code",
   "execution_count": 1,
   "id": "2334af8c",
   "metadata": {},
   "outputs": [
    {
     "data": {
      "text/html": [
       "<div>\n",
       "<style scoped>\n",
       "    .dataframe tbody tr th:only-of-type {\n",
       "        vertical-align: middle;\n",
       "    }\n",
       "\n",
       "    .dataframe tbody tr th {\n",
       "        vertical-align: top;\n",
       "    }\n",
       "\n",
       "    .dataframe thead th {\n",
       "        text-align: right;\n",
       "    }\n",
       "</style>\n",
       "<table border=\"1\" class=\"dataframe\">\n",
       "  <thead>\n",
       "    <tr style=\"text-align: right;\">\n",
       "      <th></th>\n",
       "      <th>Species</th>\n",
       "      <th>Weight</th>\n",
       "      <th>Length</th>\n",
       "      <th>Diagonal</th>\n",
       "      <th>Height</th>\n",
       "      <th>Width</th>\n",
       "    </tr>\n",
       "  </thead>\n",
       "  <tbody>\n",
       "    <tr>\n",
       "      <th>0</th>\n",
       "      <td>Bream</td>\n",
       "      <td>242.0</td>\n",
       "      <td>25.4</td>\n",
       "      <td>30.0</td>\n",
       "      <td>11.5200</td>\n",
       "      <td>4.0200</td>\n",
       "    </tr>\n",
       "    <tr>\n",
       "      <th>1</th>\n",
       "      <td>Bream</td>\n",
       "      <td>290.0</td>\n",
       "      <td>26.3</td>\n",
       "      <td>31.2</td>\n",
       "      <td>12.4800</td>\n",
       "      <td>4.3056</td>\n",
       "    </tr>\n",
       "    <tr>\n",
       "      <th>2</th>\n",
       "      <td>Bream</td>\n",
       "      <td>340.0</td>\n",
       "      <td>26.5</td>\n",
       "      <td>31.1</td>\n",
       "      <td>12.3778</td>\n",
       "      <td>4.6961</td>\n",
       "    </tr>\n",
       "    <tr>\n",
       "      <th>3</th>\n",
       "      <td>Bream</td>\n",
       "      <td>363.0</td>\n",
       "      <td>29.0</td>\n",
       "      <td>33.5</td>\n",
       "      <td>12.7300</td>\n",
       "      <td>4.4555</td>\n",
       "    </tr>\n",
       "    <tr>\n",
       "      <th>4</th>\n",
       "      <td>Bream</td>\n",
       "      <td>430.0</td>\n",
       "      <td>29.0</td>\n",
       "      <td>34.0</td>\n",
       "      <td>12.4440</td>\n",
       "      <td>5.1340</td>\n",
       "    </tr>\n",
       "  </tbody>\n",
       "</table>\n",
       "</div>"
      ],
      "text/plain": [
       "  Species  Weight  Length  Diagonal   Height   Width\n",
       "0   Bream   242.0    25.4      30.0  11.5200  4.0200\n",
       "1   Bream   290.0    26.3      31.2  12.4800  4.3056\n",
       "2   Bream   340.0    26.5      31.1  12.3778  4.6961\n",
       "3   Bream   363.0    29.0      33.5  12.7300  4.4555\n",
       "4   Bream   430.0    29.0      34.0  12.4440  5.1340"
      ]
     },
     "execution_count": 1,
     "metadata": {},
     "output_type": "execute_result"
    }
   ],
   "source": [
    "#데이터 준비\n",
    "\n",
    "import pandas as pd\n",
    "\n",
    "fish = pd.read_csv('https://bit.ly/fish_csv_data')\n",
    "\n",
    "#데이터셋의 처음 5개 행 출력\n",
    "fish.head()"
   ]
  },
  {
   "cell_type": "code",
   "execution_count": 2,
   "id": "7fcf5f35",
   "metadata": {},
   "outputs": [
    {
     "name": "stdout",
     "output_type": "stream",
     "text": [
      "['Bream' 'Roach' 'Whitefish' 'Parkki' 'Perch' 'Pike' 'Smelt']\n"
     ]
    }
   ],
   "source": [
    "#어떤 종류의 생선이 있는지 확인\n",
    "\n",
    "print(pd.unique(fish['Species']))"
   ]
  },
  {
   "cell_type": "code",
   "execution_count": 3,
   "id": "9ef30fae",
   "metadata": {},
   "outputs": [
    {
     "name": "stdout",
     "output_type": "stream",
     "text": [
      "[[242.      25.4     30.      11.52     4.02  ]\n",
      " [290.      26.3     31.2     12.48     4.3056]\n",
      " [340.      26.5     31.1     12.3778   4.6961]\n",
      " [363.      29.      33.5     12.73     4.4555]\n",
      " [430.      29.      34.      12.444    5.134 ]]\n"
     ]
    }
   ],
   "source": [
    "#불러온 전체 데이터셋에서 첫번째 열(생선 종류) -> 타깃 데이터로 만들기\n",
    "#불러온 전체 데이터셋에서 첫번째 열을 제외한 모든 열(생선 특성) -> 입력 데이터로 만들기\n",
    "\n",
    "#5개의 열 넘파이 배열로 바꾸기\n",
    "fish_input = fish[['Weight', 'Length', 'Diagonal', 'Height', 'Width']].to_numpy()\n",
    "\n",
    "#5개의 특성을 저장한 처음 5개 행 출력\n",
    "print(fish_input[:5])"
   ]
  },
  {
   "cell_type": "code",
   "execution_count": 4,
   "id": "62f3dbb2",
   "metadata": {},
   "outputs": [],
   "source": [
    "#타깃 데이터 만들기\n",
    "\n",
    "fish_target = fish['Species'].to_numpy()"
   ]
  },
  {
   "cell_type": "code",
   "execution_count": 5,
   "id": "c06e6dad",
   "metadata": {},
   "outputs": [],
   "source": [
    "#훈련, 테스트 세트 나누기\n",
    "\n",
    "from sklearn.model_selection import train_test_split\n",
    "train_input, test_input, train_target, test_target = train_test_split(fish_input, fish_target, random_state=42)"
   ]
  },
  {
   "cell_type": "code",
   "execution_count": 6,
   "id": "891dd17d",
   "metadata": {},
   "outputs": [],
   "source": [
    "#훈련, 테스트 세트 표준화 전처리\n",
    "\n",
    "from sklearn.preprocessing import StandardScaler\n",
    "ss = StandardScaler()\n",
    "ss.fit(train_input)\n",
    "train_scaled = ss.transform(train_input)\n",
    "test_scaled = ss.transform(test_input)"
   ]
  },
  {
   "cell_type": "code",
   "execution_count": 7,
   "id": "34c90941",
   "metadata": {},
   "outputs": [
    {
     "name": "stdout",
     "output_type": "stream",
     "text": [
      "0.8907563025210085\n",
      "0.85\n"
     ]
    }
   ],
   "source": [
    "#k-최근접 이웃 분류기의 확률 예측\n",
    "\n",
    "from sklearn.neighbors import KNeighborsClassifier\n",
    "kn = KNeighborsClassifier(n_neighbors=3)\n",
    "kn.fit(train_scaled, train_target)\n",
    "print(kn.score(train_scaled, train_target))\n",
    "print(kn.score(test_scaled, test_target))"
   ]
  },
  {
   "cell_type": "markdown",
   "id": "0839151c",
   "metadata": {},
   "source": [
    "7개의 생선 - 타깃이 7개\n",
    "\n",
    "다중분류)\n",
    "타깃 데이터에 2개 이상의 클래스가 포함된 문제\n",
    "\n",
    "사이킷런에서는 문자열로 된 타깃값을 그대로 사용 가능\n",
    "이때, 타깃값을 그대로 모델에 전달하면 자동으로 순서가 알파벳 순으로 매겨짐\n",
    "-> pd.unique()로 출력했던 순서와 다름"
   ]
  },
  {
   "cell_type": "code",
   "execution_count": 8,
   "id": "0f0b6716",
   "metadata": {},
   "outputs": [
    {
     "name": "stdout",
     "output_type": "stream",
     "text": [
      "['Bream' 'Parkki' 'Perch' 'Pike' 'Roach' 'Smelt' 'Whitefish']\n"
     ]
    }
   ],
   "source": [
    "#정렬된 타깃값 출력\n",
    "\n",
    "print(kn.classes_)"
   ]
  },
  {
   "cell_type": "code",
   "execution_count": 9,
   "id": "fadc0b03",
   "metadata": {},
   "outputs": [
    {
     "name": "stdout",
     "output_type": "stream",
     "text": [
      "['Perch' 'Smelt' 'Pike' 'Perch' 'Perch']\n"
     ]
    }
   ],
   "source": [
    "#테스트 세트에 있는 처음 5개의 샘플의 타깃값 예측\n",
    "\n",
    "print(kn.predict(test_scaled[:5]))"
   ]
  },
  {
   "cell_type": "code",
   "execution_count": 10,
   "id": "ceb94c81",
   "metadata": {},
   "outputs": [
    {
     "name": "stdout",
     "output_type": "stream",
     "text": [
      "[[0.     0.     1.     0.     0.     0.     0.    ]\n",
      " [0.     0.     0.     0.     0.     1.     0.    ]\n",
      " [0.     0.     0.     1.     0.     0.     0.    ]\n",
      " [0.     0.     0.6667 0.     0.3333 0.     0.    ]\n",
      " [0.     0.     0.6667 0.     0.3333 0.     0.    ]]\n"
     ]
    }
   ],
   "source": [
    "#클래스별 확률값 확인\n",
    "\n",
    "import numpy as np\n",
    "proba = kn.predict_proba(test_scaled[:5])\n",
    "print(np.round(proba, decimals=4))"
   ]
  },
  {
   "cell_type": "markdown",
   "id": "1382ec0e",
   "metadata": {},
   "source": [
    "각 생선들에 대한 예측 확률을 확인할 수 있음\n",
    "\n",
    "이 모델이 계산한 확률이 가장 가까운 이웃의 비율이 맞는지 확인하기\n",
    "-> 4번째 샘플(4번째 행)의 최근접 이웃(3개)의 클래스 확인하기"
   ]
  },
  {
   "cell_type": "code",
   "execution_count": 11,
   "id": "ff575038",
   "metadata": {},
   "outputs": [
    {
     "name": "stdout",
     "output_type": "stream",
     "text": [
      "[['Roach' 'Perch' 'Perch']]\n"
     ]
    }
   ],
   "source": [
    "distances, indexes = kn.kneighbors(test_scaled[3:4])\n",
    "print(train_target[indexes])"
   ]
  },
  {
   "cell_type": "markdown",
   "id": "b56bb8eb",
   "metadata": {},
   "source": [
    "3번째 클래스 Perch 2개, 5번째 클래스 Roach 1개\n",
    "-> 이에 맞는 예측 확률 출력됨\n",
    "\n",
    "그런데 k=3인 이상, 출력 가능한 확률은 1/3, 2/3, 3/3 뿐임\n",
    "-> 이를 확률이라고 부르기에는 애매함"
   ]
  },
  {
   "cell_type": "markdown",
   "id": "fd9af510",
   "metadata": {},
   "source": [
    "로지스틱 회귀)\n",
    "\n",
    "이름은 회귀이지만, 분류 모델로서 사용됨\n",
    "\n",
    "선형회귀와 동일하게 선형 방정식을 학습\n",
    "\n",
    "z = a*(weight) + b*(length) ... + f\n",
    "\n",
    "a,b,c,d,e,f <- 가중치, 계수를 학습\n",
    "\n",
    "z값은 어떤 값이나 될 수 있기 때문에 이를 확률로 변환해주어야함\n",
    "\n",
    "\n",
    "시그모이드 함수(로지스틱 함수)를 통해 구현)\n",
    "\n",
    "z를 0~1 사이의 확률로 변환해주는 함수"
   ]
  },
  {
   "cell_type": "code",
   "execution_count": 13,
   "id": "acdd12e3",
   "metadata": {},
   "outputs": [
    {
     "data": {
      "image/png": "[encoded data removed]",
      "text/plain": [
       "<Figure size 640x480 with 1 Axes>"
      ]
     },
     "metadata": {},
     "output_type": "display_data"
    }
   ],
   "source": [
    "#시그모이드 함수 출력\n",
    "\n",
    "import numpy as np\n",
    "import matplotlib.pyplot as plt\n",
    "z = np.arange(-5, 5, 0.1)\n",
    "phi = 1 / (1 + np.exp(-z))\n",
    "plt.plot(z, phi)\n",
    "plt.xlabel('z')\n",
    "plt.ylabel('phi')\n",
    "plt.show()"
   ]
  },
  {
   "cell_type": "markdown",
   "id": "4e9dff90",
   "metadata": {},
   "source": [
    "z의 값에 따라 0~1 사이의 확률로 출력해주는 시그모이드 함수\n",
    "\n",
    "임계점을 0.5로 설정하여 임계점을 넘으면 클래스 1로, 넘지 못하면 클래스 0으로 판단하여 이진분류 수행"
   ]
  },
  {
   "cell_type": "code",
   "execution_count": 14,
   "id": "19c2aa6a",
   "metadata": {},
   "outputs": [],
   "source": [
    "#로지스틱 회귀로 이진분류 수행하기\n",
    "#불리언 인덱싱 사용\n",
    "#(true, false 값을 전달하여 행을 지정)\n",
    "\n",
    "#bream, smelt인 것만 true 나머지는 false로 설정된 열을 생성\n",
    "bream_smelt_indexes = (train_target == 'Bream') | (train_target == 'Smelt')\n",
    "train_bream_smelt = train_scaled[bream_smelt_indexes]\n",
    "target_bream_smelt = train_target[bream_smelt_indexes]"
   ]
  },
  {
   "cell_type": "code",
   "execution_count": 15,
   "id": "87c6957a",
   "metadata": {},
   "outputs": [
    {
     "name": "stdout",
     "output_type": "stream",
     "text": [
      "['Bream' 'Smelt' 'Bream' 'Bream' 'Bream']\n"
     ]
    }
   ],
   "source": [
    "from sklearn.linear_model import LogisticRegression\n",
    "lr = LogisticRegression()\n",
    "lr.fit(train_bream_smelt, target_bream_smelt)\n",
    "\n",
    "#처음 5개 샘플 예측\n",
    "print(lr.predict(train_bream_smelt[:5]))"
   ]
  },
  {
   "cell_type": "code",
   "execution_count": 16,
   "id": "78d8886e",
   "metadata": {},
   "outputs": [
    {
     "name": "stdout",
     "output_type": "stream",
     "text": [
      "[[0.99759855 0.00240145]\n",
      " [0.02735183 0.97264817]\n",
      " [0.99486072 0.00513928]\n",
      " [0.98584202 0.01415798]\n",
      " [0.99767269 0.00232731]]\n"
     ]
    }
   ],
   "source": [
    "#두 클래스에 대한 확률 출력\n",
    "\n",
    "print(lr.predict_proba(train_bream_smelt[:5]))"
   ]
  },
  {
   "cell_type": "code",
   "execution_count": 17,
   "id": "58d7b524",
   "metadata": {},
   "outputs": [
    {
     "name": "stdout",
     "output_type": "stream",
     "text": [
      "['Bream' 'Smelt']\n"
     ]
    }
   ],
   "source": [
    "#타깃값이 알파벳 순으로 정렬되어 있으므로 인덱스0이 Bream에 대한 확률, 인덱스1이 Smelt에 대한 확률\n",
    "\n",
    "print(lr.classes_)"
   ]
  },
  {
   "cell_type": "markdown",
   "id": "8d5cdc22",
   "metadata": {},
   "source": [
    "두번째 샘플 제외, 모두 Bream 클래스로 예측\n",
    "\n",
    "로지스틱 회귀로 이진분류 수행"
   ]
  },
  {
   "cell_type": "code",
   "execution_count": 18,
   "id": "2988dc78",
   "metadata": {},
   "outputs": [
    {
     "name": "stdout",
     "output_type": "stream",
     "text": [
      "[[-0.4037798  -0.57620209 -0.66280298 -1.01290277 -0.73168947]] [-2.16155132]\n"
     ]
    }
   ],
   "source": [
    "#로지스틱 회귀 모델이 학습한 가중치 확인\n",
    "\n",
    "print(lr.coef_, lr.intercept_)"
   ]
  },
  {
   "cell_type": "code",
   "execution_count": 19,
   "id": "a0fd5398",
   "metadata": {},
   "outputs": [
    {
     "name": "stdout",
     "output_type": "stream",
     "text": [
      "[-6.02927744  3.57123907 -5.26568906 -4.24321775 -6.0607117 ]\n"
     ]
    }
   ],
   "source": [
    "#처음 5개 샘플의 z값 출력\n",
    "\n",
    "decisions = lr.decision_function(train_bream_smelt[:5])\n",
    "print(decisions)"
   ]
  },
  {
   "cell_type": "code",
   "execution_count": 20,
   "id": "daa0c2e9",
   "metadata": {},
   "outputs": [
    {
     "name": "stdout",
     "output_type": "stream",
     "text": [
      "[0.00240145 0.97264817 0.00513928 0.01415798 0.00232731]\n"
     ]
    }
   ],
   "source": [
    "#z값을 시그모이드 함수에 통과시키면 확률을 얻을 수 있음\n",
    "\n",
    "from scipy.special import expit\n",
    "print(expit(decisions))"
   ]
  },
  {
   "cell_type": "markdown",
   "id": "b655e0db",
   "metadata": {},
   "source": [
    "predict_proba() 메서드 출력의 두번째 열의 값과 동일한 것을 확인할 수 있음\n",
    "\n",
    "-> decision_function() 메서드는 양성 클래스에 대한 z값을 반환\n",
    "\n",
    "-> 음성 클래스에 대한 z값은 1에서 양성 클래스의 z값을 빼면 됨\n",
    "\n",
    "\n",
    "이제 7개의 생선을 분류하는 다중 분류 문제 해결"
   ]
  },
  {
   "cell_type": "code",
   "execution_count": 21,
   "id": "1b77d801",
   "metadata": {},
   "outputs": [
    {
     "name": "stdout",
     "output_type": "stream",
     "text": [
      "0.9327731092436975\n",
      "0.925\n"
     ]
    }
   ],
   "source": [
    "#로디스틱 회귀로 다중분류 수행하기\n",
    "\n",
    "#로지스틱 회귀는 반복적인 알고리즘 사용 (max_iter=1000 으로 설정하여 반복횟수 부족하지 않도록 하기)\n",
    "#로지스틱 회귀는 기본적으로 계수의 제곱을 규제함(L2 규제)\n",
    "#C 매개변수로 로지스틱 회귀의 규제 제어\n",
    "#릿지 회귀의 alpha 매개변수와 반대로 C의 값이 커지면 규제가 작아지고, C의 값이 작아지면 규제가 커짐\n",
    "\n",
    "lr = LogisticRegression(C=20, max_iter=1000)\n",
    "lr.fit(train_scaled, train_target)\n",
    "print(lr.score(train_scaled, train_target))\n",
    "print(lr.score(test_scaled, test_target))"
   ]
  },
  {
   "cell_type": "code",
   "execution_count": 22,
   "id": "4614e02d",
   "metadata": {},
   "outputs": [
    {
     "name": "stdout",
     "output_type": "stream",
     "text": [
      "['Perch' 'Smelt' 'Pike' 'Roach' 'Perch']\n"
     ]
    }
   ],
   "source": [
    "#처음 5개 샘플에 대한 예측 출력\n",
    "print(lr.predict(test_scaled[:5]))"
   ]
  },
  {
   "cell_type": "code",
   "execution_count": 23,
   "id": "15a5c9a4",
   "metadata": {},
   "outputs": [
    {
     "name": "stdout",
     "output_type": "stream",
     "text": [
      "[[0.    0.014 0.841 0.    0.136 0.007 0.003]\n",
      " [0.    0.003 0.044 0.    0.007 0.946 0.   ]\n",
      " [0.    0.    0.034 0.935 0.015 0.016 0.   ]\n",
      " [0.011 0.034 0.306 0.007 0.567 0.    0.076]\n",
      " [0.    0.    0.904 0.002 0.089 0.002 0.001]]\n"
     ]
    }
   ],
   "source": [
    "#예측에 대한 확률 출력\n",
    "proba = lr.predict_proba(test_scaled[:5])\n",
    "print(np.round(proba, decimals=3))"
   ]
  },
  {
   "cell_type": "markdown",
   "id": "5c1cec13",
   "metadata": {},
   "source": [
    "5개 샘플에 대한 예측 확률이므로, 5개의 행이 출력됨\n",
    "\n",
    "7개의 생선에 대한 예측이므로, 7개의 열이 출력됨(각 열은 샘플이 해당 생선일 확률)\n",
    "\n",
    "가장 높은 확률이 예측 클래스가 됨"
   ]
  },
  {
   "cell_type": "code",
   "execution_count": 25,
   "id": "1fea402f",
   "metadata": {},
   "outputs": [
    {
     "name": "stdout",
     "output_type": "stream",
     "text": [
      "['Bream' 'Parkki' 'Perch' 'Pike' 'Roach' 'Smelt' 'Whitefish']\n"
     ]
    }
   ],
   "source": [
    "#예측된 생선과, 예측 확률이 일치하는지 확인\n",
    "print(lr.classes_)"
   ]
  },
  {
   "cell_type": "code",
   "execution_count": 26,
   "id": "03c3b2c7",
   "metadata": {},
   "outputs": [
    {
     "name": "stdout",
     "output_type": "stream",
     "text": [
      "(7, 5) (7,)\n"
     ]
    }
   ],
   "source": [
    "#다중분류의 선형 방정식 형태 확인\n",
    "\n",
    "print(lr.coef_.shape, lr.intercept_.shape)"
   ]
  },
  {
   "cell_type": "markdown",
   "id": "26b2249d",
   "metadata": {},
   "source": [
    "5개의 특성을 사용하였으므로, coef_ 배열의 열은 5개\n",
    "\n",
    "행이 7개인 이유?)\n",
    "다중분류는 클래스마다 z값을 하나씩 계산하므로, 행이 7개임\n",
    "\n",
    "가장 높은 z값을 출력하는 클래스가 예측 클래스가 됨\n",
    "\n",
    "다중분류에서는 '소프트맥스'함수를 이용하여 z값을 0~1 사이의 확률로 변환"
   ]
  },
  {
   "cell_type": "code",
   "execution_count": 27,
   "id": "2c42257b",
   "metadata": {},
   "outputs": [
    {
     "name": "stdout",
     "output_type": "stream",
     "text": [
      "[[ -6.5    1.03   5.16  -2.73   3.34   0.33  -0.63]\n",
      " [-10.86   1.93   4.77  -2.4    2.98   7.84  -4.26]\n",
      " [ -4.34  -6.23   3.17   6.49   2.36   2.42  -3.87]\n",
      " [ -0.68   0.45   2.65  -1.19   3.26  -5.75   1.26]\n",
      " [ -6.4   -1.99   5.82  -0.11   3.5   -0.11  -0.71]]\n"
     ]
    }
   ],
   "source": [
    "#z1~z7 까지의 값을 구한 다음, 소프트맥스 함수를 사용해 확률로 변환\n",
    "\n",
    "#각 클래스에 대한 z값 구하기\n",
    "decision = lr.decision_function(test_scaled[:5])\n",
    "print(np.round(decision, decimals=2))"
   ]
  },
  {
   "cell_type": "code",
   "execution_count": 28,
   "id": "f4216b7a",
   "metadata": {},
   "outputs": [
    {
     "name": "stdout",
     "output_type": "stream",
     "text": [
      "[[0.    0.014 0.841 0.    0.136 0.007 0.003]\n",
      " [0.    0.003 0.044 0.    0.007 0.946 0.   ]\n",
      " [0.    0.    0.034 0.935 0.015 0.016 0.   ]\n",
      " [0.011 0.034 0.306 0.007 0.567 0.    0.076]\n",
      " [0.    0.    0.904 0.002 0.089 0.002 0.001]]\n"
     ]
    }
   ],
   "source": [
    "#소프트맥스 함수로 z값을 확률로 변환하기\n",
    "from scipy.special import softmax\n",
    "proba = softmax(decision, axis=1)\n",
    "print(np.round(proba, decimals=3))"
   ]
  },
  {
   "cell_type": "markdown",
   "id": "f154603c",
   "metadata": {},
   "source": [
    "axis로 소프트맥스를 계산할 축 지정\n",
    "(axis=1로 지정하여 각 행, 즉 샘플에 대해 연산 수행)\n",
    "\n",
    "앞서 구한 proba와 정확히 일치하는 것을 확인할 수 있음"
   ]
  },
  {
   "cell_type": "markdown",
   "id": "c513846e",
   "metadata": {},
   "source": [
    "04-2 확률적 경사 하강법\n",
    "\n",
    "prob)\n",
    "생선 데이터가 한번에 들어오는 것이 아닌, 조금씩 전달됨\n",
    "\n",
    "점진적 학습)\n",
    "\n",
    "앞서 훈련한 모델을 버리지 않고 새로운 데이터에 대해 조금씩 더 훈련하는 학습 방법\n",
    "ex - 확률적 경사 하강법\n",
    "\n",
    "\n",
    "확률적 경사 하강법)\n",
    "가장 가파른 경사를 따라 내려가서 빠르게 원하는 지점에 도달하는 것이 목표\n",
    "-> 조금씩 내려와야 원하는 지점에 도달 가능\n",
    "\n",
    "이렇게 내려오는 과정이 경사 하강법 모델을 훈련하는 것\n",
    "\n",
    "가장 가파른 경사를 찾기 위해 확률적으로 랜덤하게 길을 골라 찾는 것\n",
    "-> 훈련세트에서 랜덤하게 하나의 샘플을 고르는 것 : 확률적 경사 하강법\n",
    "\n",
    "미니배치 경사 하강법 : 여러개의 샘플을 사용해 경사 하강법을 수행하는 방식\n",
    "배치 경사 하강법 : 극단적으로 전체 샘플을 사용해 경사 하강법 수행\n",
    "\n",
    "에포크 : 훈련세트를 한번 모두 사용하는 과정\n",
    "-> 일반적으로 경사하강법은 이 에포크를 여러번 수행\n",
    "\n",
    "\n",
    "'훈련세트를 사용해 산 아래에 있는 최적의 장소로 조금씩 이동하는 알고리즘'\n",
    "'손실 함수J(θ) 의 기울기(gradient)를 계산하고, 이를 반대 방향으로 일정한 크기(학습률 𝛼)만큼 이동하면서 최적의 𝜃 값을 찾아가는 방식'"
   ]
  },
  {
   "cell_type": "markdown",
   "id": "bfe51ba1",
   "metadata": {},
   "source": [
    "손실함수)\n",
    "\n",
    "머신러닝 알고리즘의 성능을 측정하는 기준\n",
    "\n",
    "손실함수가 작을 수록 좋음\n",
    "\n",
    "\n",
    "로지스틱 손실함수)\n",
    "\n",
    "예측*타깃 을 음수로 바꾸어 사용\n",
    "-> 이 값이 '손실'이 됨\n",
    "\n",
    "음성클래스(0)을 곱하면 무조건 0이 되므로, 양성클래스(1)에 대한 예측으로 바꾸어 계산한 후, 1에서 이 값을 빼줌, 그리고 마찬가지로 음수화\n",
    "\n",
    "'음수화'하므로, 절대값이 클수록 손실이 작은 것(좋음)\n",
    "\n",
    "\n",
    "로그함수로 변환하여 이해하기 쉽도록 바꾸기)\n",
    "\n",
    "타깃 = 1일때 : -log(예측확률)\n",
    "-> 예측 확률이 1에서 멀어질수록 손실값이 커짐\n",
    "\n",
    "\n",
    "타깃 = 0일때 : -log(1-예측확률)\n",
    "-> 예측 확률이 0에서 멀어질수록 손실값이 커짐\n",
    "\n",
    "\n",
    "이러한 손실함수 : 로지스틱 손실함수 or 이진 크로스엔트로피 손실함수\n",
    "\n",
    "다중분류에서 사용하는 손실함수 : 크로스엔트로피 손실함수\n",
    "\n",
    "\n",
    "\n"
   ]
  },
  {
   "cell_type": "code",
   "execution_count": 34,
   "id": "31459f1a",
   "metadata": {},
   "outputs": [],
   "source": [
    "#SGD Classifier - 경사하강법을 사용한 분류 모델\n",
    "\n",
    "\n",
    "#데이터 불러오기\n",
    "import pandas as pd\n",
    "fish = pd.read_csv('https://bit.ly/fish_csv_data')\n",
    "\n",
    "#입력, 타깃 데이터 각각 넘파이 배열로 바꾸기\n",
    "fish_input = fish[['Weight', 'Length', 'Diagonal', 'Height', 'Width']].to_numpy()\n",
    "fish_target = fish['Species'].to_numpy()\n",
    "\n",
    "#훈련, 테스트 세트 나누기\n",
    "from sklearn.model_selection import train_test_split\n",
    "train_input, test_input, train_target, test_target = train_test_split(fish_input, fish_target, random_state=42)\n",
    "\n",
    "#표준화 전처리\n",
    "from sklearn.preprocessing import StandardScaler\n",
    "ss = StandardScaler()\n",
    "ss.fit(train_input)\n",
    "train_scaled = ss.transform(train_input)\n",
    "test_scaled = ss.transform(test_input)"
   ]
  },
  {
   "cell_type": "code",
   "execution_count": 35,
   "id": "e5a3377e",
   "metadata": {},
   "outputs": [],
   "source": [
    "#확률적 경사하강법 제공하는 분류 클래스 import\n",
    "\n",
    "from sklearn.linear_model import SGDClassifier"
   ]
  },
  {
   "cell_type": "code",
   "execution_count": 37,
   "id": "6e2d51bf",
   "metadata": {},
   "outputs": [
    {
     "name": "stdout",
     "output_type": "stream",
     "text": [
      "0.773109243697479\n",
      "0.775\n"
     ]
    },
    {
     "name": "stderr",
     "output_type": "stream",
     "text": [
      "C:\\Users\\sangm\\anaconda3\\envs\\moabb\\lib\\site-packages\\sklearn\\linear_model\\_stochastic_gradient.py:713: ConvergenceWarning: Maximum number of iteration reached before convergence. Consider increasing max_iter to improve the fit.\n",
      "  warnings.warn(\n"
     ]
    }
   ],
   "source": [
    "#손실함수를 log함수로 지정, 반복횟수를 10회로 지정\n",
    "sc = SGDClassifier(loss='log_loss', max_iter=10, random_state=42)\n",
    "\n",
    "#모델 훈련\n",
    "sc.fit(train_scaled, train_target)\n",
    "\n",
    "#정확도 점수 출력\n",
    "print(sc.score(train_scaled, train_target))\n",
    "print(sc.score(test_scaled, test_target))"
   ]
  },
  {
   "cell_type": "markdown",
   "id": "1976e4b8",
   "metadata": {},
   "source": [
    "훈련, 테스트 세트 점수가 매우 낮은 것을 보니 반복 횟수가 충분치 못한 것(max_iter=10)\n",
    "\n",
    "반복 횟수 부족으로 ConvergenceWarning이 뜸"
   ]
  },
  {
   "cell_type": "code",
   "execution_count": 38,
   "id": "68139bfd",
   "metadata": {},
   "outputs": [
    {
     "name": "stdout",
     "output_type": "stream",
     "text": [
      "0.8151260504201681\n",
      "0.85\n"
     ]
    }
   ],
   "source": [
    "#SGDClassifier 객체를 다시 만들지 않고, 훈련한 모델 sc를 추가로 더 훈련(partial_fit 메서드 사용)\n",
    "#호출할 때 마다 1에포크 씩 이어서 훈련 가능\n",
    "\n",
    "sc.partial_fit(train_scaled, train_target)\n",
    "print(sc.score(train_scaled, train_target))\n",
    "print(sc.score(test_scaled, test_target))"
   ]
  },
  {
   "cell_type": "markdown",
   "id": "155ab4a5",
   "metadata": {},
   "source": [
    "에포크를 한번 더 실행하였더니, 정확도가 향상됨\n",
    "\n",
    "-> 여러 에포크에서 더 훈련해 봐야할듯\n",
    "\n",
    "-> 계속 반복할 수 없으니 기준이 필요"
   ]
  },
  {
   "cell_type": "markdown",
   "id": "0297d43a",
   "metadata": {},
   "source": [
    "에포크와 과대/과소적합\n",
    "\n",
    "확률적 경사 하강법을 사용한 모델은 에포크 횟수에 따라 과소,과대적합 될 수 있음\n",
    "\n",
    "과소적합 : 에포크 횟수가 적어 모델이 훈련세트를 덜 학습(산을 다 내려오기 전, 훈련을 마친 셈)\n",
    "\n",
    "과대적합 : 에포크 횟수가 너무 많아 모델이 훈련세트를 완전히 학습(훈련세트에만 맞는 모델이 만들어짐)\n",
    "\n",
    "'에포크가 진행됨에 따라 모델의 정확도를 나타낸 그래프'(p.210)\n",
    "\n",
    "테스트세트 점수가 어느 순간 감소하기 시작하는 부분 : 모델이 과대적합 되기 시작함\n",
    "\n",
    "-> 과대적합이 시작하기 전에 훈련을 멈추는 것 : 조기종료"
   ]
  },
  {
   "cell_type": "code",
   "execution_count": 39,
   "id": "b6727cd1",
   "metadata": {},
   "outputs": [],
   "source": [
    "#partial_fit 메서드만 사용\n",
    "\n",
    "\n",
    "import numpy as np\n",
    "sc = SGDClassifier(loss = 'log_loss', random_state=42)\n",
    "\n",
    "#에포크마다 훈련 세트와 테스트 세트에 대한 점수 기록을 위한 2개의 리스트 준비\n",
    "train_score = []\n",
    "test_score = []\n",
    "\n",
    "\n",
    "#7개 생선의 목록 만들기\n",
    "classes = np.unique(train_target)"
   ]
  },
  {
   "cell_type": "code",
   "execution_count": 41,
   "id": "4cc4fe76",
   "metadata": {},
   "outputs": [],
   "source": [
    "#300번의 에포크 동안 훈련을 반복\n",
    "#훈련, 테스트 세트의 점수를 계산하여 각 리스트에 추가\n",
    "\n",
    "for _ in range(0,300):\n",
    "    sc.partial_fit(train_scaled, train_target, classes=classes)\n",
    "    train_score.append(sc.score(train_scaled, train_target))\n",
    "    test_score.append(sc.score(test_scaled, test_target))"
   ]
  },
  {
   "cell_type": "code",
   "execution_count": 42,
   "id": "103c57f1",
   "metadata": {},
   "outputs": [
    {
     "data": {
      "image/png": "[encoded data removed]",
      "text/plain": [
       "<Figure size 640x480 with 1 Axes>"
      ]
     },
     "metadata": {},
     "output_type": "display_data"
    }
   ],
   "source": [
    "#300번의 에포크 동안 기록한 훈련, 테스트 세트의 점수 그래프화\n",
    "\n",
    "import matplotlib.pyplot as plt\n",
    "plt.plot(train_score)\n",
    "plt.plot(test_score)\n",
    "plt.xlabel('epoch')\n",
    "plt.ylabel('accuracy')\n",
    "plt.show()"
   ]
  },
  {
   "cell_type": "markdown",
   "id": "b7437a81",
   "metadata": {},
   "source": [
    "파랑 : 훈련세트\n",
    "주황 : 테스트세트\n",
    "\n",
    "백번째 에포크 이후로 훈련, 테스트 세트의 점수가 조금씩 벌어짐\n",
    "\n",
    "에포크 초기 : 과소적합으로 두 점수가 모두 낮음\n",
    "\n",
    "-> 백번째 에포크에서 두 점수가 가장 가깝게 위치, 적절한 에포크 수로 판단"
   ]
  },
  {
   "cell_type": "code",
   "execution_count": 43,
   "id": "40860f88",
   "metadata": {},
   "outputs": [
    {
     "name": "stdout",
     "output_type": "stream",
     "text": [
      "0.957983193277311\n",
      "0.925\n"
     ]
    }
   ],
   "source": [
    "#에포크 100회로 지정하여 모델 다시 훈련\n",
    "\n",
    "sc = SGDClassifier(loss='log_loss', max_iter=100, tol=None, random_state=42)\n",
    "sc.fit(train_scaled, train_target)\n",
    "print(sc.score(train_scaled, train_target))\n",
    "print(sc.score(test_scaled, test_target))"
   ]
  },
  {
   "cell_type": "markdown",
   "id": "9ccecb5c",
   "metadata": {},
   "source": [
    "SGDClassifier은 일정 에포크 동안 성능이 향상되지 않으면 더 훈련하지 않고 자동으로 멈춤\n",
    "\n",
    "tol 매개변수로 향상될 최솟값을 지정(최소 tol만큼 성능이 향상되지 않으면 훈련을 멈춤)\n",
    "\n",
    "위 예제에서는 tol=None으로 지정하여 자동으로 훈련을 멈추지 않고 무조건 100회의 반복으로 훈련하도록 함\n",
    "\n",
    "-> 최정 점수가 만족스러움 !\n",
    "\n"
   ]
  },
  {
   "cell_type": "code",
   "execution_count": 44,
   "id": "098b533b",
   "metadata": {},
   "outputs": [
    {
     "name": "stdout",
     "output_type": "stream",
     "text": [
      "0.9495798319327731\n",
      "0.925\n"
     ]
    }
   ],
   "source": [
    "#SGDClassifier의 loss 매개변수\n",
    "#loss 매개변수의 기본값 = hinge\n",
    "#힌지 손실은 '서포트 벡터 머신'이라는 머신러닝 알고리즘을 위한 손실 함수\n",
    "#SGDClassifier은 여러 종류의 손실함수를 loss 매개변수에 지정하여 다양한 머신러닝 알고리즘을 지원\n",
    "\n",
    "sc = SGDClassifier(loss='hinge', max_iter=100, tol=None, random_state=42)\n",
    "sc.fit(train_scaled, train_target)\n",
    "print(sc.score(train_scaled, train_target))\n",
    "print(sc.score(test_scaled, test_target))"
   ]
  },
  {
   "cell_type": "code",
   "execution_count": null,
   "id": "8e7ee383",
   "metadata": {},
   "outputs": [],
   "source": []
  }
 ],
 "metadata": {
  "kernelspec": {
   "display_name": "Python [conda env:moabb] *",
   "language": "python",
   "name": "conda-env-moabb-py"
  },
  "language_info": {
   "codemirror_mode": {
    "name": "ipython",
    "version": 3
   },
   "file_extension": ".py",
   "mimetype": "text/x-python",
   "name": "python",
   "nbconvert_exporter": "python",
   "pygments_lexer": "ipython3",
   "version": "3.8.20"
  }
 },
 "nbformat": 4,
 "nbformat_minor": 5
}
