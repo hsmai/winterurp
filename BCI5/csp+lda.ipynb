{
 "cells": [
  {
   "cell_type": "code",
   "outputs": [],
   "source": [
    "import numpy as np\n",
    "import mne\n",
    "from moabb.datasets import Cho2017\n",
    "from moabb.paradigms import MotorImagery, LeftRightImagery\n",
    "from moabb.evaluations import WithinSessionEvaluation\n",
    "\n",
    "from sklearn.discriminant_analysis import LinearDiscriminantAnalysis\n",
    "from sklearn.pipeline import Pipeline\n",
    "from sklearn.preprocessing import StandardScaler\n",
    "\n",
    "from mne.decoding import CSP\n",
    "import matplotlib.pyplot as plt"
   ],
   "metadata": {
    "collapsed": false,
    "ExecuteTime": {
     "end_time": "2025-02-07T08:03:14.103579Z",
     "start_time": "2025-02-07T08:03:14.092942Z"
    }
   },
   "id": "ab88aae9644bd6b6",
   "execution_count": 4
  },
  {
   "cell_type": "code",
   "outputs": [
    {
     "name": "stderr",
     "output_type": "stream",
     "text": [
      "Downloading data from 'ftp://parrot.genomics.cn/gigadb/pub/10.5524/100001_101000/100295/mat_data/s01.mat' to file 'C:\\Users\\sangm\\mne_data\\MNE-gigadb-data\\gigadb\\pub\\10.5524\\100001_101000\\100295\\mat_data\\s01.mat'.\n"
     ]
    },
    {
     "ename": "TimeoutError",
     "evalue": "[WinError 10060] 연결된 구성원으로부터 응답이 없어 연결하지 못했거나, 호스트로부터 응답이 없어 연결이 끊어졌습니다",
     "output_type": "error",
     "traceback": [
      "\u001B[1;31m---------------------------------------------------------------------------\u001B[0m",
      "\u001B[1;31mTimeoutError\u001B[0m                              Traceback (most recent call last)",
      "Cell \u001B[1;32mIn[5], line 5\u001B[0m\n\u001B[0;32m      2\u001B[0m \u001B[38;5;66;03m#dataset.download()\u001B[39;00m\n\u001B[0;32m      4\u001B[0m paradigm\u001B[38;5;241m=\u001B[39mLeftRightImagery()\n\u001B[1;32m----> 5\u001B[0m x,y,z\u001B[38;5;241m=\u001B[39m\u001B[43mparadigm\u001B[49m\u001B[38;5;241;43m.\u001B[39;49m\u001B[43mget_data\u001B[49m\u001B[43m(\u001B[49m\u001B[43mdataset\u001B[49m\u001B[38;5;241;43m=\u001B[39;49m\u001B[43mdataset\u001B[49m\u001B[43m,\u001B[49m\u001B[43m \u001B[49m\u001B[43msubjects\u001B[49m\u001B[38;5;241;43m=\u001B[39;49m\u001B[43m[\u001B[49m\u001B[38;5;241;43m1\u001B[39;49m\u001B[43m]\u001B[49m\u001B[43m)\u001B[49m\n\u001B[0;32m      6\u001B[0m x\u001B[38;5;241m.\u001B[39mshape, y\u001B[38;5;241m.\u001B[39mshape\n",
      "File \u001B[1;32m~\\anaconda3\\envs\\moabb\\lib\\site-packages\\moabb\\paradigms\\base.py:278\u001B[0m, in \u001B[0;36mBaseProcessing.get_data\u001B[1;34m(self, dataset, subjects, return_epochs, return_raws, cache_config, postprocess_pipeline)\u001B[0m\n\u001B[0;32m    273\u001B[0m process_pipelines \u001B[38;5;241m=\u001B[39m \u001B[38;5;28mself\u001B[39m\u001B[38;5;241m.\u001B[39mmake_process_pipelines(\n\u001B[0;32m    274\u001B[0m     dataset, return_epochs, return_raws, postprocess_pipeline\n\u001B[0;32m    275\u001B[0m )\n\u001B[0;32m    276\u001B[0m labels_pipeline \u001B[38;5;241m=\u001B[39m \u001B[38;5;28mself\u001B[39m\u001B[38;5;241m.\u001B[39mmake_labels_pipeline(dataset, return_epochs, return_raws)\n\u001B[1;32m--> 278\u001B[0m data \u001B[38;5;241m=\u001B[39m [\n\u001B[0;32m    279\u001B[0m     dataset\u001B[38;5;241m.\u001B[39mget_data(\n\u001B[0;32m    280\u001B[0m         subjects\u001B[38;5;241m=\u001B[39msubjects,\n\u001B[0;32m    281\u001B[0m         cache_config\u001B[38;5;241m=\u001B[39mcache_config,\n\u001B[0;32m    282\u001B[0m         process_pipeline\u001B[38;5;241m=\u001B[39mprocess_pipeline,\n\u001B[0;32m    283\u001B[0m     )\n\u001B[0;32m    284\u001B[0m     \u001B[38;5;28;01mfor\u001B[39;00m process_pipeline \u001B[38;5;129;01min\u001B[39;00m process_pipelines\n\u001B[0;32m    285\u001B[0m ]\n\u001B[0;32m    287\u001B[0m X \u001B[38;5;241m=\u001B[39m []\n\u001B[0;32m    288\u001B[0m labels \u001B[38;5;241m=\u001B[39m []\n",
      "File \u001B[1;32m~\\anaconda3\\envs\\moabb\\lib\\site-packages\\moabb\\paradigms\\base.py:279\u001B[0m, in \u001B[0;36m<listcomp>\u001B[1;34m(.0)\u001B[0m\n\u001B[0;32m    273\u001B[0m process_pipelines \u001B[38;5;241m=\u001B[39m \u001B[38;5;28mself\u001B[39m\u001B[38;5;241m.\u001B[39mmake_process_pipelines(\n\u001B[0;32m    274\u001B[0m     dataset, return_epochs, return_raws, postprocess_pipeline\n\u001B[0;32m    275\u001B[0m )\n\u001B[0;32m    276\u001B[0m labels_pipeline \u001B[38;5;241m=\u001B[39m \u001B[38;5;28mself\u001B[39m\u001B[38;5;241m.\u001B[39mmake_labels_pipeline(dataset, return_epochs, return_raws)\n\u001B[0;32m    278\u001B[0m data \u001B[38;5;241m=\u001B[39m [\n\u001B[1;32m--> 279\u001B[0m     \u001B[43mdataset\u001B[49m\u001B[38;5;241;43m.\u001B[39;49m\u001B[43mget_data\u001B[49m\u001B[43m(\u001B[49m\n\u001B[0;32m    280\u001B[0m \u001B[43m        \u001B[49m\u001B[43msubjects\u001B[49m\u001B[38;5;241;43m=\u001B[39;49m\u001B[43msubjects\u001B[49m\u001B[43m,\u001B[49m\n\u001B[0;32m    281\u001B[0m \u001B[43m        \u001B[49m\u001B[43mcache_config\u001B[49m\u001B[38;5;241;43m=\u001B[39;49m\u001B[43mcache_config\u001B[49m\u001B[43m,\u001B[49m\n\u001B[0;32m    282\u001B[0m \u001B[43m        \u001B[49m\u001B[43mprocess_pipeline\u001B[49m\u001B[38;5;241;43m=\u001B[39;49m\u001B[43mprocess_pipeline\u001B[49m\u001B[43m,\u001B[49m\n\u001B[0;32m    283\u001B[0m \u001B[43m    \u001B[49m\u001B[43m)\u001B[49m\n\u001B[0;32m    284\u001B[0m     \u001B[38;5;28;01mfor\u001B[39;00m process_pipeline \u001B[38;5;129;01min\u001B[39;00m process_pipelines\n\u001B[0;32m    285\u001B[0m ]\n\u001B[0;32m    287\u001B[0m X \u001B[38;5;241m=\u001B[39m []\n\u001B[0;32m    288\u001B[0m labels \u001B[38;5;241m=\u001B[39m []\n",
      "File \u001B[1;32m~\\anaconda3\\envs\\moabb\\lib\\site-packages\\moabb\\datasets\\base.py:342\u001B[0m, in \u001B[0;36mBaseDataset.get_data\u001B[1;34m(self, subjects, cache_config, process_pipeline)\u001B[0m\n\u001B[0;32m    340\u001B[0m     \u001B[38;5;28;01mif\u001B[39;00m subject \u001B[38;5;129;01mnot\u001B[39;00m \u001B[38;5;129;01min\u001B[39;00m \u001B[38;5;28mself\u001B[39m\u001B[38;5;241m.\u001B[39msubject_list:\n\u001B[0;32m    341\u001B[0m         \u001B[38;5;28;01mraise\u001B[39;00m \u001B[38;5;167;01mValueError\u001B[39;00m(\u001B[38;5;124m\"\u001B[39m\u001B[38;5;124mInvalid subject \u001B[39m\u001B[38;5;132;01m{:d}\u001B[39;00m\u001B[38;5;124m given\u001B[39m\u001B[38;5;124m\"\u001B[39m\u001B[38;5;241m.\u001B[39mformat(subject))\n\u001B[1;32m--> 342\u001B[0m     data[subject] \u001B[38;5;241m=\u001B[39m \u001B[38;5;28;43mself\u001B[39;49m\u001B[38;5;241;43m.\u001B[39;49m\u001B[43m_get_single_subject_data_using_cache\u001B[49m\u001B[43m(\u001B[49m\n\u001B[0;32m    343\u001B[0m \u001B[43m        \u001B[49m\u001B[43msubject\u001B[49m\u001B[43m,\u001B[49m\n\u001B[0;32m    344\u001B[0m \u001B[43m        \u001B[49m\u001B[43mcache_config\u001B[49m\u001B[43m,\u001B[49m\n\u001B[0;32m    345\u001B[0m \u001B[43m        \u001B[49m\u001B[43mprocess_pipeline\u001B[49m\u001B[43m,\u001B[49m\n\u001B[0;32m    346\u001B[0m \u001B[43m    \u001B[49m\u001B[43m)\u001B[49m\n\u001B[0;32m    347\u001B[0m check_subject_names(data)\n\u001B[0;32m    348\u001B[0m check_session_names(data)\n",
      "File \u001B[1;32m~\\anaconda3\\envs\\moabb\\lib\\site-packages\\moabb\\datasets\\base.py:436\u001B[0m, in \u001B[0;36mBaseDataset._get_single_subject_data_using_cache\u001B[1;34m(self, subject, cache_config, process_pipeline)\u001B[0m\n\u001B[0;32m    434\u001B[0m \u001B[38;5;66;03m# Load and eventually overwrite:\u001B[39;00m\n\u001B[0;32m    435\u001B[0m \u001B[38;5;28;01mif\u001B[39;00m \u001B[38;5;28mlen\u001B[39m(cached_steps) \u001B[38;5;241m==\u001B[39m \u001B[38;5;241m0\u001B[39m:  \u001B[38;5;66;03m# last option: we don't use cache\u001B[39;00m\n\u001B[1;32m--> 436\u001B[0m     sessions_data \u001B[38;5;241m=\u001B[39m \u001B[38;5;28;43mself\u001B[39;49m\u001B[38;5;241;43m.\u001B[39;49m\u001B[43m_get_single_subject_data\u001B[49m\u001B[43m(\u001B[49m\u001B[43msubject\u001B[49m\u001B[43m)\u001B[49m\n\u001B[0;32m    437\u001B[0m     \u001B[38;5;28;01massert\u001B[39;00m sessions_data \u001B[38;5;129;01mis\u001B[39;00m \u001B[38;5;129;01mnot\u001B[39;00m \u001B[38;5;28;01mNone\u001B[39;00m  \u001B[38;5;66;03m# should not happen\u001B[39;00m\n\u001B[0;32m    438\u001B[0m \u001B[38;5;28;01melse\u001B[39;00m:\n",
      "File \u001B[1;32m~\\anaconda3\\envs\\moabb\\lib\\site-packages\\moabb\\datasets\\gigadb.py:80\u001B[0m, in \u001B[0;36mCho2017._get_single_subject_data\u001B[1;34m(self, subject)\u001B[0m\n\u001B[0;32m     78\u001B[0m \u001B[38;5;28;01mdef\u001B[39;00m \u001B[38;5;21m_get_single_subject_data\u001B[39m(\u001B[38;5;28mself\u001B[39m, subject):\n\u001B[0;32m     79\u001B[0m \u001B[38;5;250m    \u001B[39m\u001B[38;5;124;03m\"\"\"Return data for a single subject.\"\"\"\u001B[39;00m\n\u001B[1;32m---> 80\u001B[0m     fname \u001B[38;5;241m=\u001B[39m \u001B[38;5;28;43mself\u001B[39;49m\u001B[38;5;241;43m.\u001B[39;49m\u001B[43mdata_path\u001B[49m\u001B[43m(\u001B[49m\u001B[43msubject\u001B[49m\u001B[43m)\u001B[49m\n\u001B[0;32m     82\u001B[0m     data \u001B[38;5;241m=\u001B[39m loadmat(\n\u001B[0;32m     83\u001B[0m         fname,\n\u001B[0;32m     84\u001B[0m         squeeze_me\u001B[38;5;241m=\u001B[39m\u001B[38;5;28;01mTrue\u001B[39;00m,\n\u001B[0;32m     85\u001B[0m         struct_as_record\u001B[38;5;241m=\u001B[39m\u001B[38;5;28;01mFalse\u001B[39;00m,\n\u001B[0;32m     86\u001B[0m         verify_compressed_data_integrity\u001B[38;5;241m=\u001B[39m\u001B[38;5;28;01mFalse\u001B[39;00m,\n\u001B[0;32m     87\u001B[0m     )[\u001B[38;5;124m\"\u001B[39m\u001B[38;5;124meeg\u001B[39m\u001B[38;5;124m\"\u001B[39m]\n\u001B[0;32m     89\u001B[0m     \u001B[38;5;66;03m# fmt: off\u001B[39;00m\n",
      "File \u001B[1;32m~\\anaconda3\\envs\\moabb\\lib\\site-packages\\moabb\\datasets\\gigadb.py:134\u001B[0m, in \u001B[0;36mCho2017.data_path\u001B[1;34m(self, subject, path, force_update, update_path, verbose)\u001B[0m\n\u001B[0;32m    131\u001B[0m     \u001B[38;5;28;01mraise\u001B[39;00m (\u001B[38;5;167;01mValueError\u001B[39;00m(\u001B[38;5;124m\"\u001B[39m\u001B[38;5;124mInvalid subject number\u001B[39m\u001B[38;5;124m\"\u001B[39m))\n\u001B[0;32m    133\u001B[0m url \u001B[38;5;241m=\u001B[39m \u001B[38;5;124m\"\u001B[39m\u001B[38;5;132;01m{:s}\u001B[39;00m\u001B[38;5;124ms\u001B[39m\u001B[38;5;132;01m{:02d}\u001B[39;00m\u001B[38;5;124m.mat\u001B[39m\u001B[38;5;124m\"\u001B[39m\u001B[38;5;241m.\u001B[39mformat(GIGA_URL, subject)\n\u001B[1;32m--> 134\u001B[0m \u001B[38;5;28;01mreturn\u001B[39;00m \u001B[43mdl\u001B[49m\u001B[38;5;241;43m.\u001B[39;49m\u001B[43mdata_dl\u001B[49m\u001B[43m(\u001B[49m\u001B[43murl\u001B[49m\u001B[43m,\u001B[49m\u001B[43m \u001B[49m\u001B[38;5;124;43m\"\u001B[39;49m\u001B[38;5;124;43mGIGADB\u001B[39;49m\u001B[38;5;124;43m\"\u001B[39;49m\u001B[43m,\u001B[49m\u001B[43m \u001B[49m\u001B[43mpath\u001B[49m\u001B[43m,\u001B[49m\u001B[43m \u001B[49m\u001B[43mforce_update\u001B[49m\u001B[43m,\u001B[49m\u001B[43m \u001B[49m\u001B[43mverbose\u001B[49m\u001B[43m)\u001B[49m\n",
      "File \u001B[1;32m<decorator-gen-432>:12\u001B[0m, in \u001B[0;36mdata_dl\u001B[1;34m(url, sign, path, force_update, verbose)\u001B[0m\n",
      "File \u001B[1;32m~\\anaconda3\\envs\\moabb\\lib\\site-packages\\moabb\\datasets\\download.py:155\u001B[0m, in \u001B[0;36mdata_dl\u001B[1;34m(url, sign, path, force_update, verbose)\u001B[0m\n\u001B[0;32m    153\u001B[0m \u001B[38;5;28;01melse\u001B[39;00m:\n\u001B[0;32m    154\u001B[0m     known_hash \u001B[38;5;241m=\u001B[39m file_hash(\u001B[38;5;28mstr\u001B[39m(destination))\n\u001B[1;32m--> 155\u001B[0m dlpath \u001B[38;5;241m=\u001B[39m \u001B[43mretrieve\u001B[49m\u001B[43m(\u001B[49m\n\u001B[0;32m    156\u001B[0m \u001B[43m    \u001B[49m\u001B[43murl\u001B[49m\u001B[43m,\u001B[49m\n\u001B[0;32m    157\u001B[0m \u001B[43m    \u001B[49m\u001B[43mknown_hash\u001B[49m\u001B[43m,\u001B[49m\n\u001B[0;32m    158\u001B[0m \u001B[43m    \u001B[49m\u001B[43mfname\u001B[49m\u001B[38;5;241;43m=\u001B[39;49m\u001B[43mPath\u001B[49m\u001B[43m(\u001B[49m\u001B[43murl\u001B[49m\u001B[43m)\u001B[49m\u001B[38;5;241;43m.\u001B[39;49m\u001B[43mname\u001B[49m\u001B[43m,\u001B[49m\n\u001B[0;32m    159\u001B[0m \u001B[43m    \u001B[49m\u001B[43mpath\u001B[49m\u001B[38;5;241;43m=\u001B[39;49m\u001B[38;5;28;43mstr\u001B[39;49m\u001B[43m(\u001B[49m\u001B[43mdestination\u001B[49m\u001B[38;5;241;43m.\u001B[39;49m\u001B[43mparent\u001B[49m\u001B[43m)\u001B[49m\u001B[43m,\u001B[49m\n\u001B[0;32m    160\u001B[0m \u001B[43m    \u001B[49m\u001B[43mprogressbar\u001B[49m\u001B[38;5;241;43m=\u001B[39;49m\u001B[38;5;28;43;01mTrue\u001B[39;49;00m\u001B[43m,\u001B[49m\n\u001B[0;32m    161\u001B[0m \u001B[43m    \u001B[49m\u001B[43mdownloader\u001B[49m\u001B[38;5;241;43m=\u001B[39;49m\u001B[43mdownloader\u001B[49m\u001B[43m,\u001B[49m\n\u001B[0;32m    162\u001B[0m \u001B[43m\u001B[49m\u001B[43m)\u001B[49m\n\u001B[0;32m    163\u001B[0m \u001B[38;5;28;01mreturn\u001B[39;00m dlpath\n",
      "File \u001B[1;32m~\\anaconda3\\envs\\moabb\\lib\\site-packages\\pooch\\core.py:239\u001B[0m, in \u001B[0;36mretrieve\u001B[1;34m(url, known_hash, fname, path, processor, downloader, progressbar)\u001B[0m\n\u001B[0;32m    236\u001B[0m \u001B[38;5;28;01mif\u001B[39;00m downloader \u001B[38;5;129;01mis\u001B[39;00m \u001B[38;5;28;01mNone\u001B[39;00m:\n\u001B[0;32m    237\u001B[0m     downloader \u001B[38;5;241m=\u001B[39m choose_downloader(url, progressbar\u001B[38;5;241m=\u001B[39mprogressbar)\n\u001B[1;32m--> 239\u001B[0m \u001B[43mstream_download\u001B[49m\u001B[43m(\u001B[49m\u001B[43murl\u001B[49m\u001B[43m,\u001B[49m\u001B[43m \u001B[49m\u001B[43mfull_path\u001B[49m\u001B[43m,\u001B[49m\u001B[43m \u001B[49m\u001B[43mknown_hash\u001B[49m\u001B[43m,\u001B[49m\u001B[43m \u001B[49m\u001B[43mdownloader\u001B[49m\u001B[43m,\u001B[49m\u001B[43m \u001B[49m\u001B[43mpooch\u001B[49m\u001B[38;5;241;43m=\u001B[39;49m\u001B[38;5;28;43;01mNone\u001B[39;49;00m\u001B[43m)\u001B[49m\n\u001B[0;32m    241\u001B[0m \u001B[38;5;28;01mif\u001B[39;00m known_hash \u001B[38;5;129;01mis\u001B[39;00m \u001B[38;5;28;01mNone\u001B[39;00m:\n\u001B[0;32m    242\u001B[0m     get_logger()\u001B[38;5;241m.\u001B[39minfo(\n\u001B[0;32m    243\u001B[0m         \u001B[38;5;124m\"\u001B[39m\u001B[38;5;124mSHA256 hash of downloaded file: \u001B[39m\u001B[38;5;132;01m%s\u001B[39;00m\u001B[38;5;130;01m\\n\u001B[39;00m\u001B[38;5;124m\"\u001B[39m\n\u001B[0;32m    244\u001B[0m         \u001B[38;5;124m\"\u001B[39m\u001B[38;5;124mUse this value as the \u001B[39m\u001B[38;5;124m'\u001B[39m\u001B[38;5;124mknown_hash\u001B[39m\u001B[38;5;124m'\u001B[39m\u001B[38;5;124m argument of \u001B[39m\u001B[38;5;124m'\u001B[39m\u001B[38;5;124mpooch.retrieve\u001B[39m\u001B[38;5;124m'\u001B[39m\u001B[38;5;124m\"\u001B[39m\n\u001B[1;32m   (...)\u001B[0m\n\u001B[0;32m    247\u001B[0m         file_hash(\u001B[38;5;28mstr\u001B[39m(full_path)),\n\u001B[0;32m    248\u001B[0m     )\n",
      "File \u001B[1;32m~\\anaconda3\\envs\\moabb\\lib\\site-packages\\pooch\\core.py:803\u001B[0m, in \u001B[0;36mstream_download\u001B[1;34m(url, fname, known_hash, downloader, pooch, retry_if_failed)\u001B[0m\n\u001B[0;32m    799\u001B[0m \u001B[38;5;28;01mtry\u001B[39;00m:\n\u001B[0;32m    800\u001B[0m     \u001B[38;5;66;03m# Stream the file to a temporary so that we can safely check its\u001B[39;00m\n\u001B[0;32m    801\u001B[0m     \u001B[38;5;66;03m# hash before overwriting the original.\u001B[39;00m\n\u001B[0;32m    802\u001B[0m     \u001B[38;5;28;01mwith\u001B[39;00m temporary_file(path\u001B[38;5;241m=\u001B[39m\u001B[38;5;28mstr\u001B[39m(fname\u001B[38;5;241m.\u001B[39mparent)) \u001B[38;5;28;01mas\u001B[39;00m tmp:\n\u001B[1;32m--> 803\u001B[0m         \u001B[43mdownloader\u001B[49m\u001B[43m(\u001B[49m\u001B[43murl\u001B[49m\u001B[43m,\u001B[49m\u001B[43m \u001B[49m\u001B[43mtmp\u001B[49m\u001B[43m,\u001B[49m\u001B[43m \u001B[49m\u001B[43mpooch\u001B[49m\u001B[43m)\u001B[49m\n\u001B[0;32m    804\u001B[0m         hash_matches(tmp, known_hash, strict\u001B[38;5;241m=\u001B[39m\u001B[38;5;28;01mTrue\u001B[39;00m, source\u001B[38;5;241m=\u001B[39m\u001B[38;5;28mstr\u001B[39m(fname\u001B[38;5;241m.\u001B[39mname))\n\u001B[0;32m    805\u001B[0m         shutil\u001B[38;5;241m.\u001B[39mmove(tmp, \u001B[38;5;28mstr\u001B[39m(fname))\n",
      "File \u001B[1;32m~\\anaconda3\\envs\\moabb\\lib\\site-packages\\pooch\\downloaders.py:332\u001B[0m, in \u001B[0;36mFTPDownloader.__call__\u001B[1;34m(self, url, output_file, pooch, check_only)\u001B[0m\n\u001B[0;32m    330\u001B[0m parsed_url \u001B[38;5;241m=\u001B[39m parse_url(url)\n\u001B[0;32m    331\u001B[0m ftp \u001B[38;5;241m=\u001B[39m ftplib\u001B[38;5;241m.\u001B[39mFTP(timeout\u001B[38;5;241m=\u001B[39m\u001B[38;5;28mself\u001B[39m\u001B[38;5;241m.\u001B[39mtimeout)\n\u001B[1;32m--> 332\u001B[0m \u001B[43mftp\u001B[49m\u001B[38;5;241;43m.\u001B[39;49m\u001B[43mconnect\u001B[49m\u001B[43m(\u001B[49m\u001B[43mhost\u001B[49m\u001B[38;5;241;43m=\u001B[39;49m\u001B[43mparsed_url\u001B[49m\u001B[43m[\u001B[49m\u001B[38;5;124;43m\"\u001B[39;49m\u001B[38;5;124;43mnetloc\u001B[39;49m\u001B[38;5;124;43m\"\u001B[39;49m\u001B[43m]\u001B[49m\u001B[43m,\u001B[49m\u001B[43m \u001B[49m\u001B[43mport\u001B[49m\u001B[38;5;241;43m=\u001B[39;49m\u001B[38;5;28;43mself\u001B[39;49m\u001B[38;5;241;43m.\u001B[39;49m\u001B[43mport\u001B[49m\u001B[43m)\u001B[49m\n\u001B[0;32m    334\u001B[0m \u001B[38;5;28;01mif\u001B[39;00m check_only:\n\u001B[0;32m    335\u001B[0m     directory, file_name \u001B[38;5;241m=\u001B[39m os\u001B[38;5;241m.\u001B[39mpath\u001B[38;5;241m.\u001B[39msplit(parsed_url[\u001B[38;5;124m\"\u001B[39m\u001B[38;5;124mpath\u001B[39m\u001B[38;5;124m\"\u001B[39m])\n",
      "File \u001B[1;32m~\\anaconda3\\envs\\moabb\\lib\\ftplib.py:154\u001B[0m, in \u001B[0;36mFTP.connect\u001B[1;34m(self, host, port, timeout, source_address)\u001B[0m\n\u001B[0;32m    152\u001B[0m     \u001B[38;5;28mself\u001B[39m\u001B[38;5;241m.\u001B[39msource_address \u001B[38;5;241m=\u001B[39m source_address\n\u001B[0;32m    153\u001B[0m sys\u001B[38;5;241m.\u001B[39maudit(\u001B[38;5;124m\"\u001B[39m\u001B[38;5;124mftplib.connect\u001B[39m\u001B[38;5;124m\"\u001B[39m, \u001B[38;5;28mself\u001B[39m, \u001B[38;5;28mself\u001B[39m\u001B[38;5;241m.\u001B[39mhost, \u001B[38;5;28mself\u001B[39m\u001B[38;5;241m.\u001B[39mport)\n\u001B[1;32m--> 154\u001B[0m \u001B[38;5;28mself\u001B[39m\u001B[38;5;241m.\u001B[39msock \u001B[38;5;241m=\u001B[39m \u001B[43msocket\u001B[49m\u001B[38;5;241;43m.\u001B[39;49m\u001B[43mcreate_connection\u001B[49m\u001B[43m(\u001B[49m\u001B[43m(\u001B[49m\u001B[38;5;28;43mself\u001B[39;49m\u001B[38;5;241;43m.\u001B[39;49m\u001B[43mhost\u001B[49m\u001B[43m,\u001B[49m\u001B[43m \u001B[49m\u001B[38;5;28;43mself\u001B[39;49m\u001B[38;5;241;43m.\u001B[39;49m\u001B[43mport\u001B[49m\u001B[43m)\u001B[49m\u001B[43m,\u001B[49m\u001B[43m \u001B[49m\u001B[38;5;28;43mself\u001B[39;49m\u001B[38;5;241;43m.\u001B[39;49m\u001B[43mtimeout\u001B[49m\u001B[43m,\u001B[49m\n\u001B[0;32m    155\u001B[0m \u001B[43m                                     \u001B[49m\u001B[43msource_address\u001B[49m\u001B[38;5;241;43m=\u001B[39;49m\u001B[38;5;28;43mself\u001B[39;49m\u001B[38;5;241;43m.\u001B[39;49m\u001B[43msource_address\u001B[49m\u001B[43m)\u001B[49m\n\u001B[0;32m    156\u001B[0m \u001B[38;5;28mself\u001B[39m\u001B[38;5;241m.\u001B[39maf \u001B[38;5;241m=\u001B[39m \u001B[38;5;28mself\u001B[39m\u001B[38;5;241m.\u001B[39msock\u001B[38;5;241m.\u001B[39mfamily\n\u001B[0;32m    157\u001B[0m \u001B[38;5;28mself\u001B[39m\u001B[38;5;241m.\u001B[39mfile \u001B[38;5;241m=\u001B[39m \u001B[38;5;28mself\u001B[39m\u001B[38;5;241m.\u001B[39msock\u001B[38;5;241m.\u001B[39mmakefile(\u001B[38;5;124m'\u001B[39m\u001B[38;5;124mr\u001B[39m\u001B[38;5;124m'\u001B[39m, encoding\u001B[38;5;241m=\u001B[39m\u001B[38;5;28mself\u001B[39m\u001B[38;5;241m.\u001B[39mencoding)\n",
      "File \u001B[1;32m~\\anaconda3\\envs\\moabb\\lib\\socket.py:820\u001B[0m, in \u001B[0;36mcreate_connection\u001B[1;34m(address, timeout, source_address)\u001B[0m\n\u001B[0;32m    818\u001B[0m \u001B[38;5;28;01mif\u001B[39;00m err \u001B[38;5;129;01mis\u001B[39;00m \u001B[38;5;129;01mnot\u001B[39;00m \u001B[38;5;28;01mNone\u001B[39;00m:\n\u001B[0;32m    819\u001B[0m     \u001B[38;5;28;01mtry\u001B[39;00m:\n\u001B[1;32m--> 820\u001B[0m         \u001B[38;5;28;01mraise\u001B[39;00m err\n\u001B[0;32m    821\u001B[0m     \u001B[38;5;28;01mfinally\u001B[39;00m:\n\u001B[0;32m    822\u001B[0m         \u001B[38;5;66;03m# Break explicitly a reference cycle\u001B[39;00m\n\u001B[0;32m    823\u001B[0m         err \u001B[38;5;241m=\u001B[39m \u001B[38;5;28;01mNone\u001B[39;00m\n",
      "File \u001B[1;32m~\\anaconda3\\envs\\moabb\\lib\\socket.py:808\u001B[0m, in \u001B[0;36mcreate_connection\u001B[1;34m(address, timeout, source_address)\u001B[0m\n\u001B[0;32m    806\u001B[0m \u001B[38;5;28;01mif\u001B[39;00m source_address:\n\u001B[0;32m    807\u001B[0m     sock\u001B[38;5;241m.\u001B[39mbind(source_address)\n\u001B[1;32m--> 808\u001B[0m \u001B[43msock\u001B[49m\u001B[38;5;241;43m.\u001B[39;49m\u001B[43mconnect\u001B[49m\u001B[43m(\u001B[49m\u001B[43msa\u001B[49m\u001B[43m)\u001B[49m\n\u001B[0;32m    809\u001B[0m \u001B[38;5;66;03m# Break explicitly a reference cycle\u001B[39;00m\n\u001B[0;32m    810\u001B[0m err \u001B[38;5;241m=\u001B[39m \u001B[38;5;28;01mNone\u001B[39;00m\n",
      "\u001B[1;31mTimeoutError\u001B[0m: [WinError 10060] 연결된 구성원으로부터 응답이 없어 연결하지 못했거나, 호스트로부터 응답이 없어 연결이 끊어졌습니다"
     ]
    }
   ],
   "source": [
    "dataset = Cho2017()\n",
    "#dataset.download()\n",
    "\n",
    "paradigm=LeftRightImagery()\n",
    "x,y,z=paradigm.get_data(dataset=dataset, subjects=[1])\n",
    "x.shape, y.shape\n",
    "\n",
    "#paradigm = MotorImagery()\n",
    "#subjects = dataset.subject_list[:1]  # 첫 번째 피험자만 사용\n",
    "\n",
    "#X, labels, metadata = paradigm.get_data(dataset=dataset, subjects=subjects)\n",
    "#print(f\"데이터 형태: {X.shape}, 라벨 개수: {len(set(labels))}\")"
   ],
   "metadata": {
    "collapsed": false,
    "ExecuteTime": {
     "end_time": "2025-02-07T08:04:00.317903Z",
     "start_time": "2025-02-07T08:03:17.576622Z"
    }
   },
   "id": "6477e3877b85e3b8",
   "execution_count": 5
  },
  {
   "cell_type": "code",
   "outputs": [],
   "source": [],
   "metadata": {
    "collapsed": false
   },
   "id": "381c3d922b40938e"
  }
 ],
 "metadata": {
  "kernelspec": {
   "display_name": "Python 3",
   "language": "python",
   "name": "python3"
  },
  "language_info": {
   "codemirror_mode": {
    "name": "ipython",
    "version": 2
   },
   "file_extension": ".py",
   "mimetype": "text/x-python",
   "name": "python",
   "nbconvert_exporter": "python",
   "pygments_lexer": "ipython2",
   "version": "2.7.6"
  }
 },
 "nbformat": 4,
 "nbformat_minor": 5
}
