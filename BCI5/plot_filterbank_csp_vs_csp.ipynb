{
 "cells": [
  {
   "cell_type": "code",
   "execution_count": null,
   "metadata": {
    "collapsed": false
   },
   "outputs": [],
   "source": [
    "%matplotlib inline"
   ]
  },
  {
   "cell_type": "markdown",
   "metadata": {},
   "source": [
    "\n",
    "# FilterBank CSP versus CSP\n",
    "\n",
    "This example show a comparison of CSP versus FilterBank CSP on the\n",
    "very popular dataset 2a from the BCI competition IV.\n"
   ]
  },
  {
   "cell_type": "code",
   "execution_count": null,
   "metadata": {
    "collapsed": false
   },
   "outputs": [],
   "source": [
    "# Authors: Alexandre Barachant <alexandre.barachant@gmail.com>\n",
    "#\n",
    "# License: BSD (3-clause)\n",
    "\n",
    "import matplotlib.pyplot as plt\n",
    "import pandas as pd\n",
    "import seaborn as sns\n",
    "from mne.decoding import CSP\n",
    "from sklearn.discriminant_analysis import LinearDiscriminantAnalysis as LDA\n",
    "from sklearn.pipeline import make_pipeline\n",
    "\n",
    "import moabb\n",
    "from moabb.datasets import BNCI2014_001\n",
    "from moabb.evaluations import CrossSessionEvaluation\n",
    "from moabb.paradigms import FilterBankLeftRightImagery, LeftRightImagery\n",
    "from moabb.pipelines.utils import FilterBank\n",
    "\n",
    "\n",
    "moabb.set_log_level(\"info\")"
   ]
  },
  {
   "cell_type": "markdown",
   "metadata": {},
   "source": [
    "## Create Pipelines\n",
    "\n",
    "The CSP implementation from MNE is used. We selected 8 CSP components, as\n",
    "usually done in the literature.\n",
    "\n",
    "The second pipeline is the filter bank CSP. We use the FilterBank object\n",
    "with a CSP estimator. We set up the CSP to 4 components, to compensate for\n",
    "the higher dimensionality.\n",
    "\n",
    "The two pipelines will be applied on two different paradigm, so they have\n",
    "their own dict.\n",
    "\n"
   ]
  },
  {
   "cell_type": "code",
   "execution_count": null,
   "metadata": {
    "collapsed": false
   },
   "outputs": [],
   "source": [
    "pipelines = {}\n",
    "pipelines[\"CSP+LDA\"] = make_pipeline(CSP(n_components=8), LDA())\n",
    "\n",
    "pipelines_fb = {}\n",
    "pipelines_fb[\"FBCSP+LDA\"] = make_pipeline(FilterBank(CSP(n_components=4)), LDA())"
   ]
  },
  {
   "cell_type": "markdown",
   "metadata": {},
   "source": [
    "## Evaluation\n",
    "\n",
    "Since two different preprocessing will be applied, we have two different\n",
    "paradigm objects. We have to make sure their filter matches so the comparison\n",
    "will be fair.\n",
    "\n",
    "The first one is a standard `LeftRightImagery` with a 8 to 35 Hz broadband\n",
    "filter.\n",
    "\n",
    "The second is a `FilterBankLeftRightImagery` with a bank of 2 filters, ranging\n",
    "from 8 to 35 Hz.\n",
    "\n"
   ]
  },
  {
   "cell_type": "code",
   "execution_count": null,
   "metadata": {
    "collapsed": false
   },
   "outputs": [],
   "source": [
    "# Because this is being auto-generated we only use 2 subjects\n",
    "dataset = BNCI2014_001()\n",
    "dataset.subject_list = dataset.subject_list[:2]\n",
    "datasets = [dataset]\n",
    "overwrite = False  # set to True if we want to overwrite cached results\n",
    "\n",
    "# broadband filters\n",
    "fmin = 8\n",
    "fmax = 35\n",
    "paradigm = LeftRightImagery(fmin=fmin, fmax=fmax)\n",
    "evaluation = CrossSessionEvaluation(\n",
    "    paradigm=paradigm, datasets=datasets, suffix=\"examples\", overwrite=overwrite\n",
    ")\n",
    "results = evaluation.process(pipelines)\n",
    "\n",
    "# Bank of 2 filters\n",
    "filters = [[8, 24], [16, 32]]\n",
    "paradigm = FilterBankLeftRightImagery(filters=filters)\n",
    "evaluation = CrossSessionEvaluation(\n",
    "    paradigm=paradigm, datasets=datasets, suffix=\"examples\", overwrite=overwrite\n",
    ")\n",
    "results_fb = evaluation.process(pipelines_fb)"
   ]
  },
  {
   "cell_type": "markdown",
   "metadata": {},
   "source": [
    "After processing the two, we simply concatenate the results.\n",
    "\n"
   ]
  },
  {
   "cell_type": "code",
   "execution_count": null,
   "metadata": {
    "collapsed": false
   },
   "outputs": [],
   "source": [
    "results = pd.concat([results, results_fb])"
   ]
  },
  {
   "cell_type": "markdown",
   "metadata": {},
   "source": [
    "## Plot Results\n",
    "\n",
    "Here we plot the results via seaborn. We first display a pointplot\n",
    "with the average performance of each pipeline across session and subjects.\n",
    "The second plot is a paired scatter plot. Each point representing the score\n",
    "of a single session. An algorithm will outperform another is most of the\n",
    "points are in its quadrant.\n",
    "\n"
   ]
  },
  {
   "cell_type": "code",
   "execution_count": null,
   "metadata": {
    "collapsed": false
   },
   "outputs": [],
   "source": [
    "fig, axes = plt.subplots(1, 2, figsize=[8, 4], sharey=True)\n",
    "\n",
    "sns.stripplot(\n",
    "    data=results,\n",
    "    y=\"score\",\n",
    "    x=\"pipeline\",\n",
    "    ax=axes[0],\n",
    "    jitter=True,\n",
    "    alpha=0.5,\n",
    "    zorder=1,\n",
    "    palette=\"Set1\",\n",
    ")\n",
    "sns.pointplot(data=results, y=\"score\", x=\"pipeline\", ax=axes[0], palette=\"Set1\")\n",
    "\n",
    "axes[0].set_ylabel(\"ROC AUC\")\n",
    "axes[0].set_ylim(0.5, 1)\n",
    "\n",
    "# paired plot\n",
    "paired = results.pivot_table(\n",
    "    values=\"score\", columns=\"pipeline\", index=[\"subject\", \"session\"]\n",
    ")\n",
    "paired = paired.reset_index()\n",
    "\n",
    "sns.regplot(data=paired, y=\"FBCSP+LDA\", x=\"CSP+LDA\", ax=axes[1], fit_reg=False)\n",
    "axes[1].plot([0, 1], [0, 1], ls=\"--\", c=\"k\")\n",
    "axes[1].set_xlim(0.5, 1)\n",
    "\n",
    "plt.show()"
   ]
  }
 ],
 "metadata": {
  "kernelspec": {
   "display_name": "Python 3",
   "language": "python",
   "name": "python3"
  },
  "language_info": {
   "codemirror_mode": {
    "name": "ipython",
    "version": 3
   },
   "file_extension": ".py",
   "mimetype": "text/x-python",
   "name": "python",
   "nbconvert_exporter": "python",
   "pygments_lexer": "ipython3",
   "version": "3.9.21"
  }
 },
 "nbformat": 4,
 "nbformat_minor": 0
}
