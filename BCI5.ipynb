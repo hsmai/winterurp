{
  "nbformat": 4,
  "nbformat_minor": 0,
  "metadata": {
    "colab": {
      "provenance": [],
      "authorship_tag": "ABX9TyOmfhss4R82dC20rRpDdEvu",
      "include_colab_link": true
    },
    "kernelspec": {
      "name": "python3",
      "display_name": "Python 3"
    },
    "language_info": {
      "name": "python"
    }
  },
  "cells": [
    {
      "cell_type": "markdown",
      "metadata": {
        "id": "view-in-github",
        "colab_type": "text"
      },
      "source": [
        "<a href=\"https://colab.research.google.com/github/hsmai/winterurp/blob/main/BCI5.ipynb\" target=\"_parent\"><img src=\"https://colab.research.google.com/assets/colab-badge.svg\" alt=\"Open In Colab\"/></a>"
      ]
    },
    {
      "cell_type": "code",
      "source": [
        "!pip install mne moabb"
      ],
      "metadata": {
        "colab": {
          "base_uri": "https://localhost:8080/"
        },
        "id": "jum7A0NjcMbV",
        "outputId": "e4a0841a-40fa-4d65-df69-696428aeb90d"
      },
      "execution_count": 1,
      "outputs": [
        {
          "output_type": "stream",
          "name": "stdout",
          "text": [
            "Collecting mne\n",
            "  Downloading mne-1.9.0-py3-none-any.whl.metadata (20 kB)\n",
            "Collecting moabb\n",
            "  Downloading moabb-1.1.1-py3-none-any.whl.metadata (16 kB)\n",
            "Requirement already satisfied: decorator in /usr/local/lib/python3.11/dist-packages (from mne) (4.4.2)\n",
            "Requirement already satisfied: jinja2 in /usr/local/lib/python3.11/dist-packages (from mne) (3.1.5)\n",
            "Requirement already satisfied: lazy-loader>=0.3 in /usr/local/lib/python3.11/dist-packages (from mne) (0.4)\n",
            "Requirement already satisfied: matplotlib>=3.6 in /usr/local/lib/python3.11/dist-packages (from mne) (3.10.0)\n",
            "Requirement already satisfied: numpy<3,>=1.23 in /usr/local/lib/python3.11/dist-packages (from mne) (1.26.4)\n",
            "Requirement already satisfied: packaging in /usr/local/lib/python3.11/dist-packages (from mne) (24.2)\n",
            "Requirement already satisfied: pooch>=1.5 in /usr/local/lib/python3.11/dist-packages (from mne) (1.8.2)\n",
            "Requirement already satisfied: scipy>=1.9 in /usr/local/lib/python3.11/dist-packages (from mne) (1.13.1)\n",
            "Requirement already satisfied: tqdm in /usr/local/lib/python3.11/dist-packages (from mne) (4.67.1)\n",
            "Requirement already satisfied: PyYAML<7.0,>=6.0 in /usr/local/lib/python3.11/dist-packages (from moabb) (6.0.2)\n",
            "Collecting coverage<8.0.0,>=7.0.1 (from moabb)\n",
            "  Downloading coverage-7.6.10-cp311-cp311-manylinux_2_5_x86_64.manylinux1_x86_64.manylinux_2_17_x86_64.manylinux2014_x86_64.whl.metadata (8.2 kB)\n",
            "Collecting edfio<0.5.0,>=0.4.2 (from moabb)\n",
            "  Downloading edfio-0.4.5-py3-none-any.whl.metadata (4.3 kB)\n",
            "Collecting edflib-python<2.0.0,>=1.0.6 (from moabb)\n",
            "  Downloading EDFlib_Python-1.0.8-py3-none-any.whl.metadata (1.3 kB)\n",
            "Requirement already satisfied: h5py<4.0.0,>=3.10.0 in /usr/local/lib/python3.11/dist-packages (from moabb) (3.12.1)\n",
            "Collecting memory-profiler<0.62.0,>=0.61.0 (from moabb)\n",
            "  Downloading memory_profiler-0.61.0-py3-none-any.whl.metadata (20 kB)\n",
            "Collecting mne-bids<0.15,>=0.14 (from moabb)\n",
            "  Downloading mne_bids-0.14-py2.py3-none-any.whl.metadata (4.8 kB)\n",
            "Collecting pandas<2.0.0,>=1.5.2 (from moabb)\n",
            "  Downloading pandas-1.5.3-cp311-cp311-manylinux_2_17_x86_64.manylinux2014_x86_64.whl.metadata (11 kB)\n",
            "Collecting pyriemann<0.7,>=0.6 (from moabb)\n",
            "  Downloading pyriemann-0.6-py2.py3-none-any.whl.metadata (8.3 kB)\n",
            "Collecting pytest<8.0.0,>=7.4.0 (from moabb)\n",
            "  Downloading pytest-7.4.4-py3-none-any.whl.metadata (7.9 kB)\n",
            "Requirement already satisfied: requests<3.0.0,>=2.28.1 in /usr/local/lib/python3.11/dist-packages (from moabb) (2.32.3)\n",
            "Requirement already satisfied: scikit-learn>=1.4.2 in /usr/local/lib/python3.11/dist-packages (from moabb) (1.6.1)\n",
            "Collecting seaborn<0.13.0,>=0.12.1 (from moabb)\n",
            "  Downloading seaborn-0.12.2-py3-none-any.whl.metadata (5.4 kB)\n",
            "Collecting urllib3<2.0.0,>=1.26.15 (from moabb)\n",
            "  Downloading urllib3-1.26.20-py2.py3-none-any.whl.metadata (50 kB)\n",
            "\u001b[2K     \u001b[90m━━━━━━━━━━━━━━━━━━━━━━━━━━━━━━━━━━━━━━━━\u001b[0m \u001b[32m50.1/50.1 kB\u001b[0m \u001b[31m3.0 MB/s\u001b[0m eta \u001b[36m0:00:00\u001b[0m\n",
            "\u001b[?25hRequirement already satisfied: contourpy>=1.0.1 in /usr/local/lib/python3.11/dist-packages (from matplotlib>=3.6->mne) (1.3.1)\n",
            "Requirement already satisfied: cycler>=0.10 in /usr/local/lib/python3.11/dist-packages (from matplotlib>=3.6->mne) (0.12.1)\n",
            "Requirement already satisfied: fonttools>=4.22.0 in /usr/local/lib/python3.11/dist-packages (from matplotlib>=3.6->mne) (4.55.8)\n",
            "Requirement already satisfied: kiwisolver>=1.3.1 in /usr/local/lib/python3.11/dist-packages (from matplotlib>=3.6->mne) (1.4.8)\n",
            "Requirement already satisfied: pillow>=8 in /usr/local/lib/python3.11/dist-packages (from matplotlib>=3.6->mne) (11.1.0)\n",
            "Requirement already satisfied: pyparsing>=2.3.1 in /usr/local/lib/python3.11/dist-packages (from matplotlib>=3.6->mne) (3.2.1)\n",
            "Requirement already satisfied: python-dateutil>=2.7 in /usr/local/lib/python3.11/dist-packages (from matplotlib>=3.6->mne) (2.8.2)\n",
            "Requirement already satisfied: psutil in /usr/local/lib/python3.11/dist-packages (from memory-profiler<0.62.0,>=0.61.0->moabb) (5.9.5)\n",
            "Requirement already satisfied: pytz>=2020.1 in /usr/local/lib/python3.11/dist-packages (from pandas<2.0.0,>=1.5.2->moabb) (2025.1)\n",
            "Requirement already satisfied: platformdirs>=2.5.0 in /usr/local/lib/python3.11/dist-packages (from pooch>=1.5->mne) (4.3.6)\n",
            "Requirement already satisfied: joblib in /usr/local/lib/python3.11/dist-packages (from pyriemann<0.7,>=0.6->moabb) (1.4.2)\n",
            "Requirement already satisfied: iniconfig in /usr/local/lib/python3.11/dist-packages (from pytest<8.0.0,>=7.4.0->moabb) (2.0.0)\n",
            "Requirement already satisfied: pluggy<2.0,>=0.12 in /usr/local/lib/python3.11/dist-packages (from pytest<8.0.0,>=7.4.0->moabb) (1.5.0)\n",
            "Requirement already satisfied: charset-normalizer<4,>=2 in /usr/local/lib/python3.11/dist-packages (from requests<3.0.0,>=2.28.1->moabb) (3.4.1)\n",
            "Requirement already satisfied: idna<4,>=2.5 in /usr/local/lib/python3.11/dist-packages (from requests<3.0.0,>=2.28.1->moabb) (3.10)\n",
            "Requirement already satisfied: certifi>=2017.4.17 in /usr/local/lib/python3.11/dist-packages (from requests<3.0.0,>=2.28.1->moabb) (2025.1.31)\n",
            "Requirement already satisfied: threadpoolctl>=3.1.0 in /usr/local/lib/python3.11/dist-packages (from scikit-learn>=1.4.2->moabb) (3.5.0)\n",
            "Requirement already satisfied: MarkupSafe>=2.0 in /usr/local/lib/python3.11/dist-packages (from jinja2->mne) (3.0.2)\n",
            "Requirement already satisfied: six>=1.5 in /usr/local/lib/python3.11/dist-packages (from python-dateutil>=2.7->matplotlib>=3.6->mne) (1.17.0)\n",
            "Downloading mne-1.9.0-py3-none-any.whl (7.4 MB)\n",
            "\u001b[2K   \u001b[90m━━━━━━━━━━━━━━━━━━━━━━━━━━━━━━━━━━━━━━━━\u001b[0m \u001b[32m7.4/7.4 MB\u001b[0m \u001b[31m54.0 MB/s\u001b[0m eta \u001b[36m0:00:00\u001b[0m\n",
            "\u001b[?25hDownloading moabb-1.1.1-py3-none-any.whl (269 kB)\n",
            "\u001b[2K   \u001b[90m━━━━━━━━━━━━━━━━━━━━━━━━━━━━━━━━━━━━━━━━\u001b[0m \u001b[32m269.3/269.3 kB\u001b[0m \u001b[31m16.6 MB/s\u001b[0m eta \u001b[36m0:00:00\u001b[0m\n",
            "\u001b[?25hDownloading coverage-7.6.10-cp311-cp311-manylinux_2_5_x86_64.manylinux1_x86_64.manylinux_2_17_x86_64.manylinux2014_x86_64.whl (239 kB)\n",
            "\u001b[2K   \u001b[90m━━━━━━━━━━━━━━━━━━━━━━━━━━━━━━━━━━━━━━━━\u001b[0m \u001b[32m239.8/239.8 kB\u001b[0m \u001b[31m16.3 MB/s\u001b[0m eta \u001b[36m0:00:00\u001b[0m\n",
            "\u001b[?25hDownloading edfio-0.4.5-py3-none-any.whl (27 kB)\n",
            "Downloading EDFlib_Python-1.0.8-py3-none-any.whl (26 kB)\n",
            "Downloading memory_profiler-0.61.0-py3-none-any.whl (31 kB)\n",
            "Downloading mne_bids-0.14-py2.py3-none-any.whl (1.2 MB)\n",
            "\u001b[2K   \u001b[90m━━━━━━━━━━━━━━━━━━━━━━━━━━━━━━━━━━━━━━━━\u001b[0m \u001b[32m1.2/1.2 MB\u001b[0m \u001b[31m45.2 MB/s\u001b[0m eta \u001b[36m0:00:00\u001b[0m\n",
            "\u001b[?25hDownloading pandas-1.5.3-cp311-cp311-manylinux_2_17_x86_64.manylinux2014_x86_64.whl (12.0 MB)\n",
            "\u001b[2K   \u001b[90m━━━━━━━━━━━━━━━━━━━━━━━━━━━━━━━━━━━━━━━━\u001b[0m \u001b[32m12.0/12.0 MB\u001b[0m \u001b[31m65.0 MB/s\u001b[0m eta \u001b[36m0:00:00\u001b[0m\n",
            "\u001b[?25hDownloading pyriemann-0.6-py2.py3-none-any.whl (111 kB)\n",
            "\u001b[2K   \u001b[90m━━━━━━━━━━━━━━━━━━━━━━━━━━━━━━━━━━━━━━━━\u001b[0m \u001b[32m111.7/111.7 kB\u001b[0m \u001b[31m7.4 MB/s\u001b[0m eta \u001b[36m0:00:00\u001b[0m\n",
            "\u001b[?25hDownloading pytest-7.4.4-py3-none-any.whl (325 kB)\n",
            "\u001b[2K   \u001b[90m━━━━━━━━━━━━━━━━━━━━━━━━━━━━━━━━━━━━━━━━\u001b[0m \u001b[32m325.3/325.3 kB\u001b[0m \u001b[31m18.9 MB/s\u001b[0m eta \u001b[36m0:00:00\u001b[0m\n",
            "\u001b[?25hDownloading seaborn-0.12.2-py3-none-any.whl (293 kB)\n",
            "\u001b[2K   \u001b[90m━━━━━━━━━━━━━━━━━━━━━━━━━━━━━━━━━━━━━━━━\u001b[0m \u001b[32m293.3/293.3 kB\u001b[0m \u001b[31m17.0 MB/s\u001b[0m eta \u001b[36m0:00:00\u001b[0m\n",
            "\u001b[?25hDownloading urllib3-1.26.20-py2.py3-none-any.whl (144 kB)\n",
            "\u001b[2K   \u001b[90m━━━━━━━━━━━━━━━━━━━━━━━━━━━━━━━━━━━━━━━━\u001b[0m \u001b[32m144.2/144.2 kB\u001b[0m \u001b[31m8.9 MB/s\u001b[0m eta \u001b[36m0:00:00\u001b[0m\n",
            "\u001b[?25hInstalling collected packages: urllib3, pytest, memory-profiler, edflib-python, edfio, coverage, pandas, seaborn, pyriemann, mne, mne-bids, moabb\n",
            "  Attempting uninstall: urllib3\n",
            "    Found existing installation: urllib3 2.3.0\n",
            "    Uninstalling urllib3-2.3.0:\n",
            "      Successfully uninstalled urllib3-2.3.0\n",
            "  Attempting uninstall: pytest\n",
            "    Found existing installation: pytest 8.3.4\n",
            "    Uninstalling pytest-8.3.4:\n",
            "      Successfully uninstalled pytest-8.3.4\n",
            "  Attempting uninstall: pandas\n",
            "    Found existing installation: pandas 2.2.2\n",
            "    Uninstalling pandas-2.2.2:\n",
            "      Successfully uninstalled pandas-2.2.2\n",
            "  Attempting uninstall: seaborn\n",
            "    Found existing installation: seaborn 0.13.2\n",
            "    Uninstalling seaborn-0.13.2:\n",
            "      Successfully uninstalled seaborn-0.13.2\n",
            "\u001b[31mERROR: pip's dependency resolver does not currently take into account all the packages that are installed. This behaviour is the source of the following dependency conflicts.\n",
            "google-colab 1.0.0 requires pandas==2.2.2, but you have pandas 1.5.3 which is incompatible.\n",
            "plotnine 0.14.5 requires pandas>=2.2.0, but you have pandas 1.5.3 which is incompatible.\n",
            "xarray 2025.1.2 requires pandas>=2.1, but you have pandas 1.5.3 which is incompatible.\n",
            "mizani 0.13.1 requires pandas>=2.2.0, but you have pandas 1.5.3 which is incompatible.\n",
            "cudf-cu12 24.12.0 requires pandas<2.2.4dev0,>=2.0, but you have pandas 1.5.3 which is incompatible.\u001b[0m\u001b[31m\n",
            "\u001b[0mSuccessfully installed coverage-7.6.10 edfio-0.4.5 edflib-python-1.0.8 memory-profiler-0.61.0 mne-1.9.0 mne-bids-0.14 moabb-1.1.1 pandas-1.5.3 pyriemann-0.6 pytest-7.4.4 seaborn-0.12.2 urllib3-1.26.20\n"
          ]
        }
      ]
    },
    {
      "cell_type": "code",
      "execution_count": 20,
      "metadata": {
        "id": "YOjtV3e6cLEl"
      },
      "outputs": [],
      "source": [
        "import numpy as np\n",
        "import mne\n",
        "from moabb.datasets import Cho2017\n",
        "from moabb.paradigms import MotorImagery, LeftRightImagery\n",
        "from moabb.evaluations import WithinSessionEvaluation\n",
        "\n",
        "from sklearn.discriminant_analysis import LinearDiscriminantAnalysis\n",
        "from sklearn.pipeline import Pipeline\n",
        "from sklearn.preprocessing import StandardScaler\n",
        "\n",
        "from mne.decoding import CSP\n",
        "import matplotlib.pyplot as plt"
      ]
    },
    {
      "cell_type": "code",
      "source": [
        "dataset = Cho2017()\n",
        "dataset.download(subject_list=[1])  # 1번 피험자만 다운로드\n",
        "\n",
        "\n",
        "#paradigm=LeftRightImagery()\n",
        "#x,y,z=paradigm.get_data(dataset=dataset, subjects=[1])\n",
        "#x.shape, y.shape\n",
        "\n",
        "paradigm = MotorImagery()\n",
        "subjects = dataset.subject_list[:1]  # 첫 번째 피험자만 사용\n",
        "\n",
        "X, labels, metadata = paradigm.get_data(dataset=dataset, subjects=subjects)\n",
        "print(f\"데이터 형태: {X.shape}, 라벨 개수: {len(set(labels))}\")\n"
      ],
      "metadata": {
        "colab": {
          "base_uri": "https://localhost:8080/"
        },
        "id": "atpn3svRcPL_",
        "outputId": "805d6c22-b24d-436a-e23f-ddd9bf73dbac"
      },
      "execution_count": 24,
      "outputs": [
        {
          "output_type": "stream",
          "name": "stderr",
          "text": [
            "WARNING:moabb.paradigms.motor_imagery:Choosing from all possible events\n",
            "WARNING:moabb.datasets.gigadb:Trials demeaned and stacked with zero buffer to create continuous data -- edge effects present\n",
            "/usr/local/lib/python3.11/dist-packages/moabb/datasets/preprocessing.py:279: UserWarning: warnEpochs <Epochs | 200 events (all good), 0 – 3 s (baseline off), ~150.2 MiB, data loaded,\n",
            " 'left_hand': 100\n",
            " 'right_hand': 100>\n",
            "  warn(f\"warnEpochs {epochs}\")\n",
            "/usr/local/lib/python3.11/dist-packages/sklearn/pipeline.py:62: FutureWarning: This Pipeline instance is not fitted yet. Call 'fit' with appropriate arguments before using other methods such as transform, predict, etc. This will raise an error in 1.8 instead of the current warning.\n",
            "  warnings.warn(\n"
          ]
        },
        {
          "output_type": "stream",
          "name": "stdout",
          "text": [
            "데이터 형태: (200, 64, 1537), 라벨 개수: 2\n",
            "X.shape: (200, 64, 1537)\n"
          ]
        }
      ]
    },
    {
      "cell_type": "code",
      "source": [
        "montage = mne.channels.make_standard_montage(\"standard_1020\")\n",
        "\n",
        "n_channels = X.shape[1]\n",
        "\n",
        "print(montage.ch_names)\n",
        "\n",
        "std_1020_names = montage.ch_names[:n_channels]\n",
        "\n",
        "info = mne.create_info(ch_names=std_1020_names, sfreq=250, ch_types=\"eeg\")\n",
        "\n",
        "raw = mne.io.RawArray(X[0], info)  # 첫 번째 시도(trial) 데이터 사용\n",
        "\n",
        "\n",
        "\n",
        "raw.set_montage(montage)  # 전극 위치 설정\n",
        "\n",
        "print(raw.info['dig'])  # None이 아니어야 함\n",
        "\n",
        "print(raw.info)"
      ],
      "metadata": {
        "colab": {
          "base_uri": "https://localhost:8080/"
        },
        "id": "1z6mhkHPcTB7",
        "outputId": "bbc1ec10-8c8e-4b25-8626-a4191721e15e"
      },
      "execution_count": 44,
      "outputs": [
        {
          "output_type": "stream",
          "name": "stdout",
          "text": [
            "['Fp1', 'Fpz', 'Fp2', 'AF9', 'AF7', 'AF5', 'AF3', 'AF1', 'AFz', 'AF2', 'AF4', 'AF6', 'AF8', 'AF10', 'F9', 'F7', 'F5', 'F3', 'F1', 'Fz', 'F2', 'F4', 'F6', 'F8', 'F10', 'FT9', 'FT7', 'FC5', 'FC3', 'FC1', 'FCz', 'FC2', 'FC4', 'FC6', 'FT8', 'FT10', 'T9', 'T7', 'C5', 'C3', 'C1', 'Cz', 'C2', 'C4', 'C6', 'T8', 'T10', 'TP9', 'TP7', 'CP5', 'CP3', 'CP1', 'CPz', 'CP2', 'CP4', 'CP6', 'TP8', 'TP10', 'P9', 'P7', 'P5', 'P3', 'P1', 'Pz', 'P2', 'P4', 'P6', 'P8', 'P10', 'PO9', 'PO7', 'PO5', 'PO3', 'PO1', 'POz', 'PO2', 'PO4', 'PO6', 'PO8', 'PO10', 'O1', 'Oz', 'O2', 'O9', 'Iz', 'O10', 'T3', 'T5', 'T4', 'T6', 'M1', 'M2', 'A1', 'A2']\n",
            "Creating RawArray with float64 data, n_channels=64, n_times=1537\n",
            "    Range : 0 ... 1536 =      0.000 ...     6.144 secs\n",
            "Ready.\n",
            "[<DigPoint |        LPA : (-82.5, -0.0, 0.0) mm     : head frame>, <DigPoint |     Nasion : (0.0, 114.0, 0.0) mm      : head frame>, <DigPoint |        RPA : (82.5, 0.0, -0.0) mm      : head frame>, <DigPoint |     EEG #1 : (-30.9, 114.6, 27.9) mm   : head frame>, <DigPoint |     EEG #2 : (-1.3, 119.1, 32.9) mm    : head frame>, <DigPoint |     EEG #3 : (28.4, 115.3, 27.7) mm    : head frame>, <DigPoint |     EEG #4 : (-50.5, 92.6, -11.6) mm   : head frame>, <DigPoint |     EEG #5 : (-56.4, 99.2, 25.1) mm    : head frame>, <DigPoint |     EEG #6 : (-46.9, 104.3, 41.4) mm   : head frame>, <DigPoint |     EEG #7 : (-35.2, 109.1, 56.4) mm   : head frame>, <DigPoint |     EEG #8 : (-19.9, 112.8, 67.8) mm   : head frame>, <DigPoint |     EEG #9 : (-1.2, 113.7, 70.4) mm    : head frame>, <DigPoint |    EEG #10 : (18.3, 113.1, 67.8) mm    : head frame>, <DigPoint |    EEG #11 : (34.2, 109.8, 57.1) mm    : head frame>, <DigPoint |    EEG #12 : (45.1, 105.0, 41.4) mm    : head frame>, <DigPoint |    EEG #13 : (54.2, 99.8, 24.9) mm     : head frame>, <DigPoint |    EEG #14 : (48.9, 92.0, -11.9) mm    : head frame>, <DigPoint |    EEG #15 : (-71.7, 70.1, -12.6) mm   : head frame>, <DigPoint |    EEG #16 : (-71.9, 73.1, 25.8) mm    : head frame>, <DigPoint |    EEG #17 : (-66.1, 80.2, 53.8) mm    : head frame>, <DigPoint |    EEG #18 : (-51.8, 86.7, 78.7) mm    : head frame>, <DigPoint |    EEG #19 : (-29.0, 91.4, 96.6) mm    : head frame>, <DigPoint |    EEG #20 : (-1.2, 93.3, 102.6) mm    : head frame>, <DigPoint |    EEG #21 : (28.0, 91.9, 95.8) mm     : head frame>, <DigPoint |    EEG #22 : (50.3, 87.4, 77.3) mm     : head frame>, <DigPoint |    EEG #23 : (66.3, 81.5, 53.1) mm     : head frame>, <DigPoint |    EEG #24 : (71.4, 74.5, 25.1) mm     : head frame>, <DigPoint |    EEG #25 : (70.5, 70.0, -13.2) mm    : head frame>, <DigPoint |    EEG #26 : (-85.8, 43.1, -11.6) mm   : head frame>, <DigPoint |    EEG #27 : (-82.5, 44.8, 27.7) mm    : head frame>, <DigPoint |    EEG #28 : (-78.9, 51.4, 63.0) mm    : head frame>, <DigPoint |    EEG #29 : (-61.9, 57.1, 93.8) mm    : head frame>, <DigPoint |    EEG #30 : (-35.7, 61.7, 118.0) mm   : head frame>, <DigPoint |    EEG #31 : (-1.3, 63.5, 126.6) mm    : head frame>, <DigPoint |    EEG #32 : (33.1, 61.8, 116.8) mm    : head frame>, <DigPoint |    EEG #33 : (60.6, 57.7, 93.8) mm     : head frame>, <DigPoint |    EEG #34 : (77.8, 52.1, 62.9) mm     : head frame>, <DigPoint |    EEG #35 : (80.1, 45.6, 27.4) mm     : head frame>, <DigPoint |    EEG #36 : (82.4, 42.3, -11.7) mm    : head frame>, <DigPoint |    EEG #37 : (-87.7, 12.9, -7.7) mm    : head frame>, <DigPoint |    EEG #38 : (-86.0, 14.9, 31.2) mm    : head frame>, <DigPoint |    EEG #39 : (-82.1, 19.3, 69.5) mm    : head frame>, <DigPoint |    EEG #40 : (-67.1, 23.4, 104.5) mm   : head frame>, <DigPoint |    EEG #41 : (-37.9, 26.3, 129.8) mm   : head frame>, <DigPoint |    EEG #42 : (-1.4, 27.6, 140.2) mm    : head frame>, <DigPoint |    EEG #43 : (35.9, 26.4, 128.4) mm    : head frame>, <DigPoint |    EEG #44 : (65.3, 23.6, 103.7) mm    : head frame>, <DigPoint |    EEG #45 : (81.7, 19.7, 69.5) mm     : head frame>, <DigPoint |    EEG #46 : (83.3, 15.3, 31.0) mm     : head frame>, <DigPoint |    EEG #47 : (83.7, 11.7, -7.7) mm     : head frame>, <DigPoint |    EEG #48 : (-87.6, -17.6, -3.4) mm   : head frame>, <DigPoint |    EEG #49 : (-86.8, -15.0, 35.2) mm   : head frame>, <DigPoint |    EEG #50 : (-81.5, -13.3, 73.1) mm   : head frame>, <DigPoint |    EEG #51 : (-65.5, -11.9, 107.8) mm  : head frame>, <DigPoint |    EEG #52 : (-37.4, -10.8, 133.4) mm  : head frame>, <DigPoint |    EEG #53 : (-1.5, -10.5, 141.5) mm   : head frame>, <DigPoint |    EEG #54 : (36.5, -10.9, 132.8) mm   : head frame>, <DigPoint |    EEG #55 : (64.7, -12.0, 107.7) mm   : head frame>, <DigPoint |    EEG #56 : (81.4, -13.5, 73.4) mm    : head frame>, <DigPoint |    EEG #57 : (83.6, -15.1, 35.1) mm    : head frame>, <DigPoint |    EEG #58 : (84.2, -18.8, -3.5) mm    : head frame>, <DigPoint |    EEG #59 : (-75.0, -44.6, 2.8) mm    : head frame>, <DigPoint |    EEG #60 : (-74.5, -42.1, 41.3) mm   : head frame>, <DigPoint |    EEG #61 : (-69.3, -43.2, 72.3) mm   : head frame>, <DigPoint |    EEG #62 : (-55.0, -44.2, 99.9) mm   : head frame>, <DigPoint |    EEG #63 : (-30.7, -44.9, 119.5) mm  : head frame>, <DigPoint |    EEG #64 : (-1.7, -45.2, 126.7) mm   : head frame>]\n",
            "<Info | 8 non-empty values\n",
            " bads: []\n",
            " ch_names: Fp1, Fpz, Fp2, AF9, AF7, AF5, AF3, AF1, AFz, AF2, AF4, AF6, AF8, ...\n",
            " chs: 64 EEG\n",
            " custom_ref_applied: False\n",
            " dig: 67 items (3 Cardinal, 64 EEG)\n",
            " highpass: 0.0 Hz\n",
            " lowpass: 125.0 Hz\n",
            " meas_date: unspecified\n",
            " nchan: 64\n",
            " projs: []\n",
            " sfreq: 250.0 Hz\n",
            ">\n"
          ]
        }
      ]
    },
    {
      "cell_type": "code",
      "source": [
        "freq_bands = [(4, 8), (8, 12), (12, 16), (16, 20), (20, 24), (24, 28), (28, 32), (32, 36), (36, 40)]"
      ],
      "metadata": {
        "id": "H7mN7GErj90l"
      },
      "execution_count": 45,
      "outputs": []
    },
    {
      "cell_type": "code",
      "source": [
        "def apply_fbcsp(X, y, freq_bands, sfreq=250, n_components=4):\n",
        "    csp_features = []\n",
        "    for fmin, fmax in freq_bands:\n",
        "        # 대역 필터링\n",
        "        band_filtered_X = mne.filter.filter_data(X, sfreq, fmin, fmax, fir_design='firwin')\n",
        "\n",
        "        # CSP 적용\n",
        "        csp = CSP(n_components=n_components, reg=None, log=True, norm_trace=False)\n",
        "        csp_features.append(csp.fit_transform(band_filtered_X, y))\n",
        "\n",
        "    # 모든 대역의 특징을 결합\n",
        "    return np.concatenate(csp_features, axis=1)\n",
        "\n",
        "# FBCSP 특징 추출\n",
        "X_fbcsp = apply_fbcsp(X, labels, freq_bands)\n",
        "print(f\"FBCSP 특징 벡터 크기: {X_fbcsp.shape}\")  # (Trials, Features)"
      ],
      "metadata": {
        "colab": {
          "base_uri": "https://localhost:8080/"
        },
        "id": "qr_1rzxYkBEP",
        "outputId": "2f59ee73-d1a6-48a2-a55b-7e3acb2dc8ab"
      },
      "execution_count": 46,
      "outputs": [
        {
          "output_type": "stream",
          "name": "stdout",
          "text": [
            "Setting up band-pass filter from 4 - 8 Hz\n",
            "\n",
            "FIR filter parameters\n",
            "---------------------\n",
            "Designing a one-pass, zero-phase, non-causal bandpass filter:\n",
            "- Windowed time-domain design (firwin) method\n",
            "- Hamming window with 0.0194 passband ripple and 53 dB stopband attenuation\n",
            "- Lower passband edge: 4.00\n",
            "- Lower transition bandwidth: 2.00 Hz (-6 dB cutoff frequency: 3.00 Hz)\n",
            "- Upper passband edge: 8.00 Hz\n",
            "- Upper transition bandwidth: 2.00 Hz (-6 dB cutoff frequency: 9.00 Hz)\n",
            "- Filter length: 413 samples (1.652 s)\n",
            "\n"
          ]
        },
        {
          "output_type": "stream",
          "name": "stderr",
          "text": [
            "[Parallel(n_jobs=1)]: Done  17 tasks      | elapsed:    0.0s\n",
            "[Parallel(n_jobs=1)]: Done  71 tasks      | elapsed:    0.0s\n",
            "[Parallel(n_jobs=1)]: Done 161 tasks      | elapsed:    0.1s\n",
            "[Parallel(n_jobs=1)]: Done 287 tasks      | elapsed:    0.1s\n",
            "[Parallel(n_jobs=1)]: Done 449 tasks      | elapsed:    0.2s\n",
            "[Parallel(n_jobs=1)]: Done 647 tasks      | elapsed:    0.2s\n",
            "[Parallel(n_jobs=1)]: Done 881 tasks      | elapsed:    0.3s\n",
            "[Parallel(n_jobs=1)]: Done 1151 tasks      | elapsed:    0.4s\n",
            "[Parallel(n_jobs=1)]: Done 1457 tasks      | elapsed:    0.5s\n",
            "[Parallel(n_jobs=1)]: Done 1799 tasks      | elapsed:    0.6s\n",
            "[Parallel(n_jobs=1)]: Done 2177 tasks      | elapsed:    0.8s\n",
            "[Parallel(n_jobs=1)]: Done 2591 tasks      | elapsed:    0.9s\n",
            "[Parallel(n_jobs=1)]: Done 3041 tasks      | elapsed:    1.1s\n",
            "[Parallel(n_jobs=1)]: Done 3527 tasks      | elapsed:    1.2s\n",
            "[Parallel(n_jobs=1)]: Done 4049 tasks      | elapsed:    1.4s\n",
            "[Parallel(n_jobs=1)]: Done 4607 tasks      | elapsed:    1.6s\n",
            "[Parallel(n_jobs=1)]: Done 5201 tasks      | elapsed:    1.8s\n",
            "[Parallel(n_jobs=1)]: Done 5831 tasks      | elapsed:    2.1s\n",
            "[Parallel(n_jobs=1)]: Done 6497 tasks      | elapsed:    2.3s\n",
            "[Parallel(n_jobs=1)]: Done 7199 tasks      | elapsed:    2.5s\n",
            "[Parallel(n_jobs=1)]: Done 7937 tasks      | elapsed:    2.8s\n",
            "[Parallel(n_jobs=1)]: Done 8711 tasks      | elapsed:    3.0s\n",
            "[Parallel(n_jobs=1)]: Done 9521 tasks      | elapsed:    3.5s\n",
            "[Parallel(n_jobs=1)]: Done 10367 tasks      | elapsed:    3.9s\n",
            "[Parallel(n_jobs=1)]: Done 11249 tasks      | elapsed:    4.3s\n",
            "[Parallel(n_jobs=1)]: Done 12167 tasks      | elapsed:    4.7s\n"
          ]
        },
        {
          "output_type": "stream",
          "name": "stdout",
          "text": [
            "Computing rank from data with rank=None\n",
            "    Using tolerance 9.3e+03 (2.2e-16 eps * 64 dim * 6.5e+17  max singular value)\n",
            "    Estimated rank (data): 64\n",
            "    data: rank 64 computed from 64 data channels with 0 projectors\n",
            "Reducing data rank from 64 -> 64\n",
            "Estimating class=left_hand covariance using EMPIRICAL\n",
            "Done.\n",
            "Estimating class=right_hand covariance using EMPIRICAL\n",
            "Done.\n",
            "Setting up band-pass filter from 8 - 12 Hz\n",
            "\n",
            "FIR filter parameters\n",
            "---------------------\n",
            "Designing a one-pass, zero-phase, non-causal bandpass filter:\n",
            "- Windowed time-domain design (firwin) method\n",
            "- Hamming window with 0.0194 passband ripple and 53 dB stopband attenuation\n",
            "- Lower passband edge: 8.00\n",
            "- Lower transition bandwidth: 2.00 Hz (-6 dB cutoff frequency: 7.00 Hz)\n",
            "- Upper passband edge: 12.00 Hz\n",
            "- Upper transition bandwidth: 3.00 Hz (-6 dB cutoff frequency: 13.50 Hz)\n",
            "- Filter length: 413 samples (1.652 s)\n",
            "\n"
          ]
        },
        {
          "output_type": "stream",
          "name": "stderr",
          "text": [
            "[Parallel(n_jobs=1)]: Done  17 tasks      | elapsed:    0.0s\n",
            "[Parallel(n_jobs=1)]: Done  71 tasks      | elapsed:    0.0s\n",
            "[Parallel(n_jobs=1)]: Done 161 tasks      | elapsed:    0.1s\n",
            "[Parallel(n_jobs=1)]: Done 287 tasks      | elapsed:    0.1s\n",
            "[Parallel(n_jobs=1)]: Done 449 tasks      | elapsed:    0.1s\n",
            "[Parallel(n_jobs=1)]: Done 647 tasks      | elapsed:    0.2s\n",
            "[Parallel(n_jobs=1)]: Done 881 tasks      | elapsed:    0.3s\n",
            "[Parallel(n_jobs=1)]: Done 1151 tasks      | elapsed:    0.4s\n",
            "[Parallel(n_jobs=1)]: Done 1457 tasks      | elapsed:    0.5s\n",
            "[Parallel(n_jobs=1)]: Done 1799 tasks      | elapsed:    0.6s\n",
            "[Parallel(n_jobs=1)]: Done 2177 tasks      | elapsed:    0.7s\n",
            "[Parallel(n_jobs=1)]: Done 2591 tasks      | elapsed:    0.9s\n",
            "[Parallel(n_jobs=1)]: Done 3041 tasks      | elapsed:    1.0s\n",
            "[Parallel(n_jobs=1)]: Done 3527 tasks      | elapsed:    1.2s\n",
            "[Parallel(n_jobs=1)]: Done 4049 tasks      | elapsed:    1.4s\n",
            "[Parallel(n_jobs=1)]: Done 4607 tasks      | elapsed:    1.5s\n",
            "[Parallel(n_jobs=1)]: Done 5201 tasks      | elapsed:    1.7s\n",
            "[Parallel(n_jobs=1)]: Done 5831 tasks      | elapsed:    1.9s\n",
            "[Parallel(n_jobs=1)]: Done 6497 tasks      | elapsed:    2.2s\n",
            "[Parallel(n_jobs=1)]: Done 7199 tasks      | elapsed:    2.4s\n",
            "[Parallel(n_jobs=1)]: Done 7937 tasks      | elapsed:    2.6s\n",
            "[Parallel(n_jobs=1)]: Done 8711 tasks      | elapsed:    2.9s\n",
            "[Parallel(n_jobs=1)]: Done 9521 tasks      | elapsed:    3.1s\n",
            "[Parallel(n_jobs=1)]: Done 10367 tasks      | elapsed:    3.4s\n",
            "[Parallel(n_jobs=1)]: Done 11249 tasks      | elapsed:    3.7s\n",
            "[Parallel(n_jobs=1)]: Done 12167 tasks      | elapsed:    4.0s\n"
          ]
        },
        {
          "output_type": "stream",
          "name": "stdout",
          "text": [
            "Computing rank from data with rank=None\n",
            "    Using tolerance 3.7e+03 (2.2e-16 eps * 64 dim * 2.6e+17  max singular value)\n",
            "    Estimated rank (data): 64\n",
            "    data: rank 64 computed from 64 data channels with 0 projectors\n",
            "Reducing data rank from 64 -> 64\n",
            "Estimating class=left_hand covariance using EMPIRICAL\n",
            "Done.\n",
            "Estimating class=right_hand covariance using EMPIRICAL\n",
            "Done.\n",
            "Setting up band-pass filter from 12 - 16 Hz\n",
            "\n",
            "FIR filter parameters\n",
            "---------------------\n",
            "Designing a one-pass, zero-phase, non-causal bandpass filter:\n",
            "- Windowed time-domain design (firwin) method\n",
            "- Hamming window with 0.0194 passband ripple and 53 dB stopband attenuation\n",
            "- Lower passband edge: 12.00\n",
            "- Lower transition bandwidth: 3.00 Hz (-6 dB cutoff frequency: 10.50 Hz)\n",
            "- Upper passband edge: 16.00 Hz\n",
            "- Upper transition bandwidth: 4.00 Hz (-6 dB cutoff frequency: 18.00 Hz)\n",
            "- Filter length: 275 samples (1.100 s)\n",
            "\n"
          ]
        },
        {
          "output_type": "stream",
          "name": "stderr",
          "text": [
            "[Parallel(n_jobs=1)]: Done  17 tasks      | elapsed:    0.0s\n",
            "[Parallel(n_jobs=1)]: Done  71 tasks      | elapsed:    0.0s\n",
            "[Parallel(n_jobs=1)]: Done 161 tasks      | elapsed:    0.1s\n",
            "[Parallel(n_jobs=1)]: Done 287 tasks      | elapsed:    0.1s\n",
            "[Parallel(n_jobs=1)]: Done 449 tasks      | elapsed:    0.1s\n",
            "[Parallel(n_jobs=1)]: Done 647 tasks      | elapsed:    0.2s\n",
            "[Parallel(n_jobs=1)]: Done 881 tasks      | elapsed:    0.3s\n",
            "[Parallel(n_jobs=1)]: Done 1151 tasks      | elapsed:    0.3s\n",
            "[Parallel(n_jobs=1)]: Done 1457 tasks      | elapsed:    0.4s\n",
            "[Parallel(n_jobs=1)]: Done 1799 tasks      | elapsed:    0.5s\n",
            "[Parallel(n_jobs=1)]: Done 2177 tasks      | elapsed:    0.6s\n",
            "[Parallel(n_jobs=1)]: Done 2591 tasks      | elapsed:    0.7s\n",
            "[Parallel(n_jobs=1)]: Done 3041 tasks      | elapsed:    0.8s\n",
            "[Parallel(n_jobs=1)]: Done 3527 tasks      | elapsed:    1.0s\n",
            "[Parallel(n_jobs=1)]: Done 4049 tasks      | elapsed:    1.1s\n",
            "[Parallel(n_jobs=1)]: Done 4607 tasks      | elapsed:    1.2s\n",
            "[Parallel(n_jobs=1)]: Done 5201 tasks      | elapsed:    1.4s\n",
            "[Parallel(n_jobs=1)]: Done 5831 tasks      | elapsed:    1.6s\n",
            "[Parallel(n_jobs=1)]: Done 6497 tasks      | elapsed:    1.7s\n",
            "[Parallel(n_jobs=1)]: Done 7199 tasks      | elapsed:    1.9s\n",
            "[Parallel(n_jobs=1)]: Done 7937 tasks      | elapsed:    2.1s\n",
            "[Parallel(n_jobs=1)]: Done 8711 tasks      | elapsed:    2.3s\n",
            "[Parallel(n_jobs=1)]: Done 9521 tasks      | elapsed:    2.6s\n",
            "[Parallel(n_jobs=1)]: Done 10367 tasks      | elapsed:    2.8s\n",
            "[Parallel(n_jobs=1)]: Done 11249 tasks      | elapsed:    3.0s\n",
            "[Parallel(n_jobs=1)]: Done 12167 tasks      | elapsed:    3.3s\n"
          ]
        },
        {
          "output_type": "stream",
          "name": "stdout",
          "text": [
            "Computing rank from data with rank=None\n",
            "    Using tolerance 2e+03 (2.2e-16 eps * 64 dim * 1.4e+17  max singular value)\n",
            "    Estimated rank (data): 64\n",
            "    data: rank 64 computed from 64 data channels with 0 projectors\n",
            "Reducing data rank from 64 -> 64\n",
            "Estimating class=left_hand covariance using EMPIRICAL\n",
            "Done.\n",
            "Estimating class=right_hand covariance using EMPIRICAL\n",
            "Done.\n",
            "Setting up band-pass filter from 16 - 20 Hz\n",
            "\n",
            "FIR filter parameters\n",
            "---------------------\n",
            "Designing a one-pass, zero-phase, non-causal bandpass filter:\n",
            "- Windowed time-domain design (firwin) method\n",
            "- Hamming window with 0.0194 passband ripple and 53 dB stopband attenuation\n",
            "- Lower passband edge: 16.00\n",
            "- Lower transition bandwidth: 4.00 Hz (-6 dB cutoff frequency: 14.00 Hz)\n",
            "- Upper passband edge: 20.00 Hz\n",
            "- Upper transition bandwidth: 5.00 Hz (-6 dB cutoff frequency: 22.50 Hz)\n",
            "- Filter length: 207 samples (0.828 s)\n",
            "\n"
          ]
        },
        {
          "output_type": "stream",
          "name": "stderr",
          "text": [
            "[Parallel(n_jobs=1)]: Done  17 tasks      | elapsed:    0.0s\n",
            "[Parallel(n_jobs=1)]: Done  71 tasks      | elapsed:    0.1s\n",
            "[Parallel(n_jobs=1)]: Done 161 tasks      | elapsed:    0.1s\n",
            "[Parallel(n_jobs=1)]: Done 287 tasks      | elapsed:    0.2s\n",
            "[Parallel(n_jobs=1)]: Done 449 tasks      | elapsed:    0.2s\n",
            "[Parallel(n_jobs=1)]: Done 647 tasks      | elapsed:    0.3s\n",
            "[Parallel(n_jobs=1)]: Done 881 tasks      | elapsed:    0.5s\n",
            "[Parallel(n_jobs=1)]: Done 1151 tasks      | elapsed:    0.6s\n",
            "[Parallel(n_jobs=1)]: Done 1457 tasks      | elapsed:    0.7s\n",
            "[Parallel(n_jobs=1)]: Done 1799 tasks      | elapsed:    0.8s\n",
            "[Parallel(n_jobs=1)]: Done 2177 tasks      | elapsed:    0.9s\n",
            "[Parallel(n_jobs=1)]: Done 2591 tasks      | elapsed:    1.0s\n",
            "[Parallel(n_jobs=1)]: Done 3041 tasks      | elapsed:    1.1s\n",
            "[Parallel(n_jobs=1)]: Done 3527 tasks      | elapsed:    1.2s\n",
            "[Parallel(n_jobs=1)]: Done 4049 tasks      | elapsed:    1.3s\n",
            "[Parallel(n_jobs=1)]: Done 4607 tasks      | elapsed:    1.5s\n",
            "[Parallel(n_jobs=1)]: Done 5201 tasks      | elapsed:    1.7s\n",
            "[Parallel(n_jobs=1)]: Done 5831 tasks      | elapsed:    1.8s\n",
            "[Parallel(n_jobs=1)]: Done 6497 tasks      | elapsed:    2.0s\n",
            "[Parallel(n_jobs=1)]: Done 7199 tasks      | elapsed:    2.2s\n",
            "[Parallel(n_jobs=1)]: Done 7937 tasks      | elapsed:    2.4s\n",
            "[Parallel(n_jobs=1)]: Done 8711 tasks      | elapsed:    2.6s\n",
            "[Parallel(n_jobs=1)]: Done 9521 tasks      | elapsed:    2.8s\n",
            "[Parallel(n_jobs=1)]: Done 10367 tasks      | elapsed:    3.0s\n",
            "[Parallel(n_jobs=1)]: Done 11249 tasks      | elapsed:    3.2s\n",
            "[Parallel(n_jobs=1)]: Done 12167 tasks      | elapsed:    3.5s\n"
          ]
        },
        {
          "output_type": "stream",
          "name": "stdout",
          "text": [
            "Computing rank from data with rank=None\n",
            "    Using tolerance 6.6e+02 (2.2e-16 eps * 64 dim * 4.7e+16  max singular value)\n",
            "    Estimated rank (data): 64\n",
            "    data: rank 64 computed from 64 data channels with 0 projectors\n",
            "Reducing data rank from 64 -> 64\n",
            "Estimating class=left_hand covariance using EMPIRICAL\n",
            "Done.\n",
            "Estimating class=right_hand covariance using EMPIRICAL\n",
            "Done.\n",
            "Setting up band-pass filter from 20 - 24 Hz\n",
            "\n",
            "FIR filter parameters\n",
            "---------------------\n",
            "Designing a one-pass, zero-phase, non-causal bandpass filter:\n",
            "- Windowed time-domain design (firwin) method\n",
            "- Hamming window with 0.0194 passband ripple and 53 dB stopband attenuation\n",
            "- Lower passband edge: 20.00\n",
            "- Lower transition bandwidth: 5.00 Hz (-6 dB cutoff frequency: 17.50 Hz)\n",
            "- Upper passband edge: 24.00 Hz\n",
            "- Upper transition bandwidth: 6.00 Hz (-6 dB cutoff frequency: 27.00 Hz)\n",
            "- Filter length: 165 samples (0.660 s)\n",
            "\n"
          ]
        },
        {
          "output_type": "stream",
          "name": "stderr",
          "text": [
            "[Parallel(n_jobs=1)]: Done  17 tasks      | elapsed:    0.0s\n",
            "[Parallel(n_jobs=1)]: Done  71 tasks      | elapsed:    0.0s\n",
            "[Parallel(n_jobs=1)]: Done 161 tasks      | elapsed:    0.0s\n",
            "[Parallel(n_jobs=1)]: Done 287 tasks      | elapsed:    0.1s\n",
            "[Parallel(n_jobs=1)]: Done 449 tasks      | elapsed:    0.1s\n",
            "[Parallel(n_jobs=1)]: Done 647 tasks      | elapsed:    0.1s\n",
            "[Parallel(n_jobs=1)]: Done 881 tasks      | elapsed:    0.2s\n",
            "[Parallel(n_jobs=1)]: Done 1151 tasks      | elapsed:    0.2s\n",
            "[Parallel(n_jobs=1)]: Done 1457 tasks      | elapsed:    0.3s\n",
            "[Parallel(n_jobs=1)]: Done 1799 tasks      | elapsed:    0.3s\n",
            "[Parallel(n_jobs=1)]: Done 2177 tasks      | elapsed:    0.4s\n",
            "[Parallel(n_jobs=1)]: Done 2591 tasks      | elapsed:    0.5s\n",
            "[Parallel(n_jobs=1)]: Done 3041 tasks      | elapsed:    0.5s\n",
            "[Parallel(n_jobs=1)]: Done 3527 tasks      | elapsed:    0.6s\n",
            "[Parallel(n_jobs=1)]: Done 4049 tasks      | elapsed:    0.7s\n",
            "[Parallel(n_jobs=1)]: Done 4607 tasks      | elapsed:    0.8s\n",
            "[Parallel(n_jobs=1)]: Done 5201 tasks      | elapsed:    0.9s\n",
            "[Parallel(n_jobs=1)]: Done 5831 tasks      | elapsed:    1.0s\n",
            "[Parallel(n_jobs=1)]: Done 6497 tasks      | elapsed:    1.1s\n",
            "[Parallel(n_jobs=1)]: Done 7199 tasks      | elapsed:    1.2s\n",
            "[Parallel(n_jobs=1)]: Done 7937 tasks      | elapsed:    1.4s\n",
            "[Parallel(n_jobs=1)]: Done 8711 tasks      | elapsed:    1.5s\n",
            "[Parallel(n_jobs=1)]: Done 9521 tasks      | elapsed:    1.6s\n",
            "[Parallel(n_jobs=1)]: Done 10367 tasks      | elapsed:    1.8s\n",
            "[Parallel(n_jobs=1)]: Done 11249 tasks      | elapsed:    2.1s\n",
            "[Parallel(n_jobs=1)]: Done 12167 tasks      | elapsed:    2.3s\n"
          ]
        },
        {
          "output_type": "stream",
          "name": "stdout",
          "text": [
            "Computing rank from data with rank=None\n",
            "    Using tolerance 1.1e+02 (2.2e-16 eps * 64 dim * 8e+15  max singular value)\n",
            "    Estimated rank (data): 64\n",
            "    data: rank 64 computed from 64 data channels with 0 projectors\n",
            "Reducing data rank from 64 -> 64\n",
            "Estimating class=left_hand covariance using EMPIRICAL\n",
            "Done.\n",
            "Estimating class=right_hand covariance using EMPIRICAL\n",
            "Done.\n",
            "Setting up band-pass filter from 24 - 28 Hz\n",
            "\n",
            "FIR filter parameters\n",
            "---------------------\n",
            "Designing a one-pass, zero-phase, non-causal bandpass filter:\n",
            "- Windowed time-domain design (firwin) method\n",
            "- Hamming window with 0.0194 passband ripple and 53 dB stopband attenuation\n",
            "- Lower passband edge: 24.00\n",
            "- Lower transition bandwidth: 6.00 Hz (-6 dB cutoff frequency: 21.00 Hz)\n",
            "- Upper passband edge: 28.00 Hz\n",
            "- Upper transition bandwidth: 7.00 Hz (-6 dB cutoff frequency: 31.50 Hz)\n",
            "- Filter length: 139 samples (0.556 s)\n",
            "\n"
          ]
        },
        {
          "output_type": "stream",
          "name": "stderr",
          "text": [
            "[Parallel(n_jobs=1)]: Done  17 tasks      | elapsed:    0.0s\n",
            "[Parallel(n_jobs=1)]: Done  71 tasks      | elapsed:    0.0s\n",
            "[Parallel(n_jobs=1)]: Done 161 tasks      | elapsed:    0.0s\n",
            "[Parallel(n_jobs=1)]: Done 287 tasks      | elapsed:    0.0s\n",
            "[Parallel(n_jobs=1)]: Done 449 tasks      | elapsed:    0.1s\n",
            "[Parallel(n_jobs=1)]: Done 647 tasks      | elapsed:    0.1s\n",
            "[Parallel(n_jobs=1)]: Done 881 tasks      | elapsed:    0.2s\n",
            "[Parallel(n_jobs=1)]: Done 1151 tasks      | elapsed:    0.2s\n",
            "[Parallel(n_jobs=1)]: Done 1457 tasks      | elapsed:    0.3s\n",
            "[Parallel(n_jobs=1)]: Done 1799 tasks      | elapsed:    0.4s\n",
            "[Parallel(n_jobs=1)]: Done 2177 tasks      | elapsed:    0.4s\n",
            "[Parallel(n_jobs=1)]: Done 2591 tasks      | elapsed:    0.5s\n",
            "[Parallel(n_jobs=1)]: Done 3041 tasks      | elapsed:    0.6s\n",
            "[Parallel(n_jobs=1)]: Done 3527 tasks      | elapsed:    0.6s\n",
            "[Parallel(n_jobs=1)]: Done 4049 tasks      | elapsed:    0.7s\n",
            "[Parallel(n_jobs=1)]: Done 4607 tasks      | elapsed:    0.8s\n",
            "[Parallel(n_jobs=1)]: Done 5201 tasks      | elapsed:    0.9s\n",
            "[Parallel(n_jobs=1)]: Done 5831 tasks      | elapsed:    1.0s\n",
            "[Parallel(n_jobs=1)]: Done 6497 tasks      | elapsed:    1.1s\n",
            "[Parallel(n_jobs=1)]: Done 7199 tasks      | elapsed:    1.2s\n",
            "[Parallel(n_jobs=1)]: Done 7937 tasks      | elapsed:    1.4s\n",
            "[Parallel(n_jobs=1)]: Done 8711 tasks      | elapsed:    1.5s\n",
            "[Parallel(n_jobs=1)]: Done 9521 tasks      | elapsed:    1.7s\n",
            "[Parallel(n_jobs=1)]: Done 10367 tasks      | elapsed:    1.8s\n",
            "[Parallel(n_jobs=1)]: Done 11249 tasks      | elapsed:    1.9s\n",
            "[Parallel(n_jobs=1)]: Done 12167 tasks      | elapsed:    2.1s\n"
          ]
        },
        {
          "output_type": "stream",
          "name": "stdout",
          "text": [
            "Computing rank from data with rank=None\n",
            "    Using tolerance 31 (2.2e-16 eps * 64 dim * 2.2e+15  max singular value)\n",
            "    Estimated rank (data): 64\n",
            "    data: rank 64 computed from 64 data channels with 0 projectors\n",
            "Reducing data rank from 64 -> 64\n",
            "Estimating class=left_hand covariance using EMPIRICAL\n",
            "Done.\n",
            "Estimating class=right_hand covariance using EMPIRICAL\n",
            "Done.\n",
            "Setting up band-pass filter from 28 - 32 Hz\n",
            "\n",
            "FIR filter parameters\n",
            "---------------------\n",
            "Designing a one-pass, zero-phase, non-causal bandpass filter:\n",
            "- Windowed time-domain design (firwin) method\n",
            "- Hamming window with 0.0194 passband ripple and 53 dB stopband attenuation\n",
            "- Lower passband edge: 28.00\n",
            "- Lower transition bandwidth: 7.00 Hz (-6 dB cutoff frequency: 24.50 Hz)\n",
            "- Upper passband edge: 32.00 Hz\n",
            "- Upper transition bandwidth: 8.00 Hz (-6 dB cutoff frequency: 36.00 Hz)\n",
            "- Filter length: 119 samples (0.476 s)\n",
            "\n"
          ]
        },
        {
          "output_type": "stream",
          "name": "stderr",
          "text": [
            "[Parallel(n_jobs=1)]: Done  17 tasks      | elapsed:    0.0s\n",
            "[Parallel(n_jobs=1)]: Done  71 tasks      | elapsed:    0.0s\n",
            "[Parallel(n_jobs=1)]: Done 161 tasks      | elapsed:    0.1s\n",
            "[Parallel(n_jobs=1)]: Done 287 tasks      | elapsed:    0.1s\n",
            "[Parallel(n_jobs=1)]: Done 449 tasks      | elapsed:    0.2s\n",
            "[Parallel(n_jobs=1)]: Done 647 tasks      | elapsed:    0.2s\n",
            "[Parallel(n_jobs=1)]: Done 881 tasks      | elapsed:    0.3s\n",
            "[Parallel(n_jobs=1)]: Done 1151 tasks      | elapsed:    0.4s\n",
            "[Parallel(n_jobs=1)]: Done 1457 tasks      | elapsed:    0.5s\n",
            "[Parallel(n_jobs=1)]: Done 1799 tasks      | elapsed:    0.6s\n",
            "[Parallel(n_jobs=1)]: Done 2177 tasks      | elapsed:    0.8s\n",
            "[Parallel(n_jobs=1)]: Done 2591 tasks      | elapsed:    0.9s\n",
            "[Parallel(n_jobs=1)]: Done 3041 tasks      | elapsed:    1.1s\n",
            "[Parallel(n_jobs=1)]: Done 3527 tasks      | elapsed:    1.2s\n",
            "[Parallel(n_jobs=1)]: Done 4049 tasks      | elapsed:    1.4s\n",
            "[Parallel(n_jobs=1)]: Done 4607 tasks      | elapsed:    1.5s\n",
            "[Parallel(n_jobs=1)]: Done 5201 tasks      | elapsed:    1.7s\n",
            "[Parallel(n_jobs=1)]: Done 5831 tasks      | elapsed:    1.8s\n",
            "[Parallel(n_jobs=1)]: Done 6497 tasks      | elapsed:    1.9s\n",
            "[Parallel(n_jobs=1)]: Done 7199 tasks      | elapsed:    2.1s\n",
            "[Parallel(n_jobs=1)]: Done 7937 tasks      | elapsed:    2.2s\n",
            "[Parallel(n_jobs=1)]: Done 8711 tasks      | elapsed:    2.4s\n",
            "[Parallel(n_jobs=1)]: Done 9521 tasks      | elapsed:    2.5s\n",
            "[Parallel(n_jobs=1)]: Done 10367 tasks      | elapsed:    2.7s\n",
            "[Parallel(n_jobs=1)]: Done 11249 tasks      | elapsed:    2.9s\n",
            "[Parallel(n_jobs=1)]: Done 12167 tasks      | elapsed:    3.1s\n"
          ]
        },
        {
          "output_type": "stream",
          "name": "stdout",
          "text": [
            "Computing rank from data with rank=None\n",
            "    Using tolerance 21 (2.2e-16 eps * 64 dim * 1.5e+15  max singular value)\n",
            "    Estimated rank (data): 64\n",
            "    data: rank 64 computed from 64 data channels with 0 projectors\n",
            "Reducing data rank from 64 -> 64\n",
            "Estimating class=left_hand covariance using EMPIRICAL\n",
            "Done.\n",
            "Estimating class=right_hand covariance using EMPIRICAL\n",
            "Done.\n",
            "Setting up band-pass filter from 32 - 36 Hz\n",
            "\n",
            "FIR filter parameters\n",
            "---------------------\n",
            "Designing a one-pass, zero-phase, non-causal bandpass filter:\n",
            "- Windowed time-domain design (firwin) method\n",
            "- Hamming window with 0.0194 passband ripple and 53 dB stopband attenuation\n",
            "- Lower passband edge: 32.00\n",
            "- Lower transition bandwidth: 8.00 Hz (-6 dB cutoff frequency: 28.00 Hz)\n",
            "- Upper passband edge: 36.00 Hz\n",
            "- Upper transition bandwidth: 9.00 Hz (-6 dB cutoff frequency: 40.50 Hz)\n",
            "- Filter length: 105 samples (0.420 s)\n",
            "\n"
          ]
        },
        {
          "output_type": "stream",
          "name": "stderr",
          "text": [
            "[Parallel(n_jobs=1)]: Done  17 tasks      | elapsed:    0.0s\n",
            "[Parallel(n_jobs=1)]: Done  71 tasks      | elapsed:    0.0s\n",
            "[Parallel(n_jobs=1)]: Done 161 tasks      | elapsed:    0.0s\n",
            "[Parallel(n_jobs=1)]: Done 287 tasks      | elapsed:    0.1s\n",
            "[Parallel(n_jobs=1)]: Done 449 tasks      | elapsed:    0.1s\n",
            "[Parallel(n_jobs=1)]: Done 647 tasks      | elapsed:    0.1s\n",
            "[Parallel(n_jobs=1)]: Done 881 tasks      | elapsed:    0.2s\n",
            "[Parallel(n_jobs=1)]: Done 1151 tasks      | elapsed:    0.2s\n",
            "[Parallel(n_jobs=1)]: Done 1457 tasks      | elapsed:    0.3s\n",
            "[Parallel(n_jobs=1)]: Done 1799 tasks      | elapsed:    0.4s\n",
            "[Parallel(n_jobs=1)]: Done 2177 tasks      | elapsed:    0.5s\n",
            "[Parallel(n_jobs=1)]: Done 2591 tasks      | elapsed:    0.5s\n",
            "[Parallel(n_jobs=1)]: Done 3041 tasks      | elapsed:    0.6s\n",
            "[Parallel(n_jobs=1)]: Done 3527 tasks      | elapsed:    0.7s\n",
            "[Parallel(n_jobs=1)]: Done 4049 tasks      | elapsed:    0.8s\n",
            "[Parallel(n_jobs=1)]: Done 4607 tasks      | elapsed:    1.0s\n",
            "[Parallel(n_jobs=1)]: Done 5201 tasks      | elapsed:    1.1s\n",
            "[Parallel(n_jobs=1)]: Done 5831 tasks      | elapsed:    1.2s\n",
            "[Parallel(n_jobs=1)]: Done 6497 tasks      | elapsed:    1.4s\n",
            "[Parallel(n_jobs=1)]: Done 7199 tasks      | elapsed:    1.5s\n",
            "[Parallel(n_jobs=1)]: Done 7937 tasks      | elapsed:    1.7s\n",
            "[Parallel(n_jobs=1)]: Done 8711 tasks      | elapsed:    1.8s\n",
            "[Parallel(n_jobs=1)]: Done 9521 tasks      | elapsed:    2.0s\n",
            "[Parallel(n_jobs=1)]: Done 10367 tasks      | elapsed:    2.3s\n",
            "[Parallel(n_jobs=1)]: Done 11249 tasks      | elapsed:    2.6s\n",
            "[Parallel(n_jobs=1)]: Done 12167 tasks      | elapsed:    2.8s\n"
          ]
        },
        {
          "output_type": "stream",
          "name": "stdout",
          "text": [
            "Computing rank from data with rank=None\n",
            "    Using tolerance 13 (2.2e-16 eps * 64 dim * 9.1e+14  max singular value)\n",
            "    Estimated rank (data): 64\n",
            "    data: rank 64 computed from 64 data channels with 0 projectors\n",
            "Reducing data rank from 64 -> 64\n",
            "Estimating class=left_hand covariance using EMPIRICAL\n",
            "Done.\n",
            "Estimating class=right_hand covariance using EMPIRICAL\n",
            "Done.\n",
            "Setting up band-pass filter from 36 - 40 Hz\n",
            "\n",
            "FIR filter parameters\n",
            "---------------------\n",
            "Designing a one-pass, zero-phase, non-causal bandpass filter:\n",
            "- Windowed time-domain design (firwin) method\n",
            "- Hamming window with 0.0194 passband ripple and 53 dB stopband attenuation\n",
            "- Lower passband edge: 36.00\n",
            "- Lower transition bandwidth: 9.00 Hz (-6 dB cutoff frequency: 31.50 Hz)\n",
            "- Upper passband edge: 40.00 Hz\n",
            "- Upper transition bandwidth: 10.00 Hz (-6 dB cutoff frequency: 45.00 Hz)\n",
            "- Filter length: 93 samples (0.372 s)\n",
            "\n"
          ]
        },
        {
          "output_type": "stream",
          "name": "stderr",
          "text": [
            "[Parallel(n_jobs=1)]: Done  17 tasks      | elapsed:    0.0s\n",
            "[Parallel(n_jobs=1)]: Done  71 tasks      | elapsed:    0.0s\n",
            "[Parallel(n_jobs=1)]: Done 161 tasks      | elapsed:    0.0s\n",
            "[Parallel(n_jobs=1)]: Done 287 tasks      | elapsed:    0.1s\n",
            "[Parallel(n_jobs=1)]: Done 449 tasks      | elapsed:    0.1s\n",
            "[Parallel(n_jobs=1)]: Done 647 tasks      | elapsed:    0.1s\n",
            "[Parallel(n_jobs=1)]: Done 881 tasks      | elapsed:    0.2s\n",
            "[Parallel(n_jobs=1)]: Done 1151 tasks      | elapsed:    0.3s\n",
            "[Parallel(n_jobs=1)]: Done 1457 tasks      | elapsed:    0.3s\n",
            "[Parallel(n_jobs=1)]: Done 1799 tasks      | elapsed:    0.4s\n",
            "[Parallel(n_jobs=1)]: Done 2177 tasks      | elapsed:    0.5s\n",
            "[Parallel(n_jobs=1)]: Done 2591 tasks      | elapsed:    0.6s\n",
            "[Parallel(n_jobs=1)]: Done 3041 tasks      | elapsed:    0.7s\n",
            "[Parallel(n_jobs=1)]: Done 3527 tasks      | elapsed:    0.8s\n",
            "[Parallel(n_jobs=1)]: Done 4049 tasks      | elapsed:    0.9s\n",
            "[Parallel(n_jobs=1)]: Done 4607 tasks      | elapsed:    1.0s\n",
            "[Parallel(n_jobs=1)]: Done 5201 tasks      | elapsed:    1.1s\n",
            "[Parallel(n_jobs=1)]: Done 5831 tasks      | elapsed:    1.2s\n",
            "[Parallel(n_jobs=1)]: Done 6497 tasks      | elapsed:    1.4s\n",
            "[Parallel(n_jobs=1)]: Done 7199 tasks      | elapsed:    1.5s\n",
            "[Parallel(n_jobs=1)]: Done 7937 tasks      | elapsed:    1.7s\n",
            "[Parallel(n_jobs=1)]: Done 8711 tasks      | elapsed:    1.9s\n",
            "[Parallel(n_jobs=1)]: Done 9521 tasks      | elapsed:    2.0s\n",
            "[Parallel(n_jobs=1)]: Done 10367 tasks      | elapsed:    2.2s\n",
            "[Parallel(n_jobs=1)]: Done 11249 tasks      | elapsed:    2.4s\n",
            "[Parallel(n_jobs=1)]: Done 12167 tasks      | elapsed:    2.6s\n"
          ]
        },
        {
          "output_type": "stream",
          "name": "stdout",
          "text": [
            "Computing rank from data with rank=None\n",
            "    Using tolerance 15 (2.2e-16 eps * 64 dim * 1.1e+15  max singular value)\n",
            "    Estimated rank (data): 64\n",
            "    data: rank 64 computed from 64 data channels with 0 projectors\n",
            "Reducing data rank from 64 -> 64\n",
            "Estimating class=left_hand covariance using EMPIRICAL\n",
            "Done.\n",
            "Estimating class=right_hand covariance using EMPIRICAL\n",
            "Done.\n",
            "FBCSP 특징 벡터 크기: (200, 36)\n"
          ]
        }
      ]
    },
    {
      "cell_type": "code",
      "source": [
        "from sklearn.model_selection import train_test_split\n",
        "\n",
        "X_train, X_test, y_train, y_test = train_test_split(X_fbcsp, labels, test_size=0.2, random_state=42)"
      ],
      "metadata": {
        "id": "cw4j0Wx5kBG0"
      },
      "execution_count": 47,
      "outputs": []
    },
    {
      "cell_type": "code",
      "source": [
        "lda = LinearDiscriminantAnalysis()\n",
        "lda.fit(X_train, y_train)\n",
        "y_pred = lda.predict(X_test)\n",
        "\n",
        "from sklearn.metrics import accuracy_score\n",
        "acc = accuracy_score(y_test, y_pred)\n",
        "print(f\"LDA 분류 정확도: {acc:.2f}\")"
      ],
      "metadata": {
        "colab": {
          "base_uri": "https://localhost:8080/"
        },
        "id": "EH1JfktZkBJZ",
        "outputId": "24894a30-55fa-4e2a-890d-c758ba973549"
      },
      "execution_count": 48,
      "outputs": [
        {
          "output_type": "stream",
          "name": "stdout",
          "text": [
            "LDA 분류 정확도: 0.97\n"
          ]
        }
      ]
    },
    {
      "cell_type": "code",
      "source": [
        "print(info)"
      ],
      "metadata": {
        "colab": {
          "base_uri": "https://localhost:8080/"
        },
        "id": "VI8OWeuHqqVv",
        "outputId": "188d60d8-6353-4e94-9c59-7db55b39e527"
      },
      "execution_count": 56,
      "outputs": [
        {
          "output_type": "stream",
          "name": "stdout",
          "text": [
            "<Info | 7 non-empty values\n",
            " bads: []\n",
            " ch_names: Fp1, Fpz, Fp2, AF9, AF7, AF5, AF3, AF1, AFz, AF2, AF4, AF6, AF8, ...\n",
            " chs: 64 EEG\n",
            " custom_ref_applied: False\n",
            " highpass: 0.0 Hz\n",
            " lowpass: 125.0 Hz\n",
            " meas_date: unspecified\n",
            " nchan: 64\n",
            " projs: []\n",
            " sfreq: 250.0 Hz\n",
            ">\n"
          ]
        }
      ]
    },
    {
      "cell_type": "code",
      "source": [
        "fig, axes = plt.subplots(len(freq_bands), 1, figsize=(8, 10))\n",
        "\n",
        "for i, (fmin, fmax) in enumerate(freq_bands):\n",
        "    axes[i].set_title(f\"CSP Pattern {fmin}-{fmax} Hz\")\n",
        "\n",
        "    csp = CSP(n_components=4, log=True)\n",
        "    csp.fit(mne.filter.filter_data(X, 250, fmin, fmax, fir_design='firwin'), labels)\n",
        "\n",
        "    # raw.info 대신 info 사용 (전극 위치가 포함된 정보)\n",
        "\n",
        "    mne.viz.plot_topomap(csp.patterns_[0], raw.info, axes=axes[i], show=False)\n",
        "\n",
        "plt.show()"
      ],
      "metadata": {
        "colab": {
          "base_uri": "https://localhost:8080/",
          "height": 1000
        },
        "id": "bcntP6M7kBL9",
        "outputId": "f9fe1623-fabd-4abc-c240-ae22acd7b991"
      },
      "execution_count": 59,
      "outputs": [
        {
          "output_type": "stream",
          "name": "stdout",
          "text": [
            "Setting up band-pass filter from 4 - 8 Hz\n",
            "\n",
            "FIR filter parameters\n",
            "---------------------\n",
            "Designing a one-pass, zero-phase, non-causal bandpass filter:\n",
            "- Windowed time-domain design (firwin) method\n",
            "- Hamming window with 0.0194 passband ripple and 53 dB stopband attenuation\n",
            "- Lower passband edge: 4.00\n",
            "- Lower transition bandwidth: 2.00 Hz (-6 dB cutoff frequency: 3.00 Hz)\n",
            "- Upper passband edge: 8.00 Hz\n",
            "- Upper transition bandwidth: 2.00 Hz (-6 dB cutoff frequency: 9.00 Hz)\n",
            "- Filter length: 413 samples (1.652 s)\n",
            "\n"
          ]
        },
        {
          "output_type": "stream",
          "name": "stderr",
          "text": [
            "[Parallel(n_jobs=1)]: Done  17 tasks      | elapsed:    0.0s\n",
            "[Parallel(n_jobs=1)]: Done  71 tasks      | elapsed:    0.1s\n",
            "[Parallel(n_jobs=1)]: Done 161 tasks      | elapsed:    0.3s\n",
            "[Parallel(n_jobs=1)]: Done 287 tasks      | elapsed:    0.6s\n",
            "[Parallel(n_jobs=1)]: Done 449 tasks      | elapsed:    1.0s\n",
            "[Parallel(n_jobs=1)]: Done 647 tasks      | elapsed:    1.2s\n",
            "[Parallel(n_jobs=1)]: Done 881 tasks      | elapsed:    1.5s\n",
            "[Parallel(n_jobs=1)]: Done 1151 tasks      | elapsed:    1.7s\n",
            "[Parallel(n_jobs=1)]: Done 1457 tasks      | elapsed:    2.0s\n",
            "[Parallel(n_jobs=1)]: Done 1799 tasks      | elapsed:    2.4s\n",
            "[Parallel(n_jobs=1)]: Done 2177 tasks      | elapsed:    2.8s\n",
            "[Parallel(n_jobs=1)]: Done 2591 tasks      | elapsed:    3.2s\n",
            "[Parallel(n_jobs=1)]: Done 3041 tasks      | elapsed:    3.6s\n",
            "[Parallel(n_jobs=1)]: Done 3527 tasks      | elapsed:    4.0s\n",
            "[Parallel(n_jobs=1)]: Done 4049 tasks      | elapsed:    4.4s\n",
            "[Parallel(n_jobs=1)]: Done 4607 tasks      | elapsed:    4.9s\n",
            "[Parallel(n_jobs=1)]: Done 5201 tasks      | elapsed:    5.7s\n",
            "[Parallel(n_jobs=1)]: Done 5831 tasks      | elapsed:    6.3s\n",
            "[Parallel(n_jobs=1)]: Done 6497 tasks      | elapsed:    7.0s\n",
            "[Parallel(n_jobs=1)]: Done 7199 tasks      | elapsed:    7.7s\n",
            "[Parallel(n_jobs=1)]: Done 7937 tasks      | elapsed:    8.5s\n",
            "[Parallel(n_jobs=1)]: Done 8711 tasks      | elapsed:    9.2s\n",
            "[Parallel(n_jobs=1)]: Done 9521 tasks      | elapsed:    9.9s\n",
            "[Parallel(n_jobs=1)]: Done 10367 tasks      | elapsed:   10.7s\n",
            "[Parallel(n_jobs=1)]: Done 11249 tasks      | elapsed:   12.1s\n",
            "[Parallel(n_jobs=1)]: Done 12167 tasks      | elapsed:   13.0s\n"
          ]
        },
        {
          "output_type": "stream",
          "name": "stdout",
          "text": [
            "Computing rank from data with rank=None\n",
            "    Using tolerance 9.3e+03 (2.2e-16 eps * 64 dim * 6.5e+17  max singular value)\n",
            "    Estimated rank (data): 64\n",
            "    data: rank 64 computed from 64 data channels with 0 projectors\n",
            "Reducing data rank from 64 -> 64\n",
            "Estimating class=left_hand covariance using EMPIRICAL\n",
            "Done.\n",
            "Estimating class=right_hand covariance using EMPIRICAL\n",
            "Done.\n",
            "Setting up band-pass filter from 8 - 12 Hz\n",
            "\n",
            "FIR filter parameters\n",
            "---------------------\n",
            "Designing a one-pass, zero-phase, non-causal bandpass filter:\n",
            "- Windowed time-domain design (firwin) method\n",
            "- Hamming window with 0.0194 passband ripple and 53 dB stopband attenuation\n",
            "- Lower passband edge: 8.00\n",
            "- Lower transition bandwidth: 2.00 Hz (-6 dB cutoff frequency: 7.00 Hz)\n",
            "- Upper passband edge: 12.00 Hz\n",
            "- Upper transition bandwidth: 3.00 Hz (-6 dB cutoff frequency: 13.50 Hz)\n",
            "- Filter length: 413 samples (1.652 s)\n",
            "\n"
          ]
        },
        {
          "output_type": "stream",
          "name": "stderr",
          "text": [
            "[Parallel(n_jobs=1)]: Done  17 tasks      | elapsed:    0.0s\n",
            "[Parallel(n_jobs=1)]: Done  71 tasks      | elapsed:    0.0s\n",
            "[Parallel(n_jobs=1)]: Done 161 tasks      | elapsed:    0.1s\n",
            "[Parallel(n_jobs=1)]: Done 287 tasks      | elapsed:    0.1s\n",
            "[Parallel(n_jobs=1)]: Done 449 tasks      | elapsed:    0.2s\n",
            "[Parallel(n_jobs=1)]: Done 647 tasks      | elapsed:    0.2s\n",
            "[Parallel(n_jobs=1)]: Done 881 tasks      | elapsed:    0.3s\n",
            "[Parallel(n_jobs=1)]: Done 1151 tasks      | elapsed:    0.4s\n",
            "[Parallel(n_jobs=1)]: Done 1457 tasks      | elapsed:    0.5s\n",
            "[Parallel(n_jobs=1)]: Done 1799 tasks      | elapsed:    0.6s\n",
            "[Parallel(n_jobs=1)]: Done 2177 tasks      | elapsed:    0.7s\n",
            "[Parallel(n_jobs=1)]: Done 2591 tasks      | elapsed:    0.9s\n",
            "[Parallel(n_jobs=1)]: Done 3041 tasks      | elapsed:    1.0s\n",
            "[Parallel(n_jobs=1)]: Done 3527 tasks      | elapsed:    1.2s\n",
            "[Parallel(n_jobs=1)]: Done 4049 tasks      | elapsed:    1.4s\n",
            "[Parallel(n_jobs=1)]: Done 4607 tasks      | elapsed:    1.6s\n",
            "[Parallel(n_jobs=1)]: Done 5201 tasks      | elapsed:    1.8s\n",
            "[Parallel(n_jobs=1)]: Done 5831 tasks      | elapsed:    2.0s\n",
            "[Parallel(n_jobs=1)]: Done 6497 tasks      | elapsed:    2.2s\n",
            "[Parallel(n_jobs=1)]: Done 7199 tasks      | elapsed:    2.4s\n",
            "[Parallel(n_jobs=1)]: Done 7937 tasks      | elapsed:    2.8s\n",
            "[Parallel(n_jobs=1)]: Done 8711 tasks      | elapsed:    3.2s\n",
            "[Parallel(n_jobs=1)]: Done 9521 tasks      | elapsed:    3.6s\n",
            "[Parallel(n_jobs=1)]: Done 10367 tasks      | elapsed:    4.0s\n",
            "[Parallel(n_jobs=1)]: Done 11249 tasks      | elapsed:    4.5s\n",
            "[Parallel(n_jobs=1)]: Done 12167 tasks      | elapsed:    5.0s\n"
          ]
        },
        {
          "output_type": "stream",
          "name": "stdout",
          "text": [
            "Computing rank from data with rank=None\n",
            "    Using tolerance 3.7e+03 (2.2e-16 eps * 64 dim * 2.6e+17  max singular value)\n",
            "    Estimated rank (data): 64\n",
            "    data: rank 64 computed from 64 data channels with 0 projectors\n",
            "Reducing data rank from 64 -> 64\n",
            "Estimating class=left_hand covariance using EMPIRICAL\n",
            "Done.\n",
            "Estimating class=right_hand covariance using EMPIRICAL\n",
            "Done.\n",
            "Setting up band-pass filter from 12 - 16 Hz\n",
            "\n",
            "FIR filter parameters\n",
            "---------------------\n",
            "Designing a one-pass, zero-phase, non-causal bandpass filter:\n",
            "- Windowed time-domain design (firwin) method\n",
            "- Hamming window with 0.0194 passband ripple and 53 dB stopband attenuation\n",
            "- Lower passband edge: 12.00\n",
            "- Lower transition bandwidth: 3.00 Hz (-6 dB cutoff frequency: 10.50 Hz)\n",
            "- Upper passband edge: 16.00 Hz\n",
            "- Upper transition bandwidth: 4.00 Hz (-6 dB cutoff frequency: 18.00 Hz)\n",
            "- Filter length: 275 samples (1.100 s)\n",
            "\n"
          ]
        },
        {
          "output_type": "stream",
          "name": "stderr",
          "text": [
            "[Parallel(n_jobs=1)]: Done  17 tasks      | elapsed:    0.0s\n",
            "[Parallel(n_jobs=1)]: Done  71 tasks      | elapsed:    0.0s\n",
            "[Parallel(n_jobs=1)]: Done 161 tasks      | elapsed:    0.0s\n",
            "[Parallel(n_jobs=1)]: Done 287 tasks      | elapsed:    0.1s\n",
            "[Parallel(n_jobs=1)]: Done 449 tasks      | elapsed:    0.1s\n",
            "[Parallel(n_jobs=1)]: Done 647 tasks      | elapsed:    0.2s\n",
            "[Parallel(n_jobs=1)]: Done 881 tasks      | elapsed:    0.2s\n",
            "[Parallel(n_jobs=1)]: Done 1151 tasks      | elapsed:    0.3s\n",
            "[Parallel(n_jobs=1)]: Done 1457 tasks      | elapsed:    0.4s\n",
            "[Parallel(n_jobs=1)]: Done 1799 tasks      | elapsed:    0.5s\n",
            "[Parallel(n_jobs=1)]: Done 2177 tasks      | elapsed:    0.6s\n",
            "[Parallel(n_jobs=1)]: Done 2591 tasks      | elapsed:    0.8s\n",
            "[Parallel(n_jobs=1)]: Done 3041 tasks      | elapsed:    0.9s\n",
            "[Parallel(n_jobs=1)]: Done 3527 tasks      | elapsed:    1.0s\n",
            "[Parallel(n_jobs=1)]: Done 4049 tasks      | elapsed:    1.2s\n",
            "[Parallel(n_jobs=1)]: Done 4607 tasks      | elapsed:    1.3s\n",
            "[Parallel(n_jobs=1)]: Done 5201 tasks      | elapsed:    1.5s\n",
            "[Parallel(n_jobs=1)]: Done 5831 tasks      | elapsed:    1.6s\n",
            "[Parallel(n_jobs=1)]: Done 6497 tasks      | elapsed:    1.8s\n",
            "[Parallel(n_jobs=1)]: Done 7199 tasks      | elapsed:    2.0s\n",
            "[Parallel(n_jobs=1)]: Done 7937 tasks      | elapsed:    2.2s\n",
            "[Parallel(n_jobs=1)]: Done 8711 tasks      | elapsed:    2.4s\n",
            "[Parallel(n_jobs=1)]: Done 9521 tasks      | elapsed:    2.6s\n",
            "[Parallel(n_jobs=1)]: Done 10367 tasks      | elapsed:    2.9s\n",
            "[Parallel(n_jobs=1)]: Done 11249 tasks      | elapsed:    3.1s\n",
            "[Parallel(n_jobs=1)]: Done 12167 tasks      | elapsed:    3.3s\n"
          ]
        },
        {
          "output_type": "stream",
          "name": "stdout",
          "text": [
            "Computing rank from data with rank=None\n",
            "    Using tolerance 2e+03 (2.2e-16 eps * 64 dim * 1.4e+17  max singular value)\n",
            "    Estimated rank (data): 64\n",
            "    data: rank 64 computed from 64 data channels with 0 projectors\n",
            "Reducing data rank from 64 -> 64\n",
            "Estimating class=left_hand covariance using EMPIRICAL\n",
            "Done.\n",
            "Estimating class=right_hand covariance using EMPIRICAL\n",
            "Done.\n",
            "Setting up band-pass filter from 16 - 20 Hz\n",
            "\n",
            "FIR filter parameters\n",
            "---------------------\n",
            "Designing a one-pass, zero-phase, non-causal bandpass filter:\n",
            "- Windowed time-domain design (firwin) method\n",
            "- Hamming window with 0.0194 passband ripple and 53 dB stopband attenuation\n",
            "- Lower passband edge: 16.00\n",
            "- Lower transition bandwidth: 4.00 Hz (-6 dB cutoff frequency: 14.00 Hz)\n",
            "- Upper passband edge: 20.00 Hz\n",
            "- Upper transition bandwidth: 5.00 Hz (-6 dB cutoff frequency: 22.50 Hz)\n",
            "- Filter length: 207 samples (0.828 s)\n",
            "\n"
          ]
        },
        {
          "output_type": "stream",
          "name": "stderr",
          "text": [
            "[Parallel(n_jobs=1)]: Done  17 tasks      | elapsed:    0.0s\n",
            "[Parallel(n_jobs=1)]: Done  71 tasks      | elapsed:    0.0s\n",
            "[Parallel(n_jobs=1)]: Done 161 tasks      | elapsed:    0.1s\n",
            "[Parallel(n_jobs=1)]: Done 287 tasks      | elapsed:    0.1s\n",
            "[Parallel(n_jobs=1)]: Done 449 tasks      | elapsed:    0.1s\n",
            "[Parallel(n_jobs=1)]: Done 647 tasks      | elapsed:    0.2s\n",
            "[Parallel(n_jobs=1)]: Done 881 tasks      | elapsed:    0.3s\n",
            "[Parallel(n_jobs=1)]: Done 1151 tasks      | elapsed:    0.3s\n",
            "[Parallel(n_jobs=1)]: Done 1457 tasks      | elapsed:    0.4s\n",
            "[Parallel(n_jobs=1)]: Done 1799 tasks      | elapsed:    0.5s\n",
            "[Parallel(n_jobs=1)]: Done 2177 tasks      | elapsed:    0.6s\n",
            "[Parallel(n_jobs=1)]: Done 2591 tasks      | elapsed:    0.7s\n",
            "[Parallel(n_jobs=1)]: Done 3041 tasks      | elapsed:    0.8s\n",
            "[Parallel(n_jobs=1)]: Done 3527 tasks      | elapsed:    0.9s\n",
            "[Parallel(n_jobs=1)]: Done 4049 tasks      | elapsed:    1.1s\n",
            "[Parallel(n_jobs=1)]: Done 4607 tasks      | elapsed:    1.3s\n",
            "[Parallel(n_jobs=1)]: Done 5201 tasks      | elapsed:    1.4s\n",
            "[Parallel(n_jobs=1)]: Done 5831 tasks      | elapsed:    1.6s\n",
            "[Parallel(n_jobs=1)]: Done 6497 tasks      | elapsed:    1.8s\n",
            "[Parallel(n_jobs=1)]: Done 7199 tasks      | elapsed:    1.9s\n",
            "[Parallel(n_jobs=1)]: Done 7937 tasks      | elapsed:    2.1s\n",
            "[Parallel(n_jobs=1)]: Done 8711 tasks      | elapsed:    2.4s\n",
            "[Parallel(n_jobs=1)]: Done 9521 tasks      | elapsed:    2.6s\n",
            "[Parallel(n_jobs=1)]: Done 10367 tasks      | elapsed:    2.8s\n",
            "[Parallel(n_jobs=1)]: Done 11249 tasks      | elapsed:    3.0s\n",
            "[Parallel(n_jobs=1)]: Done 12167 tasks      | elapsed:    3.3s\n"
          ]
        },
        {
          "output_type": "stream",
          "name": "stdout",
          "text": [
            "Computing rank from data with rank=None\n",
            "    Using tolerance 6.6e+02 (2.2e-16 eps * 64 dim * 4.7e+16  max singular value)\n",
            "    Estimated rank (data): 64\n",
            "    data: rank 64 computed from 64 data channels with 0 projectors\n",
            "Reducing data rank from 64 -> 64\n",
            "Estimating class=left_hand covariance using EMPIRICAL\n",
            "Done.\n",
            "Estimating class=right_hand covariance using EMPIRICAL\n",
            "Done.\n",
            "Setting up band-pass filter from 20 - 24 Hz\n",
            "\n",
            "FIR filter parameters\n",
            "---------------------\n",
            "Designing a one-pass, zero-phase, non-causal bandpass filter:\n",
            "- Windowed time-domain design (firwin) method\n",
            "- Hamming window with 0.0194 passband ripple and 53 dB stopband attenuation\n",
            "- Lower passband edge: 20.00\n",
            "- Lower transition bandwidth: 5.00 Hz (-6 dB cutoff frequency: 17.50 Hz)\n",
            "- Upper passband edge: 24.00 Hz\n",
            "- Upper transition bandwidth: 6.00 Hz (-6 dB cutoff frequency: 27.00 Hz)\n",
            "- Filter length: 165 samples (0.660 s)\n",
            "\n"
          ]
        },
        {
          "output_type": "stream",
          "name": "stderr",
          "text": [
            "[Parallel(n_jobs=1)]: Done  17 tasks      | elapsed:    0.0s\n",
            "[Parallel(n_jobs=1)]: Done  71 tasks      | elapsed:    0.0s\n",
            "[Parallel(n_jobs=1)]: Done 161 tasks      | elapsed:    0.1s\n",
            "[Parallel(n_jobs=1)]: Done 287 tasks      | elapsed:    0.1s\n",
            "[Parallel(n_jobs=1)]: Done 449 tasks      | elapsed:    0.1s\n",
            "[Parallel(n_jobs=1)]: Done 647 tasks      | elapsed:    0.2s\n",
            "[Parallel(n_jobs=1)]: Done 881 tasks      | elapsed:    0.2s\n",
            "[Parallel(n_jobs=1)]: Done 1151 tasks      | elapsed:    0.3s\n",
            "[Parallel(n_jobs=1)]: Done 1457 tasks      | elapsed:    0.4s\n",
            "[Parallel(n_jobs=1)]: Done 1799 tasks      | elapsed:    0.5s\n",
            "[Parallel(n_jobs=1)]: Done 2177 tasks      | elapsed:    0.6s\n",
            "[Parallel(n_jobs=1)]: Done 2591 tasks      | elapsed:    0.7s\n",
            "[Parallel(n_jobs=1)]: Done 3041 tasks      | elapsed:    0.8s\n",
            "[Parallel(n_jobs=1)]: Done 3527 tasks      | elapsed:    0.9s\n",
            "[Parallel(n_jobs=1)]: Done 4049 tasks      | elapsed:    1.1s\n",
            "[Parallel(n_jobs=1)]: Done 4607 tasks      | elapsed:    1.2s\n",
            "[Parallel(n_jobs=1)]: Done 5201 tasks      | elapsed:    1.3s\n",
            "[Parallel(n_jobs=1)]: Done 5831 tasks      | elapsed:    1.5s\n",
            "[Parallel(n_jobs=1)]: Done 6497 tasks      | elapsed:    1.6s\n",
            "[Parallel(n_jobs=1)]: Done 7199 tasks      | elapsed:    1.8s\n",
            "[Parallel(n_jobs=1)]: Done 7937 tasks      | elapsed:    2.0s\n",
            "[Parallel(n_jobs=1)]: Done 8711 tasks      | elapsed:    2.2s\n",
            "[Parallel(n_jobs=1)]: Done 9521 tasks      | elapsed:    2.5s\n",
            "[Parallel(n_jobs=1)]: Done 10367 tasks      | elapsed:    2.7s\n",
            "[Parallel(n_jobs=1)]: Done 11249 tasks      | elapsed:    3.0s\n",
            "[Parallel(n_jobs=1)]: Done 12167 tasks      | elapsed:    3.2s\n"
          ]
        },
        {
          "output_type": "stream",
          "name": "stdout",
          "text": [
            "Computing rank from data with rank=None\n",
            "    Using tolerance 1.1e+02 (2.2e-16 eps * 64 dim * 8e+15  max singular value)\n",
            "    Estimated rank (data): 64\n",
            "    data: rank 64 computed from 64 data channels with 0 projectors\n",
            "Reducing data rank from 64 -> 64\n",
            "Estimating class=left_hand covariance using EMPIRICAL\n",
            "Done.\n",
            "Estimating class=right_hand covariance using EMPIRICAL\n",
            "Done.\n",
            "Setting up band-pass filter from 24 - 28 Hz\n",
            "\n",
            "FIR filter parameters\n",
            "---------------------\n",
            "Designing a one-pass, zero-phase, non-causal bandpass filter:\n",
            "- Windowed time-domain design (firwin) method\n",
            "- Hamming window with 0.0194 passband ripple and 53 dB stopband attenuation\n",
            "- Lower passband edge: 24.00\n",
            "- Lower transition bandwidth: 6.00 Hz (-6 dB cutoff frequency: 21.00 Hz)\n",
            "- Upper passband edge: 28.00 Hz\n",
            "- Upper transition bandwidth: 7.00 Hz (-6 dB cutoff frequency: 31.50 Hz)\n",
            "- Filter length: 139 samples (0.556 s)\n",
            "\n"
          ]
        },
        {
          "output_type": "stream",
          "name": "stderr",
          "text": [
            "[Parallel(n_jobs=1)]: Done  17 tasks      | elapsed:    0.0s\n",
            "[Parallel(n_jobs=1)]: Done  71 tasks      | elapsed:    0.0s\n",
            "[Parallel(n_jobs=1)]: Done 161 tasks      | elapsed:    0.0s\n",
            "[Parallel(n_jobs=1)]: Done 287 tasks      | elapsed:    0.1s\n",
            "[Parallel(n_jobs=1)]: Done 449 tasks      | elapsed:    0.1s\n",
            "[Parallel(n_jobs=1)]: Done 647 tasks      | elapsed:    0.1s\n",
            "[Parallel(n_jobs=1)]: Done 881 tasks      | elapsed:    0.2s\n",
            "[Parallel(n_jobs=1)]: Done 1151 tasks      | elapsed:    0.2s\n",
            "[Parallel(n_jobs=1)]: Done 1457 tasks      | elapsed:    0.3s\n",
            "[Parallel(n_jobs=1)]: Done 1799 tasks      | elapsed:    0.3s\n",
            "[Parallel(n_jobs=1)]: Done 2177 tasks      | elapsed:    0.4s\n",
            "[Parallel(n_jobs=1)]: Done 2591 tasks      | elapsed:    0.4s\n",
            "[Parallel(n_jobs=1)]: Done 3041 tasks      | elapsed:    0.5s\n",
            "[Parallel(n_jobs=1)]: Done 3527 tasks      | elapsed:    0.6s\n",
            "[Parallel(n_jobs=1)]: Done 4049 tasks      | elapsed:    0.7s\n",
            "[Parallel(n_jobs=1)]: Done 4607 tasks      | elapsed:    0.8s\n",
            "[Parallel(n_jobs=1)]: Done 5201 tasks      | elapsed:    0.9s\n",
            "[Parallel(n_jobs=1)]: Done 5831 tasks      | elapsed:    1.0s\n",
            "[Parallel(n_jobs=1)]: Done 6497 tasks      | elapsed:    1.1s\n",
            "[Parallel(n_jobs=1)]: Done 7199 tasks      | elapsed:    1.2s\n",
            "[Parallel(n_jobs=1)]: Done 7937 tasks      | elapsed:    1.4s\n",
            "[Parallel(n_jobs=1)]: Done 8711 tasks      | elapsed:    1.5s\n",
            "[Parallel(n_jobs=1)]: Done 9521 tasks      | elapsed:    1.6s\n",
            "[Parallel(n_jobs=1)]: Done 10367 tasks      | elapsed:    1.7s\n",
            "[Parallel(n_jobs=1)]: Done 11249 tasks      | elapsed:    1.9s\n",
            "[Parallel(n_jobs=1)]: Done 12167 tasks      | elapsed:    2.1s\n"
          ]
        },
        {
          "output_type": "stream",
          "name": "stdout",
          "text": [
            "Computing rank from data with rank=None\n",
            "    Using tolerance 31 (2.2e-16 eps * 64 dim * 2.2e+15  max singular value)\n",
            "    Estimated rank (data): 64\n",
            "    data: rank 64 computed from 64 data channels with 0 projectors\n",
            "Reducing data rank from 64 -> 64\n",
            "Estimating class=left_hand covariance using EMPIRICAL\n",
            "Done.\n",
            "Estimating class=right_hand covariance using EMPIRICAL\n",
            "Done.\n",
            "Setting up band-pass filter from 28 - 32 Hz\n",
            "\n",
            "FIR filter parameters\n",
            "---------------------\n",
            "Designing a one-pass, zero-phase, non-causal bandpass filter:\n",
            "- Windowed time-domain design (firwin) method\n",
            "- Hamming window with 0.0194 passband ripple and 53 dB stopband attenuation\n",
            "- Lower passband edge: 28.00\n",
            "- Lower transition bandwidth: 7.00 Hz (-6 dB cutoff frequency: 24.50 Hz)\n",
            "- Upper passband edge: 32.00 Hz\n",
            "- Upper transition bandwidth: 8.00 Hz (-6 dB cutoff frequency: 36.00 Hz)\n",
            "- Filter length: 119 samples (0.476 s)\n",
            "\n"
          ]
        },
        {
          "output_type": "stream",
          "name": "stderr",
          "text": [
            "[Parallel(n_jobs=1)]: Done  17 tasks      | elapsed:    0.0s\n",
            "[Parallel(n_jobs=1)]: Done  71 tasks      | elapsed:    0.0s\n",
            "[Parallel(n_jobs=1)]: Done 161 tasks      | elapsed:    0.1s\n",
            "[Parallel(n_jobs=1)]: Done 287 tasks      | elapsed:    0.1s\n",
            "[Parallel(n_jobs=1)]: Done 449 tasks      | elapsed:    0.2s\n",
            "[Parallel(n_jobs=1)]: Done 647 tasks      | elapsed:    0.3s\n",
            "[Parallel(n_jobs=1)]: Done 881 tasks      | elapsed:    0.3s\n",
            "[Parallel(n_jobs=1)]: Done 1151 tasks      | elapsed:    0.4s\n",
            "[Parallel(n_jobs=1)]: Done 1457 tasks      | elapsed:    0.6s\n",
            "[Parallel(n_jobs=1)]: Done 1799 tasks      | elapsed:    0.7s\n",
            "[Parallel(n_jobs=1)]: Done 2177 tasks      | elapsed:    0.8s\n",
            "[Parallel(n_jobs=1)]: Done 2591 tasks      | elapsed:    1.0s\n",
            "[Parallel(n_jobs=1)]: Done 3041 tasks      | elapsed:    1.1s\n",
            "[Parallel(n_jobs=1)]: Done 3527 tasks      | elapsed:    1.2s\n",
            "[Parallel(n_jobs=1)]: Done 4049 tasks      | elapsed:    1.3s\n",
            "[Parallel(n_jobs=1)]: Done 4607 tasks      | elapsed:    1.4s\n",
            "[Parallel(n_jobs=1)]: Done 5201 tasks      | elapsed:    1.6s\n",
            "[Parallel(n_jobs=1)]: Done 5831 tasks      | elapsed:    1.7s\n",
            "[Parallel(n_jobs=1)]: Done 6497 tasks      | elapsed:    1.8s\n",
            "[Parallel(n_jobs=1)]: Done 7199 tasks      | elapsed:    2.0s\n",
            "[Parallel(n_jobs=1)]: Done 7937 tasks      | elapsed:    2.2s\n",
            "[Parallel(n_jobs=1)]: Done 8711 tasks      | elapsed:    2.3s\n",
            "[Parallel(n_jobs=1)]: Done 9521 tasks      | elapsed:    2.6s\n",
            "[Parallel(n_jobs=1)]: Done 10367 tasks      | elapsed:    2.8s\n",
            "[Parallel(n_jobs=1)]: Done 11249 tasks      | elapsed:    2.9s\n",
            "[Parallel(n_jobs=1)]: Done 12167 tasks      | elapsed:    3.1s\n"
          ]
        },
        {
          "output_type": "stream",
          "name": "stdout",
          "text": [
            "Computing rank from data with rank=None\n",
            "    Using tolerance 21 (2.2e-16 eps * 64 dim * 1.5e+15  max singular value)\n",
            "    Estimated rank (data): 64\n",
            "    data: rank 64 computed from 64 data channels with 0 projectors\n",
            "Reducing data rank from 64 -> 64\n",
            "Estimating class=left_hand covariance using EMPIRICAL\n",
            "Done.\n",
            "Estimating class=right_hand covariance using EMPIRICAL\n",
            "Done.\n",
            "Setting up band-pass filter from 32 - 36 Hz\n",
            "\n",
            "FIR filter parameters\n",
            "---------------------\n",
            "Designing a one-pass, zero-phase, non-causal bandpass filter:\n",
            "- Windowed time-domain design (firwin) method\n",
            "- Hamming window with 0.0194 passband ripple and 53 dB stopband attenuation\n",
            "- Lower passband edge: 32.00\n",
            "- Lower transition bandwidth: 8.00 Hz (-6 dB cutoff frequency: 28.00 Hz)\n",
            "- Upper passband edge: 36.00 Hz\n",
            "- Upper transition bandwidth: 9.00 Hz (-6 dB cutoff frequency: 40.50 Hz)\n",
            "- Filter length: 105 samples (0.420 s)\n",
            "\n"
          ]
        },
        {
          "output_type": "stream",
          "name": "stderr",
          "text": [
            "[Parallel(n_jobs=1)]: Done  17 tasks      | elapsed:    0.0s\n",
            "[Parallel(n_jobs=1)]: Done  71 tasks      | elapsed:    0.0s\n",
            "[Parallel(n_jobs=1)]: Done 161 tasks      | elapsed:    0.0s\n",
            "[Parallel(n_jobs=1)]: Done 287 tasks      | elapsed:    0.1s\n",
            "[Parallel(n_jobs=1)]: Done 449 tasks      | elapsed:    0.1s\n",
            "[Parallel(n_jobs=1)]: Done 647 tasks      | elapsed:    0.2s\n",
            "[Parallel(n_jobs=1)]: Done 881 tasks      | elapsed:    0.2s\n",
            "[Parallel(n_jobs=1)]: Done 1151 tasks      | elapsed:    0.3s\n",
            "[Parallel(n_jobs=1)]: Done 1457 tasks      | elapsed:    0.3s\n",
            "[Parallel(n_jobs=1)]: Done 1799 tasks      | elapsed:    0.4s\n",
            "[Parallel(n_jobs=1)]: Done 2177 tasks      | elapsed:    0.5s\n",
            "[Parallel(n_jobs=1)]: Done 2591 tasks      | elapsed:    0.6s\n",
            "[Parallel(n_jobs=1)]: Done 3041 tasks      | elapsed:    0.7s\n",
            "[Parallel(n_jobs=1)]: Done 3527 tasks      | elapsed:    0.8s\n",
            "[Parallel(n_jobs=1)]: Done 4049 tasks      | elapsed:    0.9s\n",
            "[Parallel(n_jobs=1)]: Done 4607 tasks      | elapsed:    1.0s\n",
            "[Parallel(n_jobs=1)]: Done 5201 tasks      | elapsed:    1.1s\n",
            "[Parallel(n_jobs=1)]: Done 5831 tasks      | elapsed:    1.3s\n",
            "[Parallel(n_jobs=1)]: Done 6497 tasks      | elapsed:    1.4s\n",
            "[Parallel(n_jobs=1)]: Done 7199 tasks      | elapsed:    1.6s\n",
            "[Parallel(n_jobs=1)]: Done 7937 tasks      | elapsed:    1.7s\n",
            "[Parallel(n_jobs=1)]: Done 8711 tasks      | elapsed:    1.9s\n",
            "[Parallel(n_jobs=1)]: Done 9521 tasks      | elapsed:    2.1s\n",
            "[Parallel(n_jobs=1)]: Done 10367 tasks      | elapsed:    2.3s\n",
            "[Parallel(n_jobs=1)]: Done 11249 tasks      | elapsed:    2.6s\n",
            "[Parallel(n_jobs=1)]: Done 12167 tasks      | elapsed:    2.9s\n"
          ]
        },
        {
          "output_type": "stream",
          "name": "stdout",
          "text": [
            "Computing rank from data with rank=None\n",
            "    Using tolerance 13 (2.2e-16 eps * 64 dim * 9.1e+14  max singular value)\n",
            "    Estimated rank (data): 64\n",
            "    data: rank 64 computed from 64 data channels with 0 projectors\n",
            "Reducing data rank from 64 -> 64\n",
            "Estimating class=left_hand covariance using EMPIRICAL\n",
            "Done.\n",
            "Estimating class=right_hand covariance using EMPIRICAL\n",
            "Done.\n",
            "Setting up band-pass filter from 36 - 40 Hz\n",
            "\n",
            "FIR filter parameters\n",
            "---------------------\n",
            "Designing a one-pass, zero-phase, non-causal bandpass filter:\n",
            "- Windowed time-domain design (firwin) method\n",
            "- Hamming window with 0.0194 passband ripple and 53 dB stopband attenuation\n",
            "- Lower passband edge: 36.00\n",
            "- Lower transition bandwidth: 9.00 Hz (-6 dB cutoff frequency: 31.50 Hz)\n",
            "- Upper passband edge: 40.00 Hz\n",
            "- Upper transition bandwidth: 10.00 Hz (-6 dB cutoff frequency: 45.00 Hz)\n",
            "- Filter length: 93 samples (0.372 s)\n",
            "\n"
          ]
        },
        {
          "output_type": "stream",
          "name": "stderr",
          "text": [
            "[Parallel(n_jobs=1)]: Done  17 tasks      | elapsed:    0.0s\n",
            "[Parallel(n_jobs=1)]: Done  71 tasks      | elapsed:    0.0s\n",
            "[Parallel(n_jobs=1)]: Done 161 tasks      | elapsed:    0.0s\n",
            "[Parallel(n_jobs=1)]: Done 287 tasks      | elapsed:    0.1s\n",
            "[Parallel(n_jobs=1)]: Done 449 tasks      | elapsed:    0.1s\n",
            "[Parallel(n_jobs=1)]: Done 647 tasks      | elapsed:    0.2s\n",
            "[Parallel(n_jobs=1)]: Done 881 tasks      | elapsed:    0.2s\n",
            "[Parallel(n_jobs=1)]: Done 1151 tasks      | elapsed:    0.3s\n",
            "[Parallel(n_jobs=1)]: Done 1457 tasks      | elapsed:    0.4s\n",
            "[Parallel(n_jobs=1)]: Done 1799 tasks      | elapsed:    0.4s\n",
            "[Parallel(n_jobs=1)]: Done 2177 tasks      | elapsed:    0.5s\n",
            "[Parallel(n_jobs=1)]: Done 2591 tasks      | elapsed:    0.6s\n",
            "[Parallel(n_jobs=1)]: Done 3041 tasks      | elapsed:    0.7s\n",
            "[Parallel(n_jobs=1)]: Done 3527 tasks      | elapsed:    0.8s\n",
            "[Parallel(n_jobs=1)]: Done 4049 tasks      | elapsed:    0.9s\n",
            "[Parallel(n_jobs=1)]: Done 4607 tasks      | elapsed:    1.0s\n",
            "[Parallel(n_jobs=1)]: Done 5201 tasks      | elapsed:    1.2s\n",
            "[Parallel(n_jobs=1)]: Done 5831 tasks      | elapsed:    1.3s\n",
            "[Parallel(n_jobs=1)]: Done 6497 tasks      | elapsed:    1.5s\n",
            "[Parallel(n_jobs=1)]: Done 7199 tasks      | elapsed:    1.6s\n",
            "[Parallel(n_jobs=1)]: Done 7937 tasks      | elapsed:    1.8s\n",
            "[Parallel(n_jobs=1)]: Done 8711 tasks      | elapsed:    1.9s\n",
            "[Parallel(n_jobs=1)]: Done 9521 tasks      | elapsed:    2.1s\n",
            "[Parallel(n_jobs=1)]: Done 10367 tasks      | elapsed:    2.3s\n",
            "[Parallel(n_jobs=1)]: Done 11249 tasks      | elapsed:    2.4s\n",
            "[Parallel(n_jobs=1)]: Done 12167 tasks      | elapsed:    2.6s\n"
          ]
        },
        {
          "output_type": "stream",
          "name": "stdout",
          "text": [
            "Computing rank from data with rank=None\n",
            "    Using tolerance 15 (2.2e-16 eps * 64 dim * 1.1e+15  max singular value)\n",
            "    Estimated rank (data): 64\n",
            "    data: rank 64 computed from 64 data channels with 0 projectors\n",
            "Reducing data rank from 64 -> 64\n",
            "Estimating class=left_hand covariance using EMPIRICAL\n",
            "Done.\n",
            "Estimating class=right_hand covariance using EMPIRICAL\n",
            "Done.\n"
          ]
        },
        {
          "output_type": "display_data",
          "data": {
            "text/plain": [
              "<Figure size 800x1000 with 9 Axes>"
            ],
            "image/png": "[encoded data removed]"
          },
          "metadata": {}
        }
      ]
    },
    {
      "cell_type": "code",
      "source": [
        "!git --version"
      ],
      "metadata": {
        "colab": {
          "base_uri": "https://localhost:8080/"
        },
        "id": "F6zj8wtARd2A",
        "outputId": "f3bcadb3-0d20-4ae1-dccc-c6b14a4c34ca"
      },
      "execution_count": 1,
      "outputs": [
        {
          "output_type": "stream",
          "name": "stdout",
          "text": [
            "git version 2.34.1\n"
          ]
        }
      ]
    },
    {
      "cell_type": "code",
      "source": [
        "!git config --global user.name \"hsmai\"\n",
        "!git config --global user.email \"artcodehsm@gmail.com\""
      ],
      "metadata": {
        "id": "vbsp5WQWRj_D"
      },
      "execution_count": 2,
      "outputs": []
    },
    {
      "cell_type": "code",
      "source": [
        "!git clone https://github.com/hsmai/winterurp"
      ],
      "metadata": {
        "colab": {
          "base_uri": "https://localhost:8080/"
        },
        "id": "Mbtm6i-8R7jx",
        "outputId": "6f7fb87f-9e93-43f1-fe7d-2b5bdcb2d782"
      },
      "execution_count": 3,
      "outputs": [
        {
          "output_type": "stream",
          "name": "stdout",
          "text": [
            "Cloning into 'winterurp'...\n",
            "remote: Enumerating objects: 210, done.\u001b[K\n",
            "remote: Counting objects: 100% (67/67), done.\u001b[K\n",
            "remote: Compressing objects: 100% (55/55), done.\u001b[K\n",
            "remote: Total 210 (delta 29), reused 40 (delta 10), pack-reused 143 (from 1)\u001b[K\n",
            "Receiving objects: 100% (210/210), 24.79 MiB | 21.03 MiB/s, done.\n",
            "Resolving deltas: 100% (68/68), done.\n"
          ]
        }
      ]
    }
  ]
}